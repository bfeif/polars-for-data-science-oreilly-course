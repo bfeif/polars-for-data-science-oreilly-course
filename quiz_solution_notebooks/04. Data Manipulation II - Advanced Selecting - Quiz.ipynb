{
 "cells": [
  {
   "cell_type": "markdown",
   "id": "1653908d",
   "metadata": {},
   "source": [
    "# 4. Data Manipulation II - Advanced Selecting - Quiz.ipynb"
   ]
  },
  {
   "cell_type": "markdown",
   "id": "97a37bab",
   "metadata": {},
   "source": [
    "## 4.0. Import `polars` and Load Data"
   ]
  },
  {
   "cell_type": "code",
   "execution_count": 1,
   "id": "9f2da0ab",
   "metadata": {},
   "outputs": [],
   "source": [
    "import polars as pl"
   ]
  },
  {
   "cell_type": "code",
   "execution_count": 2,
   "id": "37f2cb81",
   "metadata": {},
   "outputs": [],
   "source": [
    "df = pl.read_parquet(\"../data/yellow_tripdata_2024-03.parquet\")"
   ]
  },
  {
   "cell_type": "markdown",
   "id": "6e0c0acc-716b-42e9-b598-01f77fa2a605",
   "metadata": {},
   "source": [
    "## 4.1 Question 1: String Columns Count"
   ]
  },
  {
   "cell_type": "markdown",
   "id": "cbaf72a0-349e-4815-8e26-69900c2a16e6",
   "metadata": {},
   "source": [
    "Select all columns from the DataFrame that have the datatype `pl.String`. How many columns are there in the result?"
   ]
  },
  {
   "cell_type": "code",
   "execution_count": 3,
   "id": "ed177cdc-e49b-41ea-969b-55c1a3ce820a",
   "metadata": {},
   "outputs": [
    {
     "name": "stdout",
     "output_type": "stream",
     "text": [
      "(3582628, 1)\n"
     ]
    }
   ],
   "source": [
    "result = (\n",
    "    df\n",
    "    #### YOUR CODE HERE\n",
    "    .select(pl.col(pl.String))\n",
    "    .shape\n",
    ")\n",
    "print(result)"
   ]
  },
  {
   "cell_type": "markdown",
   "id": "c19f63d5-3273-42b2-a2d4-839b0a059a57",
   "metadata": {},
   "source": [
    "1. 1 - correct - Just as in the example in the module, only one column in the DataFrame is a string datatype. See \"Operating on Multiple Columns at the Same Time.\"\n",
    "2. 19 - incorrect - This is the number of the columns in the original DataFrame. It's possible that your `.select()` statement is incorrect? See \"Operating on Multiple Columns at the Same Time.\"\n",
    "3. 3 - incorrect - You may have checked for a datatype other than `pl.String`. See \"Operating on Multiple Columns at the Same Time.\"\n",
    "4. 0 - incorrect - There is at least one column with the `pl.String` datatype. See \"Operating on Multiple Columns at the Same Time.\""
   ]
  },
  {
   "cell_type": "markdown",
   "id": "a8a6e0d9-3b8c-40c2-8352-0259d101f722",
   "metadata": {},
   "source": [
    "## 4.2 Question 2: Int64 Columns Count"
   ]
  },
  {
   "cell_type": "markdown",
   "id": "2f540bdd-a015-49be-adcc-41dc4a84f870",
   "metadata": {},
   "source": [
    "How many columns in the DataFrame have the datatype `pl.Int64`?"
   ]
  },
  {
   "cell_type": "code",
   "execution_count": 4,
   "id": "d4eba47c-6a64-4974-b0a3-b8c056bc967f",
   "metadata": {},
   "outputs": [
    {
     "name": "stdout",
     "output_type": "stream",
     "text": [
      "(3582628, 3)\n"
     ]
    }
   ],
   "source": [
    "result = (\n",
    "    df\n",
    "    #### YOUR CODE HERE\n",
    "    .select(pl.col(pl.Int64))\n",
    "    .shape\n",
    ")\n",
    "print(result)"
   ]
  },
  {
   "cell_type": "markdown",
   "id": "5469d26f-4c80-40b9-8f94-d16dc0355ee5",
   "metadata": {},
   "source": [
    "1. 19 - incorrect - This is the number of columns in the original DataFrame. Your `.select()` statement may be incorrect. See \"Operating on Multiple Columns at the Same Time.\"\n",
    "2. 1 - incorrect - You may have checked for a datatype other than `pl.Int64`. See \"Operating on Multiple Columns at the Same Time.\"\n",
    "3. 3 - correct - Just like the example in the module, three columns in the DataFrame have a `pl.Int64` datatype. See \"Operating on Multiple Columns at the Same Time.\"\n",
    "4. 3582628 - incorrect - This is the number of rows, not the number of columns. See \"Operating on Multiple Columns at the Same Time.\""
   ]
  },
  {
   "cell_type": "markdown",
   "id": "9fcd80f7-c84b-4270-8c00-c674259b9478",
   "metadata": {},
   "source": [
    "## 4.3 Question 3: Rows with Zero Float64 Values"
   ]
  },
  {
   "cell_type": "markdown",
   "id": "4a3c9de2-02a1-47c9-85b7-a7232d8bf841",
   "metadata": {},
   "source": [
    "What fraction of rows have at least one of their `pl.Float64` columns equal to exactly 0? (Hint: Use `pl.any_horizontal()`.)"
   ]
  },
  {
   "cell_type": "code",
   "execution_count": 5,
   "id": "f6a12ad8-c16c-46ed-a19c-edc0226baa7f",
   "metadata": {},
   "outputs": [
    {
     "name": "stdout",
     "output_type": "stream",
     "text": [
      "shape: (1, 1)\n",
      "┌──────────┐\n",
      "│ fraction │\n",
      "│ ---      │\n",
      "│ f64      │\n",
      "╞══════════╡\n",
      "│ 0.0      │\n",
      "└──────────┘\n"
     ]
    }
   ],
   "source": [
    "result = (\n",
    "    df\n",
    "    .select(\n",
    "        pl.any_horizontal(pl.col(pl.Float32)).eq(0).mean().alias(\"fraction\")\n",
    "    )\n",
    ")\n",
    "print(result)"
   ]
  },
  {
   "cell_type": "markdown",
   "id": "79dc709d-ebae-424d-9cb4-225383287768",
   "metadata": {},
   "source": [
    "1. 0 - incorrect - You may not have used the `pl.Float64` datatype. See \"Operating on Multiple Columns at the Same Time.\"\n",
    "2. 0.000076 - correct - There are a few ways you could have gotten to this answer. The most straightforward is to construct a column expression like 'has at least one null float64 value' and take the `.mean()`. See \"Operating on Multiple Columns at the Same Time.\"\n",
    "3. 0.50 - incorrect - You may not have used the correct datatype. See \"Operating on Multiple Columns at the Same Time.\"\n",
    "4. 1.0 - incorrect - The value 1.0 represents all the rows! Check your code again—you may have the aggregation incorrect. See \"Operating on Multiple Columns at the Same Time.\""
   ]
  },
  {
   "cell_type": "markdown",
   "id": "f3981ad1-52fb-4fe4-9a14-583b40ae043b",
   "metadata": {},
   "source": [
    "## 4.4 Question 4: Highest Tip and Fare for New Column"
   ]
  },
  {
   "cell_type": "markdown",
   "id": "6ad8c434-b385-4b01-a501-3337e4c4dc45",
   "metadata": {},
   "source": [
    "Create a new column called `tip_amount_plus_fare_amount`. Then sort the DataFrame by this new column in descending order. What are the `tip_amount` and `fare_amount` for the highest `tip_amount_plus_fare_amount`?"
   ]
  },
  {
   "cell_type": "code",
   "execution_count": 6,
   "id": "c6cb58aa-65a4-425a-9f43-714fbcbfe921",
   "metadata": {},
   "outputs": [
    {
     "name": "stdout",
     "output_type": "stream",
     "text": [
      "shape: (3_582_628, 3)\n",
      "┌────────────┬─────────────┬─────────────────────────────┐\n",
      "│ tip_amount ┆ fare_amount ┆ tip_amount_plus_fare_amount │\n",
      "│ ---        ┆ ---         ┆ ---                         │\n",
      "│ f64        ┆ f64         ┆ f64                         │\n",
      "╞════════════╪═════════════╪═════════════════════════════╡\n",
      "│ 999.99     ┆ 17.0        ┆ 1016.99                     │\n",
      "│ 0.0        ┆ 900.0       ┆ 900.0                       │\n",
      "│ 0.0        ┆ 850.0       ┆ 850.0                       │\n",
      "│ 0.0        ┆ 840.0       ┆ 840.0                       │\n",
      "│ 0.0        ┆ 800.0       ┆ 800.0                       │\n",
      "│ …          ┆ …           ┆ …                           │\n",
      "│ 0.0        ┆ -558.8      ┆ -558.8                      │\n",
      "│ 1.0        ┆ -600.0      ┆ -599.0                      │\n",
      "│ 0.0        ┆ -619.7      ┆ -619.7                      │\n",
      "│ 161.2      ┆ -800.0      ┆ -638.8                      │\n",
      "│ 0.01       ┆ -800.0      ┆ -799.99                     │\n",
      "└────────────┴─────────────┴─────────────────────────────┘\n"
     ]
    }
   ],
   "source": [
    "result = (\n",
    "    df\n",
    "    #### YOUR CODE HERE\n",
    "    .select(\n",
    "        pl.col([\"tip_amount\", \"fare_amount\"]),\n",
    "        (pl.col(\"tip_amount\") + pl.col(\"fare_amount\")).alias(\"tip_amount_plus_fare_amount\")\n",
    "    )\n",
    "    .sort(by=\"tip_amount_plus_fare_amount\", descending=True)\n",
    ")\n",
    "print(result)"
   ]
  },
  {
   "cell_type": "markdown",
   "id": "f52717e6-49a8-4685-8fc3-608a7b7a8ae9",
   "metadata": {},
   "source": [
    "1. `tip_amount = 17.0, fare_amount = 999.99` - incorrect - If you got this result, you probably have the two columns mixed up. See \"Adding New Columns with .with_columns().\"\n",
    "2. `tip_amount = 0.01, fare_amount = -800.0` - incorrect - Make sure to sort in descending order, not ascending. See \"Adding New Columns with .with_columns().\"\n",
    "3. `tip_amount = 999.99, fare_amount = 17.0` - correct - This is a very high tip amount! It's likely some noise; there is a lot of that in the dataset. See \"Adding New Columns with .with_columns().\"\n",
    "4. `tip_amount = 999.99, fare_amount = 999.99` - incorrect - If you got this result, you're probably not computing the column `tip_amount_plus_fare_amount` correctly. See \"Adding New Columns with .with_columns().\""
   ]
  },
  {
   "cell_type": "markdown",
   "id": "d09514d5-efac-4907-96fd-2b3d88d43cd8",
   "metadata": {},
   "source": [
    "## 4.5 Question 5: Same Pickup-Dropoff Fraction"
   ]
  },
  {
   "cell_type": "markdown",
   "id": "b274fa1d-d864-4cb4-b1e4-64272f1fe194",
   "metadata": {},
   "source": [
    "What fraction of rides have the same location for pickup and dropoff?"
   ]
  },
  {
   "cell_type": "code",
   "execution_count": 7,
   "id": "2d7e9a0b-f218-4b6c-b501-47b719065d9a",
   "metadata": {},
   "outputs": [
    {
     "name": "stdout",
     "output_type": "stream",
     "text": [
      "shape: (1, 1)\n",
      "┌──────────────┐\n",
      "│ DOLocationID │\n",
      "│ ---          │\n",
      "│ f64          │\n",
      "╞══════════════╡\n",
      "│ 0.050603     │\n",
      "└──────────────┘\n"
     ]
    }
   ],
   "source": [
    "result = (\n",
    "    df\n",
    "    #### YOUR CODE HERE\n",
    "    .select(pl.col(\"DOLocationID\").eq(pl.col(\"PULocationID\")).mean())\n",
    ")\n",
    "print(result)"
   ]
  },
  {
   "cell_type": "markdown",
   "id": "206255cf-4f49-4ec9-9a36-6ad17238b04d",
   "metadata": {},
   "source": [
    "1. 0.949397 - incorrect - Close... the answer is actually 1 minus this number. Check your code again. See \"Adding New Columns with .with_columns().\"\n",
    "2. 0.050603 - correct - There are a few ways you could arrive at this answer. The most straightforward is to construct a column expression of 'same-pickup-dropoff' and take the `.mean()`. See \"Adding New Columns with .with_columns().\"\n",
    "3. 1.0 - incorrect - A fraction of 1.0 would mean that all the rides have the same pickup and dropoff location. See \"Adding New Columns with .with_columns().\"\n",
    "4. 0.0 - incorrect - An answer of zero would mean that none of the rides have the same pickup and dropoff location. See \"Adding New Columns with .with_columns().\""
   ]
  },
  {
   "cell_type": "markdown",
   "id": "c6f7e4bf-298e-4216-97af-283eb1767097",
   "metadata": {},
   "source": [
    "## 4.6 Question 6: Duplicate Columns with Suffix"
   ]
  },
  {
   "cell_type": "markdown",
   "id": "02a38e14-a510-480f-afec-b22e385ee158",
   "metadata": {},
   "source": [
    "Using `.with_columns()`, `pl.all()`, and `.name.suffix()`, add to the DataFrame a copy of all the columns with `_new` added to the end of each column name. How many columns are there in the resultant DataFrame?"
   ]
  },
  {
   "cell_type": "code",
   "execution_count": 8,
   "id": "ef20775e-ab8b-43c4-bd95-89a7327f9771",
   "metadata": {},
   "outputs": [
    {
     "name": "stdout",
     "output_type": "stream",
     "text": [
      "(3582628, 38)\n"
     ]
    }
   ],
   "source": [
    "result = (\n",
    "    df\n",
    "    #### YOUR CODE HERE\n",
    "    .with_columns(pl.all().name.suffix(\"_new\"))\n",
    ")\n",
    "print(result.shape)"
   ]
  },
  {
   "cell_type": "markdown",
   "id": "6b915836-2690-4fc4-aac0-1b3d1cff581b",
   "metadata": {},
   "source": [
    "1. 3582628 - incorrect - This is the number of rows, not columns. See \"Adding New Columns with .with_columns().\"\n",
    "2. 38 - correct - There are 19 columns in the original DataFrame, so when you add each column with just a new name, the number of columns doubles to 38. See \"Adding New Columns with .with_columns().\"\n",
    "3. 19 - incorrect - This is the number of columns in the original DataFrame; the answer should actually be two times this number. See \"Adding New Columns with .with_columns().\"\n",
    "4. 22 - incorrect - If you arrived at this result, you may not have selected all the columns in your `.with_columns()` call. See \"Adding New Columns with .with_columns().\""
   ]
  },
  {
   "cell_type": "markdown",
   "id": "aa8daa07-24ef-4e4a-a15b-66a61bfa3ac6",
   "metadata": {},
   "source": [
    "## 4.7 Question 7: Empty String Check Columns"
   ]
  },
  {
   "cell_type": "markdown",
   "id": "076f65cf-acce-44d5-9d48-6f6c31bd57fe",
   "metadata": {},
   "source": [
    "Add a new column to the DataFrame for every `pl.String` column that checks whether that column has an empty string (i.e., a string equal to `\"\"`). How many columns are in the resultant DataFrame?"
   ]
  },
  {
   "cell_type": "code",
   "execution_count": 9,
   "id": "3113c421-6aab-42ca-ba4c-2da94cdbb0f8",
   "metadata": {},
   "outputs": [
    {
     "name": "stdout",
     "output_type": "stream",
     "text": [
      "(3582628, 20)\n"
     ]
    }
   ],
   "source": [
    "result = (\n",
    "    df\n",
    "    #### YOUR CODDE HERE\n",
    "    .with_columns(pl.col(pl.String).eq(\"\").name.suffix(\"_is_empty\"))\n",
    "    .shape\n",
    ")\n",
    "print(result)"
   ]
  },
  {
   "cell_type": "markdown",
   "id": "87ff3f92-1248-4141-8642-4a3f6d2c94bc",
   "metadata": {},
   "source": [
    "1. 1 - incorrect - Be sure to use `.select()` and `.with_columns()` since you are adding columns. See \"Adding New Columns with .with_columns().\"\n",
    "2. 20 - correct - Exactly! There's only one column with the datatype `pl.String` for a total of 20 columns. See \"Adding New Columns with .with_columns().\"\n",
    "3. 22 - incorrect - You may not have performed the operations on the `pl.String` columns. See \"Adding New Columns with .with_columns().\"\n",
    "4. 38 - incorrect - You may have tried to perform operations using `pl.all()`. See \"Adding New Columns with .with_columns().\""
   ]
  },
  {
   "cell_type": "markdown",
   "id": "130da162-bea5-4da5-bcbc-7e8a937e7c64",
   "metadata": {},
   "source": [
    "## 4.8 Question 8: Same Location Trips Dataframe"
   ]
  },
  {
   "cell_type": "markdown",
   "id": "8f85c859-1c0d-4cd6-946c-7d0e1b9ba3f3",
   "metadata": {},
   "source": [
    "Your goal is to produce a DataFrame of only the rides that took place in one location (i.e., where `DOLocationID` equals `PULocationID`). This means that you no longer need both of the columns `DOLocationID` and `PULocationID` (since they are equal). So filter for trips with the same pickup and dropoff sites and remove either one of the pickup/dropoff location columns. Then rename the remaining one to `LocationID`. What is the shape of the resultant DataFrame?"
   ]
  },
  {
   "cell_type": "code",
   "execution_count": 10,
   "id": "37b2407f-fee7-474c-af53-686684442750",
   "metadata": {},
   "outputs": [
    {
     "name": "stdout",
     "output_type": "stream",
     "text": [
      "(3582628, 18)\n"
     ]
    }
   ],
   "source": [
    "result = (\n",
    "    df\n",
    "    #### YOUR CODE HERE\n",
    "    # .filter(pl.col(\"DOLocationID\").eq(pl.col(\"PULocationID\")))\n",
    "    .drop(\"DOLocationID\")\n",
    "    .rename({\"PULocationID\": \"LocationID\"})\n",
    "    .shape\n",
    ")\n",
    "print(result)"
   ]
  },
  {
   "cell_type": "markdown",
   "id": "7b20d5c7-59cd-4e79-b368-f14320348ed0",
   "metadata": {},
   "source": [
    "1. (181291, 18) - correct - Exactly! A small fraction of the rides have the same pickup and dropoff location. See \"Renaming Columns with .rename().\"\n",
    "2. (3582628, 18) - incorrect - This is the number of rows in the original DataFrame. Check that you filtered appropriately. See \"Renaming Columns with .rename().\"\n",
    "3. (181291, 19) - incorrect - You may have overlooked removing either the pickup or dropoff location column from the DataFrame. See \"Renaming Columns with .rename().\"\n",
    "4. (3401337, 18) - incorrect - If you got this result, you may have included only trips where the dropoff location and pickup location are not equal. See \"Renaming Columns with .rename().\""
   ]
  },
  {
   "cell_type": "markdown",
   "id": "9d8917e4",
   "metadata": {},
   "source": []
  }
 ],
 "metadata": {
  "kernelspec": {
   "display_name": "Python 3 (ipykernel)",
   "language": "python",
   "name": "python3"
  },
  "language_info": {
   "codemirror_mode": {
    "name": "ipython",
    "version": 3
   },
   "file_extension": ".py",
   "mimetype": "text/x-python",
   "name": "python",
   "nbconvert_exporter": "python",
   "pygments_lexer": "ipython3",
   "version": "3.9.2"
  }
 },
 "nbformat": 4,
 "nbformat_minor": 5
}
