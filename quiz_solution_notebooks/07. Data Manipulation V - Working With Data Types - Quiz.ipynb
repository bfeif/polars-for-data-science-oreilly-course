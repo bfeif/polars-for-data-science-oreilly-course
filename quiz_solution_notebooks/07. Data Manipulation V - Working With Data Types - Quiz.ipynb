{
 "cells": [
  {
   "cell_type": "markdown",
   "id": "1653908d",
   "metadata": {},
   "source": [
    "# 7. Data Manipulation V - Working With Data Types - Quiz"
   ]
  },
  {
   "cell_type": "markdown",
   "id": "97a37bab",
   "metadata": {},
   "source": [
    "## 7.0. Import `polars` and Load Data"
   ]
  },
  {
   "cell_type": "code",
   "execution_count": 1,
   "id": "9f2da0ab",
   "metadata": {},
   "outputs": [],
   "source": [
    "import polars as pl"
   ]
  },
  {
   "cell_type": "code",
   "execution_count": 2,
   "id": "37f2cb81",
   "metadata": {},
   "outputs": [],
   "source": [
    "zone_column_rename_mapping = {\n",
    "    \"LocationID\": \"location_id\",\n",
    "    \"Borough\": \"borough\",\n",
    "    \"Zone\": \"zone\",\n",
    "}\n",
    "zones_df = (\n",
    "    pl.read_parquet(\"../data/taxi_zone_lookup.parquet\")\n",
    "    .rename(zone_column_rename_mapping)\n",
    ")"
   ]
  },
  {
   "cell_type": "code",
   "execution_count": 3,
   "id": "adb7a494-c830-47a0-94a5-fc4e303a92f5",
   "metadata": {},
   "outputs": [],
   "source": [
    "yellow_rides_column_rename_mapping = {\n",
    "    \"VendorID\": \"vendor_id\",\n",
    "    \"RatecodeID\": \"ratecode_id\",\n",
    "    \"PULocationID\": \"pu_location_id\",\n",
    "    \"DOLocationID\": \"do_location_id\",\n",
    "    \"Airport_fee\": \"airport_fee\",\n",
    "}\n",
    "\n",
    "rides_df = (\n",
    "    pl.read_parquet(\"../data/yellow_tripdata_2024-03.parquet\")\n",
    "    .rename(yellow_rides_column_rename_mapping)\n",
    "    .join(\n",
    "        zones_df.select(pl.all().name.prefix(\"pu_\")),\n",
    "        on=\"pu_location_id\",\n",
    "    )\n",
    "    .join(\n",
    "        zones_df.select(pl.all().name.prefix(\"do_\")),\n",
    "        on=\"do_location_id\",\n",
    "    )\n",
    ")"
   ]
  },
  {
   "cell_type": "markdown",
   "id": "74ea04d2-31f8-45c4-b498-0c4771b09efe",
   "metadata": {},
   "source": [
    "## 7.1 Question 1: Highest Average Fare by Day and Hour"
   ]
  },
  {
   "cell_type": "markdown",
   "id": "d9cf6567-2272-4968-ab6b-11e44ada89b3",
   "metadata": {},
   "source": [
    "Extract the day of the week (as a string) and the hour from the `tpep_pickup_datetime` column. Then, calculate the average fare amount for each day-hour combination. Finally, sort the results by average fare amount. Which day-hour combination has the highest average fare amount?"
   ]
  },
  {
   "cell_type": "code",
   "execution_count": 4,
   "id": "4dc3aa8f-b099-4216-8381-65745b64e97e",
   "metadata": {},
   "outputs": [
    {
     "name": "stdout",
     "output_type": "stream",
     "text": [
      "shape: (168, 3)\n",
      "┌─────────────┬──────┬───────────┐\n",
      "│ day_of_week ┆ hour ┆ avg_fare  │\n",
      "│ ---         ┆ ---  ┆ ---       │\n",
      "│ i8          ┆ i8   ┆ f64       │\n",
      "╞═════════════╪══════╪═══════════╡\n",
      "│ 3           ┆ 4    ┆ 28.732735 │\n",
      "│ 2           ┆ 4    ┆ 28.361275 │\n",
      "│ 1           ┆ 4    ┆ 28.345536 │\n",
      "│ 1           ┆ 1    ┆ 28.123612 │\n",
      "│ 7           ┆ 23   ┆ 27.736774 │\n",
      "│ …           ┆ …    ┆ …         │\n",
      "│ 6           ┆ 10   ┆ 15.954722 │\n",
      "│ 6           ┆ 1    ┆ 15.582336 │\n",
      "│ 6           ┆ 3    ┆ 15.483906 │\n",
      "│ 7           ┆ 2    ┆ 15.34928  │\n",
      "│ 6           ┆ 2    ┆ 14.980229 │\n",
      "└─────────────┴──────┴───────────┘\n"
     ]
    }
   ],
   "source": [
    "result = (\n",
    "    rides_df\n",
    "    #### YOUR CODE HERE\n",
    "    .with_columns([\n",
    "        pl.col(\"tpep_pickup_datetime\").dt.weekday().alias(\"day_of_week\"),\n",
    "        pl.col(\"tpep_pickup_datetime\").dt.hour().alias(\"hour\")\n",
    "    ])\n",
    "    .group_by([\"day_of_week\", \"hour\"])\n",
    "    .agg(avg_fare=pl.col(\"fare_amount\").mean())\n",
    "    .sort(\"avg_fare\", descending=True)\n",
    ")\n",
    "print(result)"
   ]
  },
  {
   "cell_type": "markdown",
   "id": "e0290583-c669-439c-ac50-c078b672031d",
   "metadata": {},
   "source": [
    "1. day=6, hour=2 - incorrect - you might be sorting ascending rather than descending. See \"Working with Temporal Columns: The .dt Namespace.\"\n",
    "2. day=3, hour=4 - correct - When you sort using `descending=True`, this is indeed the top result! See \"Working with Temporal Columns: The .dt Namespace.\"\n",
    "3. day=7, hour=23 - incorrect - you might be taking the average `total_amount` rather than the average `fare_amount`. See \"Working with Temporal Columns: The .dt Namespace.\"\n",
    "4. day=1, hour=0 - incorrect - you might be taking the weekday and hour from `tpep_dropoff_datetime` instead of `tpep_pickup_datetime`. See \"Working with Temporal Columns: The .dt Namespace.\""
   ]
  },
  {
   "cell_type": "markdown",
   "id": "567cdca5-7ec2-466f-b616-f52c58e6c9ed",
   "metadata": {},
   "source": [
    "## 7.2 Question 2: Dropoff Zone with Longest Trip Duration"
   ]
  },
  {
   "cell_type": "markdown",
   "id": "9869640a-19e2-453c-b49a-37df74fdbbb2",
   "metadata": {},
   "source": [
    "Which `do_zone` has the highest trip duration (where \"trip duration\" is measured as the `.total_seconds()` between `tpep_pickup_datetime` and `tpep_dropoff_datetime`)?"
   ]
  },
  {
   "cell_type": "code",
   "execution_count": 5,
   "id": "e04bf6f9-51e1-4ae8-a2c5-0d9876a6ca70",
   "metadata": {},
   "outputs": [
    {
     "name": "stdout",
     "output_type": "stream",
     "text": [
      "shape: (1, 2)\n",
      "┌─────────────────────────────────┬───────────────┐\n",
      "│ do_zone                         ┆ trip_duration │\n",
      "│ ---                             ┆ ---           │\n",
      "│ str                             ┆ i64           │\n",
      "╞═════════════════════════════════╪═══════════════╡\n",
      "│ Saint Michaels Cemetery/Woodsi… ┆ 545553        │\n",
      "└─────────────────────────────────┴───────────────┘\n"
     ]
    }
   ],
   "source": [
    "result = (\n",
    "    rides_df\n",
    "    #### YOUR CODE HERE\n",
    "    .with_columns(\n",
    "        pl.col(\"tpep_dropoff_datetime\")\n",
    "        .sub(pl.col(\"tpep_pickup_datetime\"))\n",
    "        .dt.total_seconds()\n",
    "        .alias(\"trip_duration\")\n",
    "    )\n",
    "    .sort(\"trip_duration\", descending=True)\n",
    "    .head(1)\n",
    "    .select([\"do_zone\", \"trip_duration\"])\n",
    ")\n",
    "print(result)"
   ]
  },
  {
   "cell_type": "markdown",
   "id": "b9c7e0e8-310c-4bd7-b9ce-37c468a151b2",
   "metadata": {},
   "source": [
    "1. Saint Michaels Cemetery/Woodside - correct - Nice! You could solve this in a few ways. The most straightforward way is to create the `trip_duration` column and sort it in descending order. See \"Working with Temporal Columns: The .dt Namespace.\"\n",
    "2. Midtown Center - incorrect - you might be taking the `do_zone` with the lowest trip duration. See \"Working with Temporal Columns: The .dt Namespace.\"\n",
    "3. 207 - incorrect - almost right! But the answer should be a `do_zone`, not a `do_location_id`. See \"Working with Temporal Columns: The .dt Namespace.\"\n",
    "4. Woodside - incorrect - you may not have used `.total_seconds()` as the measure of trip duration. See \"Working with Temporal Columns: The .dt Namespace.\""
   ]
  },
  {
   "cell_type": "markdown",
   "id": "23353481-61ff-4dea-9436-33059a930c4f",
   "metadata": {},
   "source": [
    "## 7.3 Question 3: Pickup Location with Most Diverse Dropoff Zones"
   ]
  },
  {
   "cell_type": "markdown",
   "id": "b4fb20c9-38a7-448c-a522-0a1274ff82a8",
   "metadata": {},
   "source": [
    "With a group-by in `polars`, instead of finding some aggregate summary statistic for each group, you can also collect all the elements for each group into a list by simply passing in the column you'd like to aggregate to a list as a name (see below). With this, for each `pu_location_id`, make a column that aggregates all the `do_zones` associated with that `pu_location_id`; what is the `pu_location_id` with the longest list of associated `do_zone`s (hint: use the `.list` namespace)?"
   ]
  },
  {
   "cell_type": "code",
   "execution_count": 6,
   "id": "2cece8b2-6efd-4092-bd1b-232b2ff9e929",
   "metadata": {},
   "outputs": [
    {
     "name": "stdout",
     "output_type": "stream",
     "text": [
      "shape: (259, 2)\n",
      "┌────────────────┬─────────────────────────────────┐\n",
      "│ pu_location_id ┆ do_zone                         │\n",
      "│ ---            ┆ ---                             │\n",
      "│ i32            ┆ list[str]                       │\n",
      "╞════════════════╪═════════════════════════════════╡\n",
      "│ 161            ┆ [\"Lenox Hill West\", \"Greenwich… │\n",
      "│ 132            ┆ [\"South Jamaica\", \"Clinton Hil… │\n",
      "│ 237            ┆ [\"Lenox Hill West\", \"Union Sq\"… │\n",
      "│ 236            ┆ [\"Upper East Side South\", \"Blo… │\n",
      "│ 162            ┆ [\"Flatiron\", \"Midtown Center\",… │\n",
      "│ …              ┆ …                               │\n",
      "│ 199            ┆ [\"Midtown Center\", \"Times Sq/T… │\n",
      "│ 84             ┆ [\"Sheepshead Bay\"]              │\n",
      "│ 156            ┆ [\"Coney Island\"]                │\n",
      "│ 109            ┆ [\"Great Kills\"]                 │\n",
      "│ 5              ┆ [\"Arden Heights\"]               │\n",
      "└────────────────┴─────────────────────────────────┘\n"
     ]
    }
   ],
   "source": [
    "result = (\n",
    "    rides_df\n",
    "    .group_by(\"pu_location_id\")\n",
    "    .agg(pl.col(\"do_zone\"))\n",
    "    #### YOUR CODE HERE\n",
    "    .sort(pl.col(\"do_zone\").list.len(), descending=True)\n",
    ")\n",
    "print(result)"
   ]
  },
  {
   "cell_type": "markdown",
   "id": "98c4885a-5557-47f9-a253-129ec155a0d2",
   "metadata": {},
   "source": [
    "1. 161 - correct - Exactly! Note that aggregating all elements of the group into a list takes all values (i.e., it doesn't take just unique values). See \"Working with List Columns: The .list Namespace.\"\n",
    "2. 5 - incorrect - are you sure you didn't find the `pu_location_id` with the shortest list of associated `do_zone`s? See \"Working with List Columns: The .list Namespace.\"\n",
    "3. Midtown Center - incorrect - we are looking for the `pu_location_id` with the longest list of associated `do_zone`s, not the `pu_zone`! See \"Working with List Columns: The .list Namespace.\"\n",
    "4. Arden Heights - incorrect - it looks like you chose the wrong sort order, and looked for `pu_zone` rather than `pu_location_id`! See \"Working with List Columns: The .list Namespace.\""
   ]
  },
  {
   "cell_type": "markdown",
   "id": "54baa7ba-6824-4bf6-b1e1-aa92bf006b5c",
   "metadata": {},
   "source": [
    "## 7.4 Question 4: Most Common Second Word in Zone Names"
   ]
  },
  {
   "cell_type": "markdown",
   "id": "f630019a-9cf1-4a3f-9b1e-3272124cde99",
   "metadata": {},
   "source": [
    "Using just `zones_df`, split `zone` into a list on `\" \"` as seen during the module, and take the 2nd element of every list using `.list.get()`. Then, using `group_by`, answer the question--what is the most commonly occurring second word in `zones_df` (excluding `null`)?"
   ]
  },
  {
   "cell_type": "code",
   "execution_count": 9,
   "id": "b700b131-89f8-4b70-a199-5370f95973a7",
   "metadata": {},
   "outputs": [
    {
     "name": "stdout",
     "output_type": "stream",
     "text": [
      "shape: (11, 2)\n",
      "┌───────────────┬────────────────┐\n",
      "│ zone_splitted ┆ num_occurences │\n",
      "│ ---           ┆ ---            │\n",
      "│ str           ┆ u32            │\n",
      "╞═══════════════╪════════════════╡\n",
      "│ null          ┆ 250            │\n",
      "│ North         ┆ 3              │\n",
      "│ Island        ┆ 3              │\n",
      "│ South         ┆ 2              │\n",
      "│ West          ┆ 1              │\n",
      "│ …             ┆ …              │\n",
      "│ Plaza         ┆ 1              │\n",
      "│ Village       ┆ 1              │\n",
      "│ Avenue        ┆ 1              │\n",
      "│ Beach         ┆ 1              │\n",
      "│ Point         ┆ 1              │\n",
      "└───────────────┴────────────────┘\n"
     ]
    }
   ],
   "source": [
    "result = (\n",
    "    zones_df\n",
    "    .with_columns(pl.col(\"zone\").str.split(\" \").alias(\"zone_splitted\"))\n",
    "    #### YOUR CODE HERE\n",
    "    .group_by(pl.col(\"zone_splitted\").list.get(3))\n",
    "    .agg(pl.len().alias(\"num_occurences\"))\n",
    "    .sort(\"num_occurences\", descending=True)\n",
    ")\n",
    "print(result)"
   ]
  },
  {
   "cell_type": "markdown",
   "id": "55621bae-60cc-433f-89df-1b51fefebe1e",
   "metadata": {},
   "source": [
    "1. Park - correct - Indeed, \"Park\" is a common second word in New York City zone names! See \"Working with List Columns: The .list Namespace.\"\n",
    "2. `null` - incorrect - The question specifies \"excluding null\"... take another look! See \"Working with List Columns: The .list Namespace.\"\n",
    "3. East - incorrect - Make sure to take the 2nd element, not the 0th! See \"Working with List Columns: The .list Namespace.\"\n",
    "4. North - incorrect - Make sure to take the 2nd element, not the 3rd! See \"Working with List Columns: The .list Namespace.\""
   ]
  },
  {
   "cell_type": "markdown",
   "id": "80385b4f-5588-46f5-91e0-7f043ff3bed9",
   "metadata": {},
   "source": [
    "## 7.5 Question 5: Rides with Duration Between 60-120 Seconds"
   ]
  },
  {
   "cell_type": "markdown",
   "id": "6a5ee80c-5612-4885-a8f6-d877dbce1531",
   "metadata": {},
   "source": [
    "How many rides had a duration of more than 60 seconds and less than 120 seconds?"
   ]
  },
  {
   "cell_type": "code",
   "execution_count": 15,
   "id": "012a73ce-9252-469d-b208-a73e5a601fdc",
   "metadata": {},
   "outputs": [
    {
     "name": "stdout",
     "output_type": "stream",
     "text": [
      "(1, 26)\n"
     ]
    }
   ],
   "source": [
    "result = (\n",
    "    rides_df\n",
    "    #### YOUR CODE HERE\n",
    "    .with_columns((pl.col(\"tpep_dropoff_datetime\") - pl.col(\"tpep_pickup_datetime\")).dt.total_seconds().alias(\"trip_duration\"))\n",
    "    .filter(pl.col(\"trip_duration\").lt(120).and_(pl.col(\"trip_duration\").gt(60)))\n",
    "    .shape\n",
    ")\n",
    "print(result)"
   ]
  },
  {
   "cell_type": "markdown",
   "id": "c987539a-8b8d-4839-8260-8fa86fdabc8a",
   "metadata": {},
   "source": [
    "1. 28426 - incorrect - make sure to use \"less than\", not \"less than or equal to\". See \"Working with Temporal Columns: The .dt Namespace.\"\n",
    "2. 27994 - incorrect - make sure to use \"greater than\", not \"greater than or equal to\". See \"Working with Temporal Columns: The .dt Namespace.\"\n",
    "3. 27538 - correct - Perfect! You could solve this with `.and_()` combination of `.gt()` and `.lt()`, or try the more advanced `.is_between()`. See \"Working with Temporal Columns: The .dt Namespace.\"\n",
    "4. 1 - incorrect - check again, you might have got the order of the pickup-dropoff subtraction incorrect! See \"Working with Temporal Columns: The .dt Namespace.\""
   ]
  },
  {
   "cell_type": "markdown",
   "id": "aa6f3df2-ecf7-4aad-a7df-f607e679414a",
   "metadata": {},
   "source": [
    "## 7.6 Question 6: Rides Longer Than One Day"
   ]
  },
  {
   "cell_type": "markdown",
   "id": "6c36f898-86ec-49b8-b6a1-46a5e793f1b6",
   "metadata": {},
   "source": [
    "How many rides had a duration of more than 1 day (hint: instead of using `.dt.total_seconds()`, you can use `.dt.total_days()`)?"
   ]
  },
  {
   "cell_type": "code",
   "execution_count": 23,
   "id": "8cf0ce50-1b1e-481b-b18e-929758bf81b4",
   "metadata": {},
   "outputs": [
    {
     "name": "stdout",
     "output_type": "stream",
     "text": [
      "(6, 26)\n"
     ]
    }
   ],
   "source": [
    "result = (\n",
    "    rides_df\n",
    "    #### YOUR CODE HERE\n",
    "    .with_columns((pl.col(\"tpep_dropoff_datetime\") - pl.col(\"tpep_pickup_datetime\")).dt.total_days().alias(\"trip_duration_days\"))\n",
    "    .filter(pl.col(\"trip_duration_days\").gt(1))\n",
    "    .shape\n",
    ")\n",
    "print(result)"
   ]
  },
  {
   "cell_type": "markdown",
   "id": "72c2a808-aea6-4e50-977a-e88a61262a15",
   "metadata": {},
   "source": [
    "1. 3541969 - incorrect - are you sure you're not accidentally using `.total_minutes()`? See \"Working with Temporal Columns: The .dt Namespace.\"\n",
    "2. 20 - correct - Exactly! Note that you could also use `.dt.total_seconds()` and divide by seconds per day. See \"Working with Temporal Columns: The .dt Namespace.\"\n",
    "3. 3581500 - incorrect - are you sure you're not accidentally using `.total_seconds()`? See \"Working with Temporal Columns: The .dt Namespace.\"\n",
    "4. 6 - incorrect - make sure to use \"greater than\" and not \"great than or equal to\". See \"Working with Temporal Columns: The .dt Namespace.\""
   ]
  },
  {
   "cell_type": "markdown",
   "id": "f2920821-640e-4b3a-814f-f2214e2ef2db",
   "metadata": {},
   "source": [
    "## 7.7 Question 7: Zones Containing 'North'"
   ]
  },
  {
   "cell_type": "markdown",
   "id": "7d079632-4f93-43b8-84b4-bac19a09e76c",
   "metadata": {},
   "source": [
    "How many zones in `zones_df` contain the word \"North\"?"
   ]
  },
  {
   "cell_type": "code",
   "execution_count": 33,
   "id": "d87bd262-ebad-4b38-9619-ca10c0b9b106",
   "metadata": {},
   "outputs": [
    {
     "name": "stdout",
     "output_type": "stream",
     "text": [
      "shape: (1, 1)\n",
      "┌──────┐\n",
      "│ zone │\n",
      "│ ---  │\n",
      "│ u32  │\n",
      "╞══════╡\n",
      "│ 15   │\n",
      "└──────┘\n"
     ]
    }
   ],
   "source": [
    "result = (\n",
    "    zones_df\n",
    "    #### YOUR CODE HERE\n",
    "    .select(pl.col(\"zone\").str.contains(\"North\").sum())\n",
    ")\n",
    "print(result)"
   ]
  },
  {
   "cell_type": "markdown",
   "id": "10a2aa93-3798-4fc5-9206-b444a291afdd",
   "metadata": {},
   "source": [
    "1. 15 - correct - Indeed many neighborhoods in New York City have the word \"North\" in their name! See \"Working with String Columns: The .str Namespace.\"\n",
    "2. 0 - incorrect - note that string containment checks are case-sensitive in polars, so checking for \"north\" won't work! See \"Working with String Columns: The .str Namespace.\"\n",
    "3. 265 - incorrect - looks like you accidentally got the total number of rows! Perhaps you accidentally used `count()` or `len()`... See \"Working with String Columns: The .str Namespace.\"\n",
    "4. 19 - incorrect - make sure to not accidentally check for \"South\"! See \"Working with String Columns: The .str Namespace.\""
   ]
  },
  {
   "cell_type": "markdown",
   "id": "fcc2aba1-cc70-4125-855d-f4d771a45064",
   "metadata": {},
   "source": [
    "## 7.8 Question 8: Most Common First Word in Zone Names (Reversed)"
   ]
  },
  {
   "cell_type": "markdown",
   "id": "bef44f27-453f-41e0-825a-e2f1ec1b7753",
   "metadata": {},
   "source": [
    "For `zones_df`, what is the most common `0th` word in the `zone` column, spelled in reverse? (Hint: split the `zone` column by `\" \"` into a list of strings; then, take the `0th` element of each list in that column, and apply `.str.reverse()` to it.)"
   ]
  },
  {
   "cell_type": "code",
   "execution_count": 37,
   "id": "316b6b82-05eb-45b0-87eb-4a605cce86ff",
   "metadata": {},
   "outputs": [
    {
     "name": "stdout",
     "output_type": "stream",
     "text": [
      "shape: (195, 2)\n",
      "┌─────────────┬─────────────────┐\n",
      "│ zone        ┆ num_occurrences │\n",
      "│ ---         ┆ ---             │\n",
      "│ str         ┆ u32             │\n",
      "╞═════════════╪═════════════════╡\n",
      "│ tsaE        ┆ 13              │\n",
      "│ tseW        ┆ 5               │\n",
      "│ nwotdiM     ┆ 4               │\n",
      "│ htuoS       ┆ 4               │\n",
      "│ reppU       ┆ 4               │\n",
      "│ …           ┆ …               │\n",
      "│ noskcaJ     ┆ 1               │\n",
      "│ dlroW       ┆ 1               │\n",
      "│ sdnaltalF   ┆ 1               │\n",
      "│ hgielretseW ┆ 1               │\n",
      "│ sserpyC     ┆ 1               │\n",
      "└─────────────┴─────────────────┘\n"
     ]
    }
   ],
   "source": [
    "result = (\n",
    "    zones_df\n",
    "    #### YOUR CODE HERE\n",
    "    .group_by(pl.col(\"zone\").str.split(\" \").list.get(0).str.reverse())\n",
    "    .agg(pl.len().alias(\"num_occurrences\"))\n",
    "    .sort(\"num_occurrences\", descending=True)\n",
    ")\n",
    "print(result)"
   ]
  },
  {
   "cell_type": "markdown",
   "id": "913f6c6e-da9c-402d-a957-7eead3536dc6",
   "metadata": {},
   "source": [
    "1. East - incorrect - Don't forget to reverse the string! See \"Working with String Columns: The .str Namespace.\"\n",
    "2. tseW - incorrect - Not quite, this is the second most common 0th word! See \"Working with String Columns: The .str Namespace.\"\n",
    "3. kraP - incorrect - You might be taking the 1st element of the list rather than the 0th! See \"Working with String Columns: The .str Namespace.\"\n",
    "4. tsaE - correct - Exactly! \"East\" is a very common first word in zone names, and this is its reverse! See \"Working with String Columns: The .str Namespace.\""
   ]
  }
 ],
 "metadata": {
  "kernelspec": {
   "display_name": "Python 3 (ipykernel)",
   "language": "python",
   "name": "python3"
  },
  "language_info": {
   "codemirror_mode": {
    "name": "ipython",
    "version": 3
   },
   "file_extension": ".py",
   "mimetype": "text/x-python",
   "name": "python",
   "nbconvert_exporter": "python",
   "pygments_lexer": "ipython3",
   "version": "3.12.3"
  }
 },
 "nbformat": 4,
 "nbformat_minor": 5
}
