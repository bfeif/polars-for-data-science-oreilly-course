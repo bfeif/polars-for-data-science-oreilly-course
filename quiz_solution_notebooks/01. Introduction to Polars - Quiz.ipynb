{
 "cells": [
  {
   "cell_type": "markdown",
   "id": "1653908d",
   "metadata": {},
   "source": [
    "# 1. Introduction to Polars - Quiz"
   ]
  },
  {
   "cell_type": "markdown",
   "id": "dff3475d",
   "metadata": {},
   "source": [
    "## 1.1. Question 1: Polars Implementation Language"
   ]
  },
  {
   "cell_type": "markdown",
   "id": "7c8396d2",
   "metadata": {},
   "source": [
    "What language is Polars implemented in?"
   ]
  },
  {
   "cell_type": "markdown",
   "id": "0d3a4fe9-d2c5-4094-8427-fe226b59257b",
   "metadata": {},
   "source": [
    "1. Rust - correct - Polars is implemented in Rust. It also has bindings in other languages, all of which use the underlying Rust implementation. See “Introduction to Polars.”\n",
    "2. C - incorrect - C is a fast, low-level language, but it's not the one that Polars is implemented in. See “Introduction to Polars.”\n",
    "3. Python - incorrect - Although Polars has Python bindings, it is implemented in a different language. See “Introduction to Polars.”\n",
    "4. R - incorrect - R is a great language for data science, but Polars is not implemented in R. See “Introduction to Polars.”\n"
   ]
  },
  {
   "cell_type": "markdown",
   "id": "e9701ec5-4c01-4621-b23d-237eb65bc0e9",
   "metadata": {},
   "source": [
    "## 1.2. Question 2: Common Polars Use-case"
   ]
  },
  {
   "cell_type": "markdown",
   "id": "f2bc1536-0d97-41ae-8f90-f09c2d858e01",
   "metadata": {},
   "source": [
    "Which is the most common use case for Polars?"
   ]
  },
  {
   "cell_type": "markdown",
   "id": "35a4c508-03cd-4a2d-a83e-48bf8b755d2c",
   "metadata": {},
   "source": [
    "1. Single node computing - correct - Polars is best for single node computing, while tools like Spark or Modin are best for distributed computing. See “Introduction to Polars.”\n",
    "2. Distributed computing - incorrect - Tools like Spark or Modin are better suited to distributed computing. See “Introduction to Polars.”"
   ]
  },
  {
   "cell_type": "markdown",
   "id": "092c81d2-1f4c-4d61-bce2-5702cc1fa583",
   "metadata": {},
   "source": [
    "## 1.3. Question 3: Polars Multi-core Configuration"
   ]
  },
  {
   "cell_type": "markdown",
   "id": "8af9c4fa-312c-434b-97d2-622167afdc23",
   "metadata": {},
   "source": [
    "What must you do to configure Polars such that its query optimization engine uses all cores available on the host machine?"
   ]
  },
  {
   "cell_type": "markdown",
   "id": "834be37b-74a4-4de0-836f-78fb44662dfc",
   "metadata": {},
   "source": [
    "1. Specify a backend engine for distributing queries. - incorrect - You need to specify the backend engine with Modin and Ray for Pandas, not Polars. See “Introduction to Polars.”\n",
    "2. Enter some information about the OS's specifics into a configuration file, which Polars will then use to distribute resources.- incorrect - You don't need to enter information about the OS's specifics into a configuration file for Polars to distribute resources. See “Introduction to Polars.”\n",
    "3. Nothing—Polars uses all available cores right out of the box. - correct - Polars is automatically configured such that its query optimization engine uses all cores available on the host machine. See “Introduction to Polars.”\n",
    "4. Specify the number of cores on the local machine when importing Polars. - incorrect - There is no need to specify the number of cores on the local machine when importing Polars. See “Introduction to Polars.”"
   ]
  },
  {
   "cell_type": "markdown",
   "id": "2b6729df-a718-4a7f-8e47-74aaa4996c39",
   "metadata": {},
   "source": [
    "## 1.4. Question 4: Polars Underlying Memory Model"
   ]
  },
  {
   "cell_type": "markdown",
   "id": "021ac3a8-acd0-4c5e-b706-a4dd986c528c",
   "metadata": {},
   "source": [
    "What does Polars use as its underlying memory model?"
   ]
  },
  {
   "cell_type": "markdown",
   "id": "89d34726-4296-42f9-92e1-98b9b4d193df",
   "metadata": {},
   "source": [
    "1. Apache Arrow - correct - Polars uses Apache Arrow for its underlying memory model. See “Introduction to Polars.”\n",
    "2. Rust - incorrect - Polars is implemented in Rust, but Rust is not the underlying memory model. See “Introduction to Polars.”\n",
    "3. Python - incorrect - Polars has bindings in Python, but Python is not the underlying memory model. See “Introduction to Polars.”\n",
    "4. Online analytical processing (OLAP) - incorrect - Polars uses a memory model that is optimized for OLAP use cases, but the memory model itself is not OLAP. See “Introduction to Polars.”"
   ]
  },
  {
   "cell_type": "markdown",
   "id": "c482d643-bb02-4d7a-9eda-8af3f4258b5c",
   "metadata": {},
   "source": [
    "## 1.5. Question 5: Apache Arrow Memory Model Optimization"
   ]
  },
  {
   "cell_type": "markdown",
   "id": "b1e19c17-90d8-4cde-be66-5a8674953c87",
   "metadata": {},
   "source": [
    "How is the Apache Arrow memory model optimized for column-oriented online analytical processing (OLAP) use cases?"
   ]
  },
  {
   "cell_type": "markdown",
   "id": "33d1ab49-1ce4-4611-a1d2-39a136369781",
   "metadata": {},
   "source": [
    "1. Data from the same column is placed close together in memory. - correct - Exactly! Modern analytics use cases usually involve column-oriented actions, so having data from the same column close together helps Apache Arrow to optimize for OLAP. See “Apache Arrow: A Brief Intro.”\n",
    "2. Data from the same row is placed close together in memory. - incorrect - This would apply to online transaction processing (OLTP), but Apache Arrow is optimized for OLAP. See “Apache Arrow: A Brief Intro.”\n",
    "3. The data's storage location is close to the data's processing location. - incorrect - This is an interesting design consideration that differs across distributed computing tools like Hadoop and Spark, but it's not relevant here. See “Apache Arrow: A Brief Intro.”\n",
    "4. Data gets sorted before processing. - incorrect - How data is sorted isn't relevant to how the Apache Arrow memory model is optimized for column-oriented OLAP use cases. See “Apache Arrow: A Brief Intro.”"
   ]
  }
 ],
 "metadata": {
  "kernelspec": {
   "display_name": "Python 3 (ipykernel)",
   "language": "python",
   "name": "python3"
  },
  "language_info": {
   "codemirror_mode": {
    "name": "ipython",
    "version": 3
   },
   "file_extension": ".py",
   "mimetype": "text/x-python",
   "name": "python",
   "nbconvert_exporter": "python",
   "pygments_lexer": "ipython3",
   "version": "3.12.6"
  }
 },
 "nbformat": 4,
 "nbformat_minor": 5
}
