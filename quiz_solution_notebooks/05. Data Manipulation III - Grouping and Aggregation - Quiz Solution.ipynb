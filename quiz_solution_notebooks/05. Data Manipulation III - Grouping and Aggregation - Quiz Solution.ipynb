{
 "cells": [
  {
   "cell_type": "markdown",
   "id": "1653908d",
   "metadata": {},
   "source": [
    "# 5. Data Manipulation III - Grouping and Aggregation - Quiz.ipynb"
   ]
  },
  {
   "cell_type": "markdown",
   "id": "97a37bab",
   "metadata": {},
   "source": [
    "## 5.0. Import `polars` and Load Data"
   ]
  },
  {
   "cell_type": "code",
   "execution_count": 1,
   "id": "9f2da0ab",
   "metadata": {},
   "outputs": [],
   "source": [
    "import polars as pl"
   ]
  },
  {
   "cell_type": "code",
   "execution_count": 2,
   "id": "37f2cb81",
   "metadata": {},
   "outputs": [],
   "source": [
    "column_rename_mapping = {\n",
    "    \"VendorID\": \"vendor_id\",\n",
    "    \"RatecodeID\": \"ratecode_id\",\n",
    "    \"PULocationID\": \"pu_location_id\",\n",
    "    \"DOLocationID\": \"do_location_id\",\n",
    "    \"Airport_fee\": \"airport_fee\",\n",
    "}\n",
    "df = (\n",
    "    pl.read_parquet(\"../data/yellow_tripdata_2024-03.parquet\")\n",
    "    .rename(column_rename_mapping)\n",
    ")"
   ]
  },
  {
   "cell_type": "markdown",
   "id": "4e63ea01-9ea9-4a83-859b-4b8ee71a7e36",
   "metadata": {},
   "source": [
    "## 5.1 Question 1: Maximum Trip Distance for Specific Location"
   ]
  },
  {
   "cell_type": "markdown",
   "id": "589db317-a1b6-4934-957b-5b2d9900f40b",
   "metadata": {},
   "source": [
    "What is the maximum trip distance for trips with `pu_location_id = 1`?"
   ]
  },
  {
   "cell_type": "code",
   "execution_count": 3,
   "id": "cf12ac74-416d-4e8d-b99a-bd3d5cf11d13",
   "metadata": {},
   "outputs": [
    {
     "name": "stdout",
     "output_type": "stream",
     "text": [
      "shape: (1, 2)\n",
      "┌────────────────┬───────────────┐\n",
      "│ pu_location_id ┆ trip_distance │\n",
      "│ ---            ┆ ---           │\n",
      "│ i32            ┆ f64           │\n",
      "╞════════════════╪═══════════════╡\n",
      "│ 1              ┆ 35.75         │\n",
      "└────────────────┴───────────────┘\n"
     ]
    }
   ],
   "source": [
    "result = (\n",
    "    df\n",
    "    .filter(\n",
    "        #### YOUR CODE HERE\n",
    "        pl.col(\"pu_location_id\").eq(1)\n",
    "    )\n",
    "    .group_by(\n",
    "        #### YOUR CODE HERE\n",
    "        \"pu_location_id\"\n",
    "    )\n",
    "    .agg(\n",
    "        #### YOUR CODE HERE\n",
    "        pl.col(\"trip_distance\").max()\n",
    "    )\n",
    ")\n",
    "print(result)"
   ]
  },
  {
   "cell_type": "markdown",
   "id": "091c9856-59c6-4c95-a1bb-d1ae63bfeb3e",
   "metadata": {},
   "source": [
    "1. 35.75 - correct - Exactly! The maximum trip distance for trips with `pu_location_id = 1` is 35.75. See “Grouping DataFrames with .group_by().”\n",
    "2. 29.7 - incorrect - You may not have chosen the right `pu_location_id`. See “Grouping DataFrames with .group_by().”\n",
    "3. 176744.79 - incorrect - Make sure to use `pu_location_id`, not `do_location_id`. See “Grouping DataFrames with .group_by().”\n",
    "4. 0.0 - incorrect - You probably found the minimum rather than the maximum. See “Grouping DataFrames with .group_by().”"
   ]
  },
  {
   "cell_type": "markdown",
   "id": "6c7772db-b077-45ab-9428-0022829f4d19",
   "metadata": {},
   "source": [
    "## 5.2 Question 2: Top Vendor by Average Fare and Trip Distance"
   ]
  },
  {
   "cell_type": "markdown",
   "id": "3b6a5a2f-542f-4888-9312-d5c6bd221ce5",
   "metadata": {},
   "source": [
    "Group the data by `vendor_id` and calculate the average `fare_amount` and average `trip_distance` for each vendor. Then sort in descending order first by `mean_fare_amount` and then by `mean_trip_distance`. What is the top `vendor_id`?"
   ]
  },
  {
   "cell_type": "code",
   "execution_count": 4,
   "id": "867e291c-ba9c-4414-b245-bdc7562b5b59",
   "metadata": {},
   "outputs": [
    {
     "name": "stdout",
     "output_type": "stream",
     "text": [
      "shape: (3, 3)\n",
      "┌───────────┬──────────────────┬────────────────────┐\n",
      "│ vendor_id ┆ mean_fare_amount ┆ mean_trip_distance │\n",
      "│ ---       ┆ ---              ┆ ---                │\n",
      "│ i32       ┆ f64              ┆ f64                │\n",
      "╞═══════════╪══════════════════╪════════════════════╡\n",
      "│ 6         ┆ 46.21087         ┆ 10.129087          │\n",
      "│ 2         ┆ 18.792448        ┆ 4.783591           │\n",
      "│ 1         ┆ 18.324351        ┆ 3.682561           │\n",
      "└───────────┴──────────────────┴────────────────────┘\n"
     ]
    }
   ],
   "source": [
    "result = (\n",
    "    #### YOUR CODE HERE\n",
    "    df\n",
    "    .group_by(\"vendor_id\")\n",
    "    .agg(\n",
    "        pl.col(\"fare_amount\").mean().name.prefix(\"mean_\"),\n",
    "        pl.col(\"trip_distance\").mean().name.prefix(\"mean_\"),\n",
    "    )\n",
    "    .sort(\n",
    "        by=[\"mean_fare_amount\", \"mean_trip_distance\", ],\n",
    "        descending=True\n",
    "    )\n",
    ")\n",
    "print(result.head())"
   ]
  },
  {
   "cell_type": "markdown",
   "id": "c88c74a5-5fdb-4aa3-a0cd-95e34d963f12",
   "metadata": {},
   "source": [
    "1. 207 - incorrect - You may have sorted in ascending order instead of descending order. See \"Grouping DataFrames with .group_by().\"\n",
    "2. 205 - incorrect - Be sure to sort by `mean_fare_amount` and then by `mean_trip_distance` and not the other way around. See \"Grouping DataFrames with .group_by().\"\n",
    "3. 265 - incorrect - You may have found the max rather than the mean? See \"Grouping DataFrames with .group_by().\"\n",
    "4. 6 - correct - Exactly! The vendor with `vendor_id = 6` has a much higher `mean_fare_amount` than the other vendors. See \"Grouping DataFrames with .group_by().\""
   ]
  },
  {
   "cell_type": "markdown",
   "id": "1e3c13b2-506e-469d-ae83-50d2e229d203",
   "metadata": {},
   "source": [
    "## 5.3 Question 3: Date with Most Rides"
   ]
  },
  {
   "cell_type": "markdown",
   "id": "d44a3ff6-10a1-465a-932b-6d3a6fbe54db",
   "metadata": {},
   "source": [
    "Which date for `tpep_pickup_datetime` had the most rides?"
   ]
  },
  {
   "cell_type": "code",
   "execution_count": 5,
   "id": "b490c6e2-e663-4c73-b316-2e5975947706",
   "metadata": {},
   "outputs": [
    {
     "name": "stdout",
     "output_type": "stream",
     "text": [
      "shape: (36, 2)\n",
      "┌───────────────────────┬───────────┐\n",
      "│ tpep_dropoff_datetime ┆ num_rides │\n",
      "│ ---                   ┆ ---       │\n",
      "│ date                  ┆ u32       │\n",
      "╞═══════════════════════╪═══════════╡\n",
      "│ 2024-03-09            ┆ 140383    │\n",
      "│ 2024-03-14            ┆ 136541    │\n",
      "│ 2024-03-06            ┆ 132711    │\n",
      "│ 2024-03-28            ┆ 132054    │\n",
      "│ 2024-03-16            ┆ 131129    │\n",
      "│ …                     ┆ …         │\n",
      "│ 2024-04-01            ┆ 629       │\n",
      "│ 2024-02-29            ┆ 3         │\n",
      "│ 2024-04-02            ┆ 2         │\n",
      "│ 2003-01-01            ┆ 1         │\n",
      "│ 2002-12-31            ┆ 1         │\n",
      "└───────────────────────┴───────────┘\n"
     ]
    }
   ],
   "source": [
    "result = (\n",
    "    #### YOUR CODE HERE\n",
    "    df\n",
    "    .group_by(pl.col(\"tpep_dropoff_datetime\").dt.date())\n",
    "    .agg(pl.len().alias(\"num_rides\"))\n",
    "    .sort(by=\"num_rides\", descending=True)\n",
    ")\n",
    "print(result)"
   ]
  },
  {
   "cell_type": "markdown",
   "id": "67c15a67-7133-4702-82fe-4e04f9077a1c",
   "metadata": {},
   "source": [
    "1. 2002-12-31 - incorrect - The question asks for the date with the most rides, not the least. See \"Grouping DataFrames with .group_by().\"\n",
    "2. 2024-03-14 22:04:00 - incorrect - The question asks for the date, not the datetime, with the most rides. See \"Grouping DataFrames with .group_by().\"\n",
    "3. 2024-03-09 - correct - Exactly! There were 140,383 rides on March 9, 2024, more than on any other day. See \"Grouping DataFrames with .group_by().\"\n",
    "4. 2024-04-01 - incorrect - Confirm that you found the maximum of the correct column. See \"Grouping DataFrames with .group_by().\""
   ]
  },
  {
   "cell_type": "markdown",
   "id": "f2412773-e7aa-4237-8df6-effd2add08da",
   "metadata": {},
   "source": [
    "## 5.4 Question 4: Average Fare by Vendor and Payment Type"
   ]
  },
  {
   "cell_type": "markdown",
   "id": "0baa4b99-3dea-4903-9ca0-0b4851dd8ba9",
   "metadata": {},
   "source": [
    "Create a pivot table that shows the average fare amount for each combination of `VendorID` and `payment_type`. What is the average fare amount associated with `vendor_id` 2 and `payment_type` 2?"
   ]
  },
  {
   "cell_type": "code",
   "execution_count": 16,
   "id": "e1ddc77c-a928-4f2e-a520-5a6bb29305d0",
   "metadata": {},
   "outputs": [
    {
     "name": "stdout",
     "output_type": "stream",
     "text": [
      "shape: (3, 6)\n",
      "┌───────────┬───────────┬───────────┬───────────┬───────────┬───────────┐\n",
      "│ vendor_id ┆ 1         ┆ 2         ┆ 4         ┆ 3         ┆ 0         │\n",
      "│ ---       ┆ ---       ┆ ---       ┆ ---       ┆ ---       ┆ ---       │\n",
      "│ i32       ┆ f64       ┆ f64       ┆ f64       ┆ f64       ┆ f64       │\n",
      "╞═══════════╪═══════════╪═══════════╪═══════════╪═══════════╪═══════════╡\n",
      "│ 1         ┆ 18.582571 ┆ 16.996263 ┆ 16.23786  ┆ 15.228555 ┆ 18.562753 │\n",
      "│ 2         ┆ 19.523008 ┆ 18.390497 ┆ -0.002382 ┆ 0.0       ┆ 18.746054 │\n",
      "│ 6         ┆ null      ┆ null      ┆ null      ┆ null      ┆ 46.21087  │\n",
      "└───────────┴───────────┴───────────┴───────────┴───────────┴───────────┘\n"
     ]
    }
   ],
   "source": [
    "result = (\n",
    "    #### YOUR CODE HERE\n",
    "    df\n",
    "    .pivot(\n",
    "        values=\"fare_amount\",\n",
    "        index=\"vendor_id\",\n",
    "        on=\"payment_type\",\n",
    "        aggregate_function=\"mean\"\n",
    "    )\n",
    ")\n",
    "print(result)"
   ]
  },
  {
   "cell_type": "markdown",
   "id": "b96469ba-33dc-4948-92b2-042f21b9baf9",
   "metadata": {},
   "source": [
    "1. 850.0 - incorrect - If you arrived at this amount, you probably found the max instead of the mean. See \"Pivot Tables with .pivot().\"\n",
    "2. 18.390497 - correct - Exactly! The pivot table shows that this amount is similar across most `payment_type`/`vendor_id` combinations. See \"Pivot Tables with .pivot().\"\n",
    "3. 3.411724 - incorrect - You may not have chosen `fare_amount` for values. See \"Pivot Tables with .pivot().\"\n",
    "4. 18.582571 - incorrect - Close! However, the question asks specifically about `vendor_id` 2 and `payment_type` 2. See \"Pivot Tables with .pivot().\""
   ]
  },
  {
   "cell_type": "markdown",
   "id": "03cec7cc-e1fb-46b9-b582-38e5dfb4f1c2",
   "metadata": {},
   "source": [
    "## 5.5 Question 5: Average Trip Distance for Airport Fee Rides"
   ]
  },
  {
   "cell_type": "markdown",
   "id": "dc673c0b-75f3-4aa4-b9b5-923944b05b15",
   "metadata": {},
   "source": [
    "Create a pivot table that shows the average trip distance for every `vendor_id` by whether or not the ride has an airport fee. What is the average trip distance for rides with `vendor_id = 1` that have an airport fee?"
   ]
  },
  {
   "cell_type": "code",
   "execution_count": 17,
   "id": "155dad41-739d-49ba-b8b1-d60a6e1a0691",
   "metadata": {},
   "outputs": [
    {
     "name": "stdout",
     "output_type": "stream",
     "text": [
      "shape: (3, 4)\n",
      "┌───────────┬──────────┬───────────┬───────────┐\n",
      "│ vendor_id ┆ false    ┆ true      ┆ null      │\n",
      "│ ---       ┆ ---      ┆ ---       ┆ ---       │\n",
      "│ i32       ┆ f64      ┆ f64       ┆ f64       │\n",
      "╞═══════════╪══════════╪═══════════╪═══════════╡\n",
      "│ 1         ┆ 3.377438 ┆ 12.570663 ┆ 1.756034  │\n",
      "│ 2         ┆ 2.409085 ┆ 13.309613 ┆ 15.076071 │\n",
      "│ 6         ┆ null     ┆ null      ┆ 10.129087 │\n",
      "└───────────┴──────────┴───────────┴───────────┘\n"
     ]
    }
   ],
   "source": [
    "result = (\n",
    "    #### YOUR CODE HERE\n",
    "    df\n",
    "    .with_columns(pl.col(\"airport_fee\").gt(0).name.prefix(\"has_\"))\n",
    "    .pivot(\n",
    "        values=\"trip_distance\",\n",
    "        index=\"vendor_id\",\n",
    "        on=\"has_airport_fee\",\n",
    "        aggregate_function=\"mean\"\n",
    "    )\n",
    ")\n",
    "print(result)"
   ]
  },
  {
   "cell_type": "markdown",
   "id": "baf66a03-0edc-425d-b338-516e8e04930a",
   "metadata": {},
   "source": [
    "1. 115.3 - incorrect - To find the correct answer, you need to find the average `trip_distance`, not the maximum distance. See \"Pivot Tables with .pivot().\"\n",
    "2. 13.309613 - incorrect - Make sure to check for `vendor_id = 1`, not 2. See \"Pivot Tables with .pivot().\"\n",
    "3. 12.570663 - correct - Exactly right! Tip: You could have also solved by using `.filter()` and then `.mean()`. See \"Pivot Tables with .pivot().\"\n",
    "4. 2.409085 - incorrect - If you got this result, you probably looked at rides that did not have an airport fee, but the question asks about rides where a fee was charged. See \"Pivot Tables with .pivot().\""
   ]
  },
  {
   "cell_type": "markdown",
   "id": "7d8ebe74-4b16-49fe-89f1-034168ba64db",
   "metadata": {},
   "source": [
    "## 5.6 Question 6: Average Trip Distance for Airport Fee Rides (Alternative Method)"
   ]
  },
  {
   "cell_type": "markdown",
   "id": "454a3479-8c08-4320-a6d9-0d230dd8fbbf",
   "metadata": {},
   "source": [
    "What is the average trip distance for rides with `vendor_id = 1` that have an airport fee? Use `.filter()` to include only data where `vendor_id = 1` and `airport_fee > 0`, and then `.select()` to measure the average `trip_distance`."
   ]
  },
  {
   "cell_type": "code",
   "execution_count": 8,
   "id": "1bb7731b-b58a-49a8-83e7-6c13fa0863e5",
   "metadata": {},
   "outputs": [
    {
     "name": "stdout",
     "output_type": "stream",
     "text": [
      "shape: (1, 1)\n",
      "┌───────────────┐\n",
      "│ trip_distance │\n",
      "│ ---           │\n",
      "│ f64           │\n",
      "╞═══════════════╡\n",
      "│ 12.570663     │\n",
      "└───────────────┘\n"
     ]
    }
   ],
   "source": [
    "result = (\n",
    "    #### YOUR CODE HERE\n",
    "    df\n",
    "    .filter(pl.col(\"airport_fee\").gt(0).and_(pl.col(\"vendor_id\").eq(1)))\n",
    "    .select(pl.col(\"trip_distance\").mean())\n",
    ")\n",
    "print(result)"
   ]
  },
  {
   "cell_type": "markdown",
   "id": "41bf7d53-8970-42b1-9255-b44c55cac16b",
   "metadata": {},
   "source": [
    "1. 115.3 - incorrect - You may have found the maximum rather than the average trip distance. See \"Grouping DataFrames with .group_by().\"\n",
    "2. 13.309613 - incorrect - Make sure to check for `vendor_id = 1`, not 2. See \"Grouping DataFrames with .group_by().\"\n",
    "3. 12.570663 - correct - Exactly right! Hint: You could have also used a pivot table to solve this. See \"Grouping DataFrames with .group_by().\"\n",
    "4. 2.409085 - incorrect - Make sure to check for rides that had an airport fee, not ones that didn't. See \"Grouping DataFrames with .group_by().\""
   ]
  },
  {
   "cell_type": "markdown",
   "id": "e9961caf-2f30-496c-8181-5f2703363655",
   "metadata": {},
   "source": [
    "## 5.7 Question 7: Sum of 10th Largest Trip Distances by Vendor"
   ]
  },
  {
   "cell_type": "markdown",
   "id": "6d30e70f-a642-4790-9c6e-5fcaf1e40ab3",
   "metadata": {},
   "source": [
    "Using `rank().over()`, what is the 10th-largest `trip_distance` for each `vendor_id`, summed over all `vendor_id`s?"
   ]
  },
  {
   "cell_type": "code",
   "execution_count": 9,
   "id": "c387041f-02e1-4338-867c-a0db933cf744",
   "metadata": {},
   "outputs": [
    {
     "name": "stdout",
     "output_type": "stream",
     "text": [
      "shape: (1, 1)\n",
      "┌───────────────┐\n",
      "│ trip_distance │\n",
      "│ ---           │\n",
      "│ f64           │\n",
      "╞═══════════════╡\n",
      "│ 113916.29     │\n",
      "└───────────────┘\n"
     ]
    }
   ],
   "source": [
    "result = (\n",
    "    #### YOUR CODE HERE\n",
    "    df\n",
    "    .filter(\n",
    "        pl.col(\"trip_distance\")\n",
    "        .rank(descending=True)\n",
    "        .over(pl.col(\"vendor_id\"))\n",
    "        .eq(10)\n",
    "    )\n",
    "    .select(pl.col(\"trip_distance\").sum())\n",
    ")\n",
    "print(result)"
   ]
  },
  {
   "cell_type": "markdown",
   "id": "070bfa8a-17dd-4654-8bce-18b33e347cb1",
   "metadata": {},
   "source": [
    "1. 113916.29 - correct - Exactly! Using `.rank().over()`, you can create a column that represents the `trip_distance` rank within each `vendor_id`, filter for the 10th-largest trip distances, and then sum. See \"Window Functions in Polars.\"\n",
    "2. 115599.84 - incorrect - If you arrived at this result, you likely found the 9th-largest trip distance rather than the 10th? See \"Window Functions in Polars.\"\n",
    "3. 0.76 - incorrect - It's important to set the `descending` argument correctly in the rank function. See \"Window Functions in Polars.\"\n",
    "4. 1178.31 - incorrect - If you got this result, you may have used `total_amount`, but the question is about `trip_distance`? See \"Window Functions in Polars.\""
   ]
  },
  {
   "cell_type": "markdown",
   "id": "ee00333c-ee71-451d-8181-f030adb494de",
   "metadata": {},
   "source": [
    "## 5.8 Question 8: Total Amount for Top 3 Pickup Locations"
   ]
  },
  {
   "cell_type": "markdown",
   "id": "2f545a1b-af21-43b7-a3be-1e7b63eb4936",
   "metadata": {},
   "source": [
    "What is the sum of the `total_amount`s for all rides taken with one of the three `pu_location_id`s with the highest maximum `trip_distance`?"
   ]
  },
  {
   "cell_type": "code",
   "execution_count": 10,
   "id": "7b18df92-6cb2-4138-bbaf-1a5a0943ffb5",
   "metadata": {},
   "outputs": [
    {
     "name": "stdout",
     "output_type": "stream",
     "text": [
      "shape: (1, 1)\n",
      "┌──────────────┐\n",
      "│ total_amount │\n",
      "│ ---          │\n",
      "│ f64          │\n",
      "╞══════════════╡\n",
      "│ 4.6460e6     │\n",
      "└──────────────┘\n"
     ]
    }
   ],
   "source": [
    "result = (\n",
    "    #### YOUR CODE HERE\n",
    "    df\n",
    "    .group_by(\"pu_location_id\")\n",
    "    .agg(\n",
    "        pl.col(\"total_amount\").sum(),\n",
    "        pl.col(\"trip_distance\").max().name.prefix(\"max_\")\n",
    "    )\n",
    "    .sort(\"max_trip_distance\", descending=True)\n",
    "    .head(3)\n",
    "    .select(pl.col(\"total_amount\").sum())\n",
    ")\n",
    "print(result)"
   ]
  },
  {
   "cell_type": "markdown",
   "id": "e34b571c-ee44-4229-9131-be493ccf787d",
   "metadata": {},
   "source": [
    "1. 6.0735e6 - incorrect - Make sure to take only the three `pu_location_id`s with the highest maximum `trip_distance`. See \"Grouping DataFrames with .group_by().\"\n",
    "2. 891.48 - incorrect - You might have taken the three `pu_location_id`s with the lowest maximum `trip_distance` rather than the highest maximum `trip_distance`. See \"Grouping DataFrames with .group_by().\"\n",
    "3. 4.6460e6 - correct - Nice! There is more than one aggregation involved here. First, group by `pu_location_id`. Then take only the top three `pu_location_id`s by `trip_distance`. Finally, add the `total_amount`s across those three `pu_location_id`s. See \"Grouping DataFrames with .group_by().\"\n",
    "4. 2.3340e7 - incorrect - You need to sum the `total_amount` of the three `pu_location_id`s with the highest `max_trip_distance`, not the highest `total_amount`. See \"Grouping DataFrames with .group_by().\""
   ]
  },
  {
   "cell_type": "markdown",
   "id": "53d1c6c8-4e96-406b-8053-0ca19720e9e1",
   "metadata": {},
   "source": [
    "## 5.9 Question 9: Performance Comparison: Filtering vs Grouping (In-Memory)"
   ]
  },
  {
   "cell_type": "markdown",
   "id": "63f63978-e265-47dd-803f-29c3297a1f5b",
   "metadata": {},
   "source": [
    "Sometimes we want to both filter and group data; for example, in this question we want to both group by `pu_location_id` and view the results for just one `pu_location_id`. In these cases, we can filter first or group by first and get the same result. So which is faster, and why--grouping then filtering, or filtering and grouping? Perform the following timing tests to get the answer, and choose the best explanation. (Note: we are in in-memory mode here.)"
   ]
  },
  {
   "cell_type": "code",
   "execution_count": 11,
   "id": "c833eef4-026a-4605-b455-ba657ab2d15c",
   "metadata": {},
   "outputs": [
    {
     "name": "stdout",
     "output_type": "stream",
     "text": [
      "1.58 ms ± 385 µs per loop (mean ± std. dev. of 7 runs, 3 loops each)\n"
     ]
    }
   ],
   "source": [
    "%%timeit -n 3\n",
    "result = (\n",
    "    df\n",
    "    .filter(\n",
    "        pl.col(\"pu_location_id\").eq(1)\n",
    "    )\n",
    "    .group_by(\n",
    "        \"pu_location_id\"\n",
    "    )\n",
    "    .agg(\n",
    "        pl.col(\"trip_distance\").max()\n",
    "    )\n",
    ")"
   ]
  },
  {
   "cell_type": "code",
   "execution_count": 12,
   "id": "0e140bd8-95ba-4254-9587-63553f4d29ba",
   "metadata": {},
   "outputs": [
    {
     "name": "stdout",
     "output_type": "stream",
     "text": [
      "153 ms ± 403 µs per loop (mean ± std. dev. of 7 runs, 3 loops each)\n"
     ]
    }
   ],
   "source": [
    "%%timeit -n 3\n",
    "result = (\n",
    "    df\n",
    "    .group_by(\n",
    "        \"pu_location_id\"\n",
    "    )\n",
    "    .agg(\n",
    "        pl.col(\"trip_distance\").max()\n",
    "    )\n",
    "    .filter(\n",
    "        pl.col(\"pu_location_id\").eq(1)\n",
    "    )\n",
    ")"
   ]
  },
  {
   "cell_type": "markdown",
   "id": "182e165f-6738-4cbc-9c36-dc5ac354bfb6",
   "metadata": {},
   "source": [
    "1. They are the same, because the query optimization engine doesn't care about the order of operations. - incorrect - there is no query optimization in in-memory mode. See “Grouping DataFrames with .group_by().”\n",
    "2. Filtering before the group-by is faster, because you reduce the amount of data handled by the group by operation. - correct - Since group-by is a relatively expensive operation, reducing the amount of data it needs to operate on speeds up performance. See “Grouping DataFrames with .group_by().”\n",
    "3. Filtering after the group-by is faster, because the computer doesn't have to worry about the expensive filter operation until the end. - incorrect - Filtering is not a very expensive operation; grouping is far more expensive. See “Grouping DataFrames with .group_by().”\n",
    "4. Filtering after the group-by is faster, since the filter occurs on grouped data, thus it has less total rows to filter out. - incorrect - Though it might be true that there are less rows to filter out, the true bottleneck of the operation is the grouping itself! See “Grouping DataFrames with .group_by().”"
   ]
  },
  {
   "cell_type": "markdown",
   "id": "07b195ab-6834-4c19-a7b3-4e08eee90426",
   "metadata": {},
   "source": [
    "## 5.10 Question 10: Performance Comparison: Filtering vs Grouping (Lazy Mode)"
   ]
  },
  {
   "cell_type": "markdown",
   "id": "00850d72-9467-4356-9035-38f37e49d7fa",
   "metadata": {},
   "source": [
    "Sometimes we want to both filter and group data; for example, in this question we want to both group by `pu_location_id` and view the results for just one `pu_location_id`. In these cases, we can filter first or group by first and get the same result. So which is faster, and why--grouping then filtering, or filtering and grouping? Perform the following timing tests to get the answer, and choose the best explanation. (Note: we are in lazy mode here.)"
   ]
  },
  {
   "cell_type": "code",
   "execution_count": 13,
   "id": "8a5998de-a32b-4d30-ab9a-dad740e00443",
   "metadata": {},
   "outputs": [],
   "source": [
    "column_rename_mapping = {\n",
    "    \"VendorID\": \"vendor_id\",\n",
    "    \"RatecodeID\": \"ratecode_id\",\n",
    "    \"PULocationID\": \"pu_location_id\",\n",
    "    \"DOLocationID\": \"do_location_id\",\n",
    "    \"Airport_fee\": \"airport_fee\",\n",
    "}\n",
    "lf = (\n",
    "    pl.scan_parquet(\"../data/yellow_tripdata_2024-03.parquet\")\n",
    "    .rename(column_rename_mapping)\n",
    ")"
   ]
  },
  {
   "cell_type": "code",
   "execution_count": 14,
   "id": "5f5a2dbc-c9f2-4f5e-8afc-fa1269026380",
   "metadata": {},
   "outputs": [
    {
     "name": "stdout",
     "output_type": "stream",
     "text": [
      "13.7 ms ± 1.38 ms per loop (mean ± std. dev. of 7 runs, 3 loops each)\n"
     ]
    }
   ],
   "source": [
    "%%timeit -n 3\n",
    "result = (\n",
    "    lf\n",
    "    .filter(\n",
    "        pl.col(\"pu_location_id\").eq(1)\n",
    "    )\n",
    "    .group_by(\n",
    "        \"pu_location_id\"\n",
    "    )\n",
    "    .agg(\n",
    "        pl.col(\"trip_distance\").max()\n",
    "    )\n",
    "    .collect()\n",
    ")"
   ]
  },
  {
   "cell_type": "code",
   "execution_count": 15,
   "id": "0c2d1669-5878-4235-92b8-a6e585198cfc",
   "metadata": {},
   "outputs": [
    {
     "name": "stdout",
     "output_type": "stream",
     "text": [
      "12.6 ms ± 599 µs per loop (mean ± std. dev. of 7 runs, 3 loops each)\n"
     ]
    }
   ],
   "source": [
    "%%timeit -n 3\n",
    "result = (\n",
    "    lf\n",
    "    .group_by(\n",
    "        \"pu_location_id\"\n",
    "    )\n",
    "    .agg(\n",
    "        pl.col(\"trip_distance\").max()\n",
    "    )\n",
    "    .filter(\n",
    "        pl.col(\"pu_location_id\").eq(1)\n",
    "    )\n",
    "    .collect()\n",
    ")"
   ]
  },
  {
   "cell_type": "markdown",
   "id": "276886c0-4f67-4768-81df-2f2b52521f86",
   "metadata": {},
   "source": [
    "1. They are the same, because the query optimization engine doesn't care about the order of operations. - correct - after the query hits the query optimization engine, they become the same query. See “Grouping DataFrames with .group_by().”\n",
    "2. Filtering before the group-by is faster, because you reduce the amount of data handled by the group by operation. - incorrect - this might be the case in in-memory mode, but not in lazy mode! See “Grouping DataFrames with .group_by().”\n",
    "3. Filtering after the group-by is faster, because the computer doesn't have to worry about the expensive filter operation until the end. - incorrect - Filtering is actually not an expensive operation; grouping is far more expensive. Either way, it doesn't apply in lazy mode! See “Grouping DataFrames with .group_by().”\n",
    "4. Filtering after the group-by is faster, since the filter occurs on grouped data, thus it has less total rows to filter out. - incorrect - Though it might be true that there are less rows to filter out, the true bottleneck of the operation is the grouping itself. Regardless, the query optimization engine makes this irrelevant in lazy mode! See “Grouping DataFrames with .group_by().”"
   ]
  }
 ],
 "metadata": {
  "kernelspec": {
   "display_name": "Python 3 (ipykernel)",
   "language": "python",
   "name": "python3"
  },
  "language_info": {
   "codemirror_mode": {
    "name": "ipython",
    "version": 3
   },
   "file_extension": ".py",
   "mimetype": "text/x-python",
   "name": "python",
   "nbconvert_exporter": "python",
   "pygments_lexer": "ipython3",
   "version": "3.12.3"
  }
 },
 "nbformat": 4,
 "nbformat_minor": 5
}
