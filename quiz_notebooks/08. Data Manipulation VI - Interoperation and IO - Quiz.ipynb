{
 "cells": [
  {
   "cell_type": "markdown",
   "id": "0",
   "metadata": {},
   "source": [
    "# 8. Data Manipulation VI - Interoperation and IO - Quiz"
   ]
  },
  {
   "cell_type": "markdown",
   "id": "1",
   "metadata": {},
   "source": [
    "## 8.0. Import `polars` and Load Data"
   ]
  },
  {
   "cell_type": "code",
   "execution_count": null,
   "id": "2",
   "metadata": {},
   "outputs": [],
   "source": [
    "import polars as pl"
   ]
  },
  {
   "cell_type": "code",
   "execution_count": null,
   "id": "3",
   "metadata": {},
   "outputs": [],
   "source": [
    "zone_column_rename_mapping = {\n",
    "    \"LocationID\": \"location_id\",\n",
    "    \"Borough\": \"borough\",\n",
    "    \"Zone\": \"zone\",\n",
    "}\n",
    "zones_df = (\n",
    "    pl.read_parquet(\"../data/taxi_zone_lookup.parquet\")\n",
    "    .rename(zone_column_rename_mapping)\n",
    ")"
   ]
  },
  {
   "cell_type": "code",
   "execution_count": null,
   "id": "4",
   "metadata": {},
   "outputs": [],
   "source": [
    "yellow_rides_column_rename_mapping = {\n",
    "    \"VendorID\": \"vendor_id\",\n",
    "    \"RatecodeID\": \"ratecode_id\",\n",
    "    \"PULocationID\": \"pu_location_id\",\n",
    "    \"DOLocationID\": \"do_location_id\",\n",
    "    \"Airport_fee\": \"airport_fee\",\n",
    "}\n",
    "\n",
    "rides_df = (\n",
    "    pl.read_parquet(\"../data/yellow_tripdata_2024-03.parquet\")\n",
    "    .rename(yellow_rides_column_rename_mapping)\n",
    "    .join(\n",
    "        zones_df.select(pl.all().name.prefix(\"pu_\")),\n",
    "        on=\"pu_location_id\",\n",
    "    )\n",
    "    .join(\n",
    "        zones_df.select(pl.all().name.prefix(\"do_\")),\n",
    "        on=\"do_location_id\",\n",
    "    )\n",
    ")"
   ]
  },
  {
   "cell_type": "markdown",
   "id": "5",
   "metadata": {},
   "source": [
    "## 8.1 Question 1: DataFrame Shape from List of Lists (Column Orientation)"
   ]
  },
  {
   "cell_type": "markdown",
   "id": "6",
   "metadata": {},
   "source": [
    "Given the data in the form of a list of lists, create a DataFrame using `pl.from_records()` with a column orientation. What is the shape of that DataFrame?"
   ]
  },
  {
   "cell_type": "code",
   "execution_count": null,
   "id": "7",
   "metadata": {},
   "outputs": [],
   "source": [
    "data = [\n",
    "    [\"bonnie\", \"ronnie\", \"donny\", \"johnny\", \"scrawny\"],\n",
    "    list(range(5)),\n",
    "    list(range(4, 9)),\n",
    "]\n",
    "result = (\n",
    "    #### YOUR CODE HERE\n",
    ")\n",
    "print(result)"
   ]
  },
  {
   "cell_type": "markdown",
   "id": "8",
   "metadata": {},
   "source": [
    "1. (3, 5)\n",
    "2. (5, 3)"
   ]
  },
  {
   "cell_type": "markdown",
   "id": "9",
   "metadata": {},
   "source": [
    "## 8.2 Question 2: DataFrame Shape from List of Lists (Row Orientation)"
   ]
  },
  {
   "cell_type": "markdown",
   "id": "10",
   "metadata": {},
   "source": [
    "Given the data in the form of a list of lists, create a DataFrame using `pl.from_records()` with a row orientation. What is the shape of that DataFrame?"
   ]
  },
  {
   "cell_type": "code",
   "execution_count": null,
   "id": "11",
   "metadata": {},
   "outputs": [],
   "source": [
    "data = [\n",
    "    [\"bonnie\", \"ronnie\", \"donny\", \"johnny\", \"scrawny\"],\n",
    "    list(range(5)),\n",
    "    list(range(4, 9)),\n",
    "]\n",
    "result = (\n",
    "    #### YOUR CODE HERE\n",
    ")\n",
    "print(result)"
   ]
  },
  {
   "cell_type": "markdown",
   "id": "12",
   "metadata": {},
   "source": [
    "1. (3, 5)\n",
    "2. (5, 3)"
   ]
  },
  {
   "cell_type": "markdown",
   "id": "13",
   "metadata": {},
   "source": [
    "## 8.3 Question 3: Datatype Changes After CSV Write and Read"
   ]
  },
  {
   "cell_type": "markdown",
   "id": "14",
   "metadata": {},
   "source": [
    "Save out the DataFrame to a CSV file with `.write_csv()` to `\"./temp_file.csv\"`. Then, read it back in with `.read_csv()`. Have the datatypes changed?"
   ]
  },
  {
   "cell_type": "code",
   "execution_count": null,
   "id": "15",
   "metadata": {},
   "outputs": [],
   "source": [
    "save_path = \"temp_file.csv\"\n",
    "df = pl.DataFrame([\n",
    "    pl.Series(name=\"a\", values=500 * [\"derek\", \"carole\"]),\n",
    "    pl.Series(name=\"b\", values=list(range(1000))),\n",
    "    pl.Series(name=\"c\", values=[i % 4 for i in list(range(1000))], dtype=pl.UInt8),\n",
    "])\n",
    "print(df.head(0))  # See schema before saving.\n",
    "#### YOUR CODE HERE"
   ]
  },
  {
   "cell_type": "markdown",
   "id": "16",
   "metadata": {},
   "source": [
    "1. Yes\n",
    "2. No"
   ]
  },
  {
   "cell_type": "markdown",
   "id": "17",
   "metadata": {},
   "source": [
    "## 8.4 Question 4: Datatype Changes After NDJSON Write and Read"
   ]
  },
  {
   "cell_type": "markdown",
   "id": "18",
   "metadata": {},
   "source": [
    "Save out the DataFrame to an NDJSON file with `.write_ndjson()` to `\"./temp_file.njson\"`. Then, read it back in with `.read_ndjson()`. Have the datatypes changed?"
   ]
  },
  {
   "cell_type": "code",
   "execution_count": null,
   "id": "19",
   "metadata": {},
   "outputs": [],
   "source": [
    "save_path = \"temp_file.njson\"\n",
    "df = pl.DataFrame([\n",
    "    pl.Series(name=\"a\", values=500 * [\"derek\", \"carole\"]),\n",
    "    pl.Series(name=\"b\", values=list(range(1000))),\n",
    "    pl.Series(name=\"c\", values=[i % 4 for i in list(range(1000))], dtype=pl.UInt8),\n",
    "])\n",
    "print(df.head(0))  # See schema before saving.\n",
    "#### YOUR CODE HERE"
   ]
  },
  {
   "cell_type": "markdown",
   "id": "20",
   "metadata": {},
   "source": [
    "1. Yes\n",
    "2. No"
   ]
  },
  {
   "cell_type": "markdown",
   "id": "21",
   "metadata": {},
   "source": [
    "## 8.5 Question 5: Datatype Changes After Parquet Write and Read"
   ]
  },
  {
   "cell_type": "markdown",
   "id": "22",
   "metadata": {},
   "source": [
    "Save out the DataFrame to a Parquet file with `.write_parquet()` to `\"./temp_file.parquet\"`. Then, read it back in with `.read_parquet()`. Have the datatypes changed?"
   ]
  },
  {
   "cell_type": "code",
   "execution_count": null,
   "id": "23",
   "metadata": {},
   "outputs": [],
   "source": [
    "save_path = \"temp_file.parquet\"\n",
    "df = pl.DataFrame([\n",
    "    pl.Series(name=\"a\", values=500 * [\"derek\", \"carole\"]),\n",
    "    pl.Series(name=\"b\", values=list(range(1000))),\n",
    "    pl.Series(name=\"c\", values=[i % 4 for i in list(range(1000))], dtype=pl.UInt8),\n",
    "])\n",
    "print(df.head(0))  # See schema before saving.\n",
    "#### YOUR CODE HERE"
   ]
  },
  {
   "cell_type": "markdown",
   "id": "24",
   "metadata": {},
   "source": [
    "1. Yes\n",
    "2. No"
   ]
  }
 ],
 "metadata": {
  "kernelspec": {
   "display_name": "Python 3 (ipykernel)",
   "language": "python",
   "name": "python3"
  },
  "language_info": {
   "codemirror_mode": {
    "name": "ipython",
    "version": 3
   },
   "file_extension": ".py",
   "mimetype": "text/x-python",
   "name": "python",
   "nbconvert_exporter": "python",
   "pygments_lexer": "ipython3",
   "version": "3.12.3"
  }
 },
 "nbformat": 4,
 "nbformat_minor": 5
}
