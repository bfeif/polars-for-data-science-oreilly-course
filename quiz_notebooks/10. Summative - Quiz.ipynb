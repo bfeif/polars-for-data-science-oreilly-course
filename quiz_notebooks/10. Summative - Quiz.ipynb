{
 "cells": [
  {
   "cell_type": "markdown",
   "id": "0",
   "metadata": {},
   "source": [
    "# 10. Summative - Quiz"
   ]
  },
  {
   "cell_type": "markdown",
   "id": "1",
   "metadata": {},
   "source": [
    "## 10.0. Import `polars` and Load Data"
   ]
  },
  {
   "cell_type": "code",
   "execution_count": null,
   "id": "2",
   "metadata": {},
   "outputs": [],
   "source": [
    "import matplotlib.pyplot as plt\n",
    "import polars as pl\n",
    "from sklearn.metrics import mean_absolute_error\n",
    "\n",
    "pl.Config.set_tbl_rows(16)"
   ]
  },
  {
   "cell_type": "code",
   "execution_count": null,
   "id": "3",
   "metadata": {},
   "outputs": [],
   "source": [
    "zone_column_rename_mapping = {\n",
    "    \"LocationID\": \"location_id\",\n",
    "    \"Borough\": \"borough\",\n",
    "    \"Zone\": \"zone\",\n",
    "}\n",
    "zones_df = (\n",
    "    pl.read_parquet(\"../data/taxi_zone_lookup.parquet\")\n",
    "    .rename(zone_column_rename_mapping)\n",
    ")"
   ]
  },
  {
   "cell_type": "code",
   "execution_count": null,
   "id": "4",
   "metadata": {},
   "outputs": [],
   "source": [
    "yellow_rides_column_rename_mapping = {\n",
    "    \"VendorID\": \"vendor_id\",\n",
    "    \"RatecodeID\": \"ratecode_id\",\n",
    "    \"PULocationID\": \"pu_location_id\",\n",
    "    \"DOLocationID\": \"do_location_id\",\n",
    "    \"Airport_fee\": \"airport_fee\",\n",
    "}\n",
    "\n",
    "rides_df_raw = (\n",
    "    pl.read_parquet(\"../data/yellow_tripdata_2024-03.parquet\")\n",
    "    .rename(yellow_rides_column_rename_mapping)\n",
    "    .join(\n",
    "        zones_df.select(pl.all().name.prefix(\"pu_\")),\n",
    "        on=\"pu_location_id\",\n",
    "    )\n",
    "    .join(\n",
    "        zones_df.select(pl.all().name.prefix(\"do_\")),\n",
    "        on=\"do_location_id\",\n",
    "    )\n",
    ")"
   ]
  },
  {
   "cell_type": "markdown",
   "id": "5",
   "metadata": {},
   "source": [
    "## 10.1 Question 1: Identifying Data Types in a New DataFrame"
   ]
  },
  {
   "cell_type": "markdown",
   "id": "6",
   "metadata": {},
   "source": [
    "Create a DataFrame from the data. Which of the following datatypes can be found in the resultant DataFrame? Select all that apply."
   ]
  },
  {
   "cell_type": "code",
   "execution_count": null,
   "id": "7",
   "metadata": {},
   "outputs": [],
   "source": [
    "address_data_dict = {\n",
    "    \"id\": [1, 2, 3, 4, ],\n",
    "    \"street\": [\"Thoreau Rd\", \"Flanders St\", \"Candy Ave\", \"State St\", ],\n",
    "    \"street_number\": [17, 18, 39, 30, ]\n",
    "}\n",
    "#### YOUR CODE HERE"
   ]
  },
  {
   "cell_type": "markdown",
   "id": "8",
   "metadata": {},
   "source": [
    "1. `i64`\n",
    "2. `u64`\n",
    "3. `i8`\n",
    "4. `str`"
   ]
  },
  {
   "cell_type": "markdown",
   "id": "9",
   "metadata": {},
   "source": [
    "## 10.2 Question 2: Schema Override for Trip Distance"
   ]
  },
  {
   "cell_type": "markdown",
   "id": "10",
   "metadata": {},
   "source": [
    "Load the rides data from the CSV file, using `schema_overrides` to force `trip_distance` to be `pl.Int64`. What happens?"
   ]
  },
  {
   "cell_type": "code",
   "execution_count": null,
   "id": "11",
   "metadata": {},
   "outputs": [],
   "source": [
    "result_df = pl.read_csv(\n",
    "    \"../data/yellow_tripdata_2024-03.csv\",\n",
    "    schema_overrides={\n",
    "        #### YOUR CODE HERE\n",
    "    }\n",
    ")\n",
    "result_df.head()"
   ]
  },
  {
   "cell_type": "markdown",
   "id": "12",
   "metadata": {},
   "source": [
    "1. An error is thrown, stating that \"`schema_overrides` only works on `str` columns\".\n",
    "2. The code runs successfully, casting the would-be `float` column to `pl.Int64` upon instantiation of the dataframe.\n",
    "3. An error is thrown, stating that data from the column can't be parsed to `pl.Int64`.\n",
    "4. The code runs successfully, ignoring the schema override and simply loading the data as `pl.Float64`"
   ]
  },
  {
   "cell_type": "markdown",
   "id": "13",
   "metadata": {},
   "source": [
    "## 10.3 Question 3: Maximum Congestion Surcharge"
   ]
  },
  {
   "cell_type": "markdown",
   "id": "14",
   "metadata": {},
   "source": [
    "What is the maximum `congestion_surcharge` in `rides_df_raw`?"
   ]
  },
  {
   "cell_type": "code",
   "execution_count": null,
   "id": "15",
   "metadata": {},
   "outputs": [],
   "source": [
    "result = (\n",
    "    rides_df_raw\n",
    "    #### YOUR CODE HERE\n",
    ")\n",
    "print(result)"
   ]
  },
  {
   "cell_type": "markdown",
   "id": "16",
   "metadata": {},
   "source": [
    "1. -2.5\n",
    "2. 900.0\n",
    "3. 2.5\n",
    "4. 3.4"
   ]
  },
  {
   "cell_type": "markdown",
   "id": "17",
   "metadata": {},
   "source": [
    "## 10.4 Question 4: Top Trip Distance After Sorting"
   ]
  },
  {
   "cell_type": "markdown",
   "id": "18",
   "metadata": {},
   "source": [
    "Sort `rides_df_raw` in descending order by the following columns in this order: `congestion_surcharge`, `tip_amount`, `trip_distance`. What is the `trip_distance` of the top trip?"
   ]
  },
  {
   "cell_type": "code",
   "execution_count": null,
   "id": "19",
   "metadata": {},
   "outputs": [],
   "source": [
    "result = (\n",
    "    rides_df_raw\n",
    "    #### YOUR CODE HERE\n",
    ")\n",
    "print(result)"
   ]
  },
  {
   "cell_type": "markdown",
   "id": "20",
   "metadata": {},
   "source": [
    "1. 176836.3\n",
    "2. 0.0\n",
    "3. 166.1\n",
    "4. 28.9"
   ]
  },
  {
   "cell_type": "markdown",
   "id": "21",
   "metadata": {},
   "source": [
    "## 10.5 Question 5: Trips Within Distance Range"
   ]
  },
  {
   "cell_type": "markdown",
   "id": "22",
   "metadata": {},
   "source": [
    "How many trips had a `trip_distance` greater than 1 kilometer (km) and less than 2 km?"
   ]
  },
  {
   "cell_type": "code",
   "execution_count": null,
   "id": "23",
   "metadata": {},
   "outputs": [],
   "source": [
    "kilometers_per_mile = 1.61\n",
    "result = (\n",
    "    rides_df_raw\n",
    "    #### YOUR CODE HERE\n",
    ")\n",
    "print(result)"
   ]
  },
  {
   "cell_type": "markdown",
   "id": "24",
   "metadata": {},
   "source": [
    "1. 838278\n",
    "2. 1112153\n",
    "3. 1\n",
    "4. 99283"
   ]
  },
  {
   "cell_type": "markdown",
   "id": "25",
   "metadata": {},
   "source": [
    "## 10.6 Question 6: Comparison of Different Data Types"
   ]
  },
  {
   "cell_type": "markdown",
   "id": "26",
   "metadata": {},
   "source": [
    "Try to add a column code that checks whether `do_zone` is greater than zero. What happens and why?"
   ]
  },
  {
   "cell_type": "code",
   "execution_count": null,
   "id": "27",
   "metadata": {},
   "outputs": [],
   "source": [
    "result = (\n",
    "    rides_df_raw\n",
    "    #### YOUR CODE HERE\n",
    ")\n",
    "print(result)"
   ]
  },
  {
   "cell_type": "markdown",
   "id": "28",
   "metadata": {},
   "source": [
    "1. The code crashes because a string cannot be compared with an integer\n",
    "2. The code crashes because a Boolean column cannot be added to a DataFrame with `.with_columns()`\n",
    "3. The code runs successfully, adding a column that checks whether the `do_zone` is alphabetically greater than the string \"0\"\n",
    "4. The code runs successfully; however, since strings and integers can't be compared in Polars, the resultant column is null everywhere"
   ]
  },
  {
   "cell_type": "markdown",
   "id": "29",
   "metadata": {},
   "source": [
    "## 10.7 Question 7: Equivalent Renaming Expression"
   ]
  },
  {
   "cell_type": "markdown",
   "id": "30",
   "metadata": {},
   "source": [
    "See the renaming, which uses `.select` and `.rename()`. What expression using `.select` and name transformations from the `.name` namespace would accomplish the same function?"
   ]
  },
  {
   "cell_type": "code",
   "execution_count": null,
   "id": "31",
   "metadata": {},
   "outputs": [],
   "source": [
    "columns_to_rename = [\"do_location_id\", \"pu_location_id\"]\n",
    "df_w_cols_renamed = (\n",
    "    rides_df_raw\n",
    "    .select(columns_to_rename)\n",
    "    .rename({\n",
    "        column_to_rename: f\"{column_to_rename}_renamed\"\n",
    "        for column_to_rename in columns_to_rename\n",
    "    })\n",
    "    .head()\n",
    ")\n",
    "print(df_w_cols_renamed)"
   ]
  },
  {
   "cell_type": "markdown",
   "id": "32",
   "metadata": {},
   "source": [
    "1. `.select(pl.col(pl.Int32).name.suffix(\"_renamed\"))`\n",
    "2. `.select(pl.col([\"do_location_id\", \"pu_location_id\"]).name.suffix(\"_renamed\"))`\n",
    "3. `.select(pl.col([\"do_location_id\", \"pu_location_id\"]).alias(\"_renamed\"))`\n",
    "4. `.select(pl.String).name.suffix(\"_renamed\"))`"
   ]
  },
  {
   "cell_type": "markdown",
   "id": "33",
   "metadata": {},
   "source": [
    "## 10.8 Question 8: Adding Suffixed Columns for Int8 Type"
   ]
  },
  {
   "cell_type": "markdown",
   "id": "34",
   "metadata": {},
   "source": [
    "Add a few new columns to the DataFrame that copy all `pl.Int8` columns and give them the suffix `_new`. What is the size of the resultant DataFrame?"
   ]
  },
  {
   "cell_type": "code",
   "execution_count": null,
   "id": "35",
   "metadata": {},
   "outputs": [],
   "source": [
    "result = (\n",
    "    rides_df_raw\n",
    "    #### YOUR CODE HERE\n",
    ")\n",
    "print(result)"
   ]
  },
  {
   "cell_type": "markdown",
   "id": "36",
   "metadata": {},
   "source": [
    "1. (3582628, 28)\n",
    "2. (0, 0)\n",
    "3. (3582628, 25)\n",
    "4. (3582628, 35)"
   ]
  },
  {
   "cell_type": "markdown",
   "id": "37",
   "metadata": {},
   "source": [
    "## 10.9 Question 9: Most Common Congestion Surcharge"
   ]
  },
  {
   "cell_type": "markdown",
   "id": "38",
   "metadata": {},
   "source": [
    "Use `.group_by()` to determine the most common value for `congestion_surcharge` in the dataset?"
   ]
  },
  {
   "cell_type": "code",
   "execution_count": null,
   "id": "39",
   "metadata": {},
   "outputs": [],
   "source": [
    "result = (\n",
    "    rides_df_raw\n",
    "    #### YOUR CODE HERE\n",
    ")\n",
    "print(result)"
   ]
  },
  {
   "cell_type": "markdown",
   "id": "40",
   "metadata": {},
   "source": [
    "1. -0.75\n",
    "2. 202.18\n",
    "3. 134.51\n",
    "4. 2.5"
   ]
  },
  {
   "cell_type": "markdown",
   "id": "41",
   "metadata": {},
   "source": [
    "## 10.10 Question 10: Zero-Tip Two-Passenger Rides Count"
   ]
  },
  {
   "cell_type": "markdown",
   "id": "42",
   "metadata": {},
   "source": [
    "Create a `.pivot_table()` where the rows reflect whether the `tip_amount` was 0 or not and the columns are `passenger_count`. Then, for each combination of \"tip_amount is 0\" and `passenger_count`, compute the number of instances by using `aggregate_function` \"len\". How many rides had a `tip_amount` of 0 and a `passenger_count` of 2?"
   ]
  },
  {
   "cell_type": "code",
   "execution_count": null,
   "id": "43",
   "metadata": {},
   "outputs": [],
   "source": [
    "result = (\n",
    "    rides_df_raw\n",
    "    #### YOUR CODE HERE\n",
    ")\n",
    "print(result)"
   ]
  },
  {
   "cell_type": "markdown",
   "id": "44",
   "metadata": {},
   "source": [
    "1. 104748\n",
    "2. 349149\n",
    "3. 1.7435e6\n",
    "4. 1358"
   ]
  },
  {
   "cell_type": "markdown",
   "id": "45",
   "metadata": {},
   "source": [
    "## 10.11 Question 11: Left-Join Result Shape"
   ]
  },
  {
   "cell_type": "markdown",
   "id": "46",
   "metadata": {},
   "source": [
    "Join the following two DataFrames using a left-join (`restaurant_df` into `name_df`, on the name of the restaurant). What is the shape of the resultant DataFrame?"
   ]
  },
  {
   "cell_type": "code",
   "execution_count": null,
   "id": "47",
   "metadata": {},
   "outputs": [],
   "source": [
    "name_df = pl.DataFrame({\n",
    "    \"name\": [\"dan\", \"stan\", \"ran\", \"cran\"],\n",
    "    \"favorite_restaurant\": [\"Pablo's Pizza\", \"Taco Time!\", \"Taco Time!\", \"Pablo's Pizza\"]\n",
    "})\n",
    "restaurant_df = pl.DataFrame({\n",
    "    \"restaurant_name\": [\"Pablo's Pizza\", \"Taco Time!\", \"Toledo's Burritos\",],\n",
    "    \"restaurant_city\": [\"Boston\", \"New York\", \"Los Angeles\",]\n",
    "})\n",
    "result = (\n",
    "    #### YOUR CODE HERE\n",
    ")\n",
    "print(result)"
   ]
  },
  {
   "cell_type": "markdown",
   "id": "48",
   "metadata": {},
   "source": [
    "1. (5, 3)\n",
    "2. The code doesn't run, throwing a `ColumnNotFoundError`\n",
    "3. (4, 3)\n",
    "4. (0, 2)"
   ]
  },
  {
   "cell_type": "markdown",
   "id": "49",
   "metadata": {},
   "source": [
    "## 10.12 Question 12: Anti-Join Result Shape"
   ]
  },
  {
   "cell_type": "markdown",
   "id": "50",
   "metadata": {},
   "source": [
    "Join the two DataFrames using an anti-join (`restaurant_df` into `name_df`, on the name of the restaurant). What is the shape of the resultant DataFrame?"
   ]
  },
  {
   "cell_type": "code",
   "execution_count": null,
   "id": "51",
   "metadata": {},
   "outputs": [],
   "source": [
    "name_df = pl.DataFrame({\n",
    "    \"name\": [\"dan\", \"stan\", \"ran\", \"cran\"],\n",
    "    \"favorite_restaurant\": [\"Pablo's Pizza\", \"Taco Time!\", \"Taco Time!\", \"Pablo's Pizza\"]\n",
    "})\n",
    "restaurant_df = pl.DataFrame({\n",
    "    \"restaurant_name\": [\"Pablo's Pizza\", \"Taco Time!\", \"Toledo's Burritos\",],\n",
    "    \"restaurant_city\": [\"Boston\", \"New York\", \"Los Angeles\",]\n",
    "})\n",
    "result = (\n",
    "    #### YOUR CODE HERE\n",
    ")\n",
    "print(result)"
   ]
  },
  {
   "cell_type": "markdown",
   "id": "52",
   "metadata": {},
   "source": [
    "1. (1, 2)\n",
    "2. The code doesn't run, throwing a `ColumnNotFoundError`\n",
    "3. (4, 3)\n",
    "4. (0, 2)"
   ]
  },
  {
   "cell_type": "markdown",
   "id": "53",
   "metadata": {},
   "source": [
    "## 10.13 Question 13: Null Count After Diagonal Concatenation"
   ]
  },
  {
   "cell_type": "markdown",
   "id": "54",
   "metadata": {},
   "source": [
    "Vertically concatenate the DataFrames (with setting `\"how=diagonal\"`). How many null values are there in the resultant DataFrame?"
   ]
  },
  {
   "cell_type": "code",
   "execution_count": null,
   "id": "55",
   "metadata": {},
   "outputs": [],
   "source": [
    "df1 = pl.DataFrame({\n",
    "    \"A\": [1, 2, None, 4],\n",
    "    \"B\": [5, None, 7, 8]\n",
    "})\n",
    "df2 = pl.DataFrame({\n",
    "    \"A\": [9, 10, None],\n",
    "    \"B\": [None, 13, 14],\n",
    "    \"C\": [15, 16, 17]\n",
    "})\n",
    "df3 = pl.DataFrame({\n",
    "    \"A\": [18, None, 20],\n",
    "    \"B\": [21, 22, 23],\n",
    "    \"D\": [24, 25, None]\n",
    "})\n",
    "#### YOUR CODE HERE"
   ]
  },
  {
   "cell_type": "markdown",
   "id": "56",
   "metadata": {},
   "source": [
    "1. 20\n",
    "2. 6\n",
    "3. The code doesn't run due to a `ShapeError`\n",
    "4. 0"
   ]
  },
  {
   "cell_type": "markdown",
   "id": "57",
   "metadata": {},
   "source": [
    "## 10.14 Question 14: Fraction of Early March Rides"
   ]
  },
  {
   "cell_type": "markdown",
   "id": "58",
   "metadata": {},
   "source": [
    "What fraction of rides in the DataFrame started before 2024-03-15 (i.e., had a `tpep_pickup_datetime` before 2024-03-15)?"
   ]
  },
  {
   "cell_type": "code",
   "execution_count": null,
   "id": "59",
   "metadata": {},
   "outputs": [],
   "source": [
    "result = (\n",
    "    rides_df_raw\n",
    "    #### YOUR CODE HERE\n",
    ")\n",
    "print(result)"
   ]
  },
  {
   "cell_type": "markdown",
   "id": "60",
   "metadata": {},
   "source": [
    "1. 0.455174\n",
    "2. 0.455173\n",
    "3. 1.0\n",
    "4. 1630716"
   ]
  },
  {
   "cell_type": "markdown",
   "id": "61",
   "metadata": {},
   "source": [
    "## 10.15 Question 15: List Column Aggregation Behavior"
   ]
  },
  {
   "cell_type": "markdown",
   "id": "62",
   "metadata": {},
   "source": [
    "Group the following DataFrame by `class`, and `.sum()` the `salient_appendages` column (which is a list type) to create a list of all `salient_appendages` for that animal class. What happens?"
   ]
  },
  {
   "cell_type": "code",
   "execution_count": null,
   "id": "63",
   "metadata": {},
   "outputs": [],
   "source": [
    "animal_appendages_df = pl.DataFrame({\n",
    "    \"animal\": [\"human\", \"elephant\", \"shark\", \"stingray\"],\n",
    "    \"class\": [\"mammal\", \"mammal\", \"chondrichthyes\", \"chondrichthyes\"],\n",
    "    \"salient_appendages\": [\n",
    "        [\"arm\", \"leg\", \"head\"],\n",
    "        [\"arm\", \"leg\", \"head\", \"trunk\"],\n",
    "        [\"fin\", \"tail\", \"jaw\"],\n",
    "        [\"fin\", \"tail\", \"stinger\"],\n",
    "    ]\n",
    "})\n",
    "result = (\n",
    "    #### YOUR CODE HERE\n",
    ")\n",
    "print(result)"
   ]
  },
  {
   "cell_type": "markdown",
   "id": "64",
   "metadata": {},
   "source": [
    "1. The code runs smoothly, but the resultant aggregated column is filled with nulls\n",
    "2. The code runs smoothly, and the resultant column is a combined list of all `salient_appendages` for that animal class\n",
    "3. The code crashes with a datatype error, saying that \"list columns cannot be added together in a group_by\"\n",
    "4. The code runs smoothly, and the resultant column is a list of lists of all values for `salient_appendages` for that animal class"
   ]
  },
  {
   "cell_type": "markdown",
   "id": "65",
   "metadata": {},
   "source": [
    "## 10.16 Question 16: Weekend vs Weekday Tip Comparison"
   ]
  },
  {
   "cell_type": "markdown",
   "id": "66",
   "metadata": {},
   "source": [
    "True or False: weekend taxi trips (trips that have a `tpep_pickup_datetime` on Saturday or Sunday) have on average higher tip amounts than non-weekend taxi trips."
   ]
  },
  {
   "cell_type": "code",
   "execution_count": null,
   "id": "67",
   "metadata": {},
   "outputs": [],
   "source": [
    "result = (\n",
    "    rides_df_raw\n",
    "    #### YOUR CODE HERE\n",
    ")\n",
    "print(result)"
   ]
  },
  {
   "cell_type": "markdown",
   "id": "68",
   "metadata": {},
   "source": [
    "1. False\n",
    "2. True"
   ]
  },
  {
   "cell_type": "markdown",
   "id": "69",
   "metadata": {},
   "source": [
    "## 10.17 Question 17: NumPy to Polars DataFrame Conversion"
   ]
  },
  {
   "cell_type": "markdown",
   "id": "70",
   "metadata": {},
   "source": [
    "Convert the following NumPy array to a Polars DataFrame. What are the datatypes of the resultant DataFrame?"
   ]
  },
  {
   "cell_type": "code",
   "execution_count": null,
   "id": "71",
   "metadata": {},
   "outputs": [],
   "source": [
    "import numpy as np\n",
    "np_array = np.random.rand(4, 2)\n",
    "#### YOUR CODE HERE"
   ]
  },
  {
   "cell_type": "markdown",
   "id": "72",
   "metadata": {},
   "source": [
    "1. `f64`, `f64`\n",
    "2. `f32`, `f32`\n",
    "3. `f64`, `f64`, `f64`, `f64`\n",
    "4. The code doesn't run due to a datatype conversion error"
   ]
  },
  {
   "cell_type": "markdown",
   "id": "73",
   "metadata": {},
   "source": [
    "## 10.18 Question 18: Polars to Pandas to Polars Series Conversion"
   ]
  },
  {
   "cell_type": "markdown",
   "id": "74",
   "metadata": {},
   "source": [
    "Create a Polars series, convert it to Pandas, and then convert it back to Polars. True or False: the result upon returning to Polars is now a single-column DataFrame."
   ]
  },
  {
   "cell_type": "code",
   "execution_count": null,
   "id": "75",
   "metadata": {},
   "outputs": [],
   "source": [
    "polars_series = pl.Series(name=\"polars_series\", values=list(range(10)))\n",
    "#### YOUR CODE HERE"
   ]
  },
  {
   "cell_type": "markdown",
   "id": "76",
   "metadata": {},
   "source": [
    "1. True\n",
    "2. False"
   ]
  },
  {
   "cell_type": "markdown",
   "id": "77",
   "metadata": {},
   "source": [
    "## 10.19 Question 19: Feature Most Correlated with Tip Amount"
   ]
  },
  {
   "cell_type": "markdown",
   "id": "78",
   "metadata": {},
   "source": [
    "Using `rides_df_raw`, which feature is most highly correlated (either positively or negatively) with `tip_amount` (excluding `tip_amount` itself)? Also, please filter out `null` values as done in the module!"
   ]
  },
  {
   "cell_type": "code",
   "execution_count": null,
   "id": "79",
   "metadata": {},
   "outputs": [],
   "source": [
    "#### YOUR CODE HERE"
   ]
  },
  {
   "cell_type": "markdown",
   "id": "80",
   "metadata": {},
   "source": [
    "1. `tip_amount`\n",
    "2. `total_amount`\n",
    "3. `congestion_surcharge`\n",
    "4. `passenger_count`"
   ]
  },
  {
   "cell_type": "markdown",
   "id": "81",
   "metadata": {},
   "source": [
    "## 10.20 Question 20: Hourly Average Total Amount Analysis"
   ]
  },
  {
   "cell_type": "markdown",
   "id": "82",
   "metadata": {},
   "source": [
    "With `rides_df_raw`, make a plot of 'hour of day of taxi ride' vs 'average total_amount'. Which of the following statements is True (hint: there are multiple options)?"
   ]
  },
  {
   "cell_type": "code",
   "execution_count": null,
   "id": "83",
   "metadata": {},
   "outputs": [],
   "source": [
    "#### YOUR CODE HERE"
   ]
  },
  {
   "cell_type": "markdown",
   "id": "84",
   "metadata": {},
   "source": [
    "1. There appears to be a peak in average total amount around 2:00.\n",
    "2. There appears to be a peak in average total amount around 5:00.\n",
    "3. There appears to be a peak in average total amount around 16:00.\n",
    "4. There appears to be a peak in average total amount around 23:00."
   ]
  },
  {
   "cell_type": "markdown",
   "id": "85",
   "metadata": {},
   "source": []
  }
 ],
 "metadata": {
  "kernelspec": {
   "display_name": "Python 3 (ipykernel)",
   "language": "python",
   "name": "python3"
  },
  "language_info": {
   "codemirror_mode": {
    "name": "ipython",
    "version": 3
   },
   "file_extension": ".py",
   "mimetype": "text/x-python",
   "name": "python",
   "nbconvert_exporter": "python",
   "pygments_lexer": "ipython3",
   "version": "3.12.3"
  }
 },
 "nbformat": 4,
 "nbformat_minor": 5
}
