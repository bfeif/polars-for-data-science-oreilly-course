{
 "cells": [
  {
   "cell_type": "markdown",
   "id": "1653908d",
   "metadata": {},
   "source": [
    "# 10. Summative - Quiz"
   ]
  },
  {
   "cell_type": "markdown",
   "id": "97a37bab",
   "metadata": {},
   "source": [
    "## 10.0. Import `polars` and Load Data"
   ]
  },
  {
   "cell_type": "code",
   "execution_count": 1,
   "id": "9f2da0ab",
   "metadata": {},
   "outputs": [
    {
     "data": {
      "text/plain": [
       "polars.config.Config"
      ]
     },
     "execution_count": 1,
     "metadata": {},
     "output_type": "execute_result"
    }
   ],
   "source": [
    "import matplotlib.pyplot as plt\n",
    "import polars as pl\n",
    "from sklearn.metrics import mean_absolute_error\n",
    "\n",
    "pl.Config.set_tbl_rows(16)"
   ]
  },
  {
   "cell_type": "code",
   "execution_count": 2,
   "id": "37f2cb81",
   "metadata": {},
   "outputs": [],
   "source": [
    "zone_column_rename_mapping = {\n",
    "    \"LocationID\": \"location_id\",\n",
    "    \"Borough\": \"borough\",\n",
    "    \"Zone\": \"zone\",\n",
    "}\n",
    "zones_df = (\n",
    "    pl.read_parquet(\"../data/taxi_zone_lookup.parquet\")\n",
    "    .rename(zone_column_rename_mapping)\n",
    ")"
   ]
  },
  {
   "cell_type": "code",
   "execution_count": 3,
   "id": "adb7a494-c830-47a0-94a5-fc4e303a92f5",
   "metadata": {},
   "outputs": [],
   "source": [
    "yellow_rides_column_rename_mapping = {\n",
    "    \"VendorID\": \"vendor_id\",\n",
    "    \"RatecodeID\": \"ratecode_id\",\n",
    "    \"PULocationID\": \"pu_location_id\",\n",
    "    \"DOLocationID\": \"do_location_id\",\n",
    "    \"Airport_fee\": \"airport_fee\",\n",
    "}\n",
    "\n",
    "rides_df_raw = (\n",
    "    pl.read_parquet(\"../data/yellow_tripdata_2024-03.parquet\")\n",
    "    .rename(yellow_rides_column_rename_mapping)\n",
    "    .join(\n",
    "        zones_df.select(pl.all().name.prefix(\"pu_\")),\n",
    "        on=\"pu_location_id\",\n",
    "    )\n",
    "    .join(\n",
    "        zones_df.select(pl.all().name.prefix(\"do_\")),\n",
    "        on=\"do_location_id\",\n",
    "    )\n",
    ")"
   ]
  },
  {
   "cell_type": "markdown",
   "id": "57b0bf1d-bd6b-4d89-a630-a488ab427ae3",
   "metadata": {},
   "source": [
    "## 10.1 Question 1: Identifying Data Types in a New DataFrame"
   ]
  },
  {
   "cell_type": "markdown",
   "id": "be274606-1dbd-4ce0-897d-8df5ffba5254",
   "metadata": {},
   "source": [
    "Create a DataFrame from the data. Which of the following datatypes can be found in the resultant DataFrame? Select all that apply."
   ]
  },
  {
   "cell_type": "code",
   "execution_count": 4,
   "id": "d63eb221-b16b-4d1e-9975-656b7fab92ba",
   "metadata": {},
   "outputs": [
    {
     "data": {
      "text/html": [
       "<div><style>\n",
       ".dataframe > thead > tr,\n",
       ".dataframe > tbody > tr {\n",
       "  text-align: right;\n",
       "  white-space: pre-wrap;\n",
       "}\n",
       "</style>\n",
       "<small>shape: (4, 3)</small><table border=\"1\" class=\"dataframe\"><thead><tr><th>id</th><th>street</th><th>street_number</th></tr><tr><td>i64</td><td>str</td><td>i64</td></tr></thead><tbody><tr><td>1</td><td>&quot;Thoreau Rd&quot;</td><td>17</td></tr><tr><td>2</td><td>&quot;Flanders St&quot;</td><td>18</td></tr><tr><td>3</td><td>&quot;Candy Ave&quot;</td><td>39</td></tr><tr><td>4</td><td>&quot;State St&quot;</td><td>30</td></tr></tbody></table></div>"
      ],
      "text/plain": [
       "shape: (4, 3)\n",
       "┌─────┬─────────────┬───────────────┐\n",
       "│ id  ┆ street      ┆ street_number │\n",
       "│ --- ┆ ---         ┆ ---           │\n",
       "│ i64 ┆ str         ┆ i64           │\n",
       "╞═════╪═════════════╪═══════════════╡\n",
       "│ 1   ┆ Thoreau Rd  ┆ 17            │\n",
       "│ 2   ┆ Flanders St ┆ 18            │\n",
       "│ 3   ┆ Candy Ave   ┆ 39            │\n",
       "│ 4   ┆ State St    ┆ 30            │\n",
       "└─────┴─────────────┴───────────────┘"
      ]
     },
     "execution_count": 4,
     "metadata": {},
     "output_type": "execute_result"
    }
   ],
   "source": [
    "address_data_dict = {\n",
    "    \"id\": [1, 2, 3, 4, ],\n",
    "    \"street\": [\"Thoreau Rd\", \"Flanders St\", \"Candy Ave\", \"State St\", ],\n",
    "    \"street_number\": [17, 18, 39, 30, ]\n",
    "}\n",
    "#### YOUR CODE HERE"
   ]
  },
  {
   "cell_type": "markdown",
   "id": "083e095d-44e6-475c-ac48-2ec7fb381a9a",
   "metadata": {},
   "source": [
    "1. `i64`\n",
    "2. `u64`\n",
    "3. `i8`\n",
    "4. `str`"
   ]
  },
  {
   "cell_type": "markdown",
   "id": "110a5ac4-8129-4162-b8cd-5978286e8512",
   "metadata": {},
   "source": [
    "## 10.2 Question 2: Schema Override for Trip Distance"
   ]
  },
  {
   "cell_type": "markdown",
   "id": "3b7830d6-7822-46c8-a574-c901f789d91f",
   "metadata": {},
   "source": [
    "Load the rides data from the CSV file, using `schema_overrides` to force `trip_distance` to be `pl.Int64`. What happens?"
   ]
  },
  {
   "cell_type": "code",
   "execution_count": 5,
   "id": "fb345f3e-1f14-4382-8ed0-4bf267775ad4",
   "metadata": {},
   "outputs": [
    {
     "ename": "ComputeError",
     "evalue": "could not parse `0.73` as dtype `i64` at column 'trip_distance' (column number 5)\n\nThe current offset in the file is 323447842 bytes.\n\nYou might want to try:\n- increasing `infer_schema_length` (e.g. `infer_schema_length=10000`),\n- specifying correct dtype with the `dtypes` argument\n- setting `ignore_errors` to `True`,\n- adding `0.73` to the `null_values` list.\n\nOriginal error: ```remaining bytes non-empty```",
     "output_type": "error",
     "traceback": []
    }
   ],
   "source": [
    "result_df = pl.read_csv(\n",
    "    \"../data/yellow_tripdata_2024-03.csv\",\n",
    "    schema_overrides={\n",
    "        #### YOUR CODE HERE\n",
    "    }\n",
    ")\n",
    "result_df.head()"
   ]
  },
  {
   "cell_type": "markdown",
   "id": "008b914a-37ba-4cc9-94c3-fe48f04b3b86",
   "metadata": {},
   "source": [
    "1. An error is thrown, stating that \"`schema_overrides` only works on `str` columns\".\n",
    "2. The code runs successfully, casting the would-be `float` column to `pl.Int64` upon instantiation of the dataframe.\n",
    "3. An error is thrown, stating that data from the column can't be parsed to `pl.Int64`.\n",
    "4. The code runs successfully, ignoring the schema override and simply loading the data as `pl.Float64`"
   ]
  },
  {
   "cell_type": "markdown",
   "id": "95738108-11b6-466d-89ed-b1d943930cdf",
   "metadata": {},
   "source": [
    "## 10.3 Question 3: Maximum Congestion Surcharge"
   ]
  },
  {
   "cell_type": "markdown",
   "id": "2f7ca719-9c3e-42c1-b229-567f86d05b36",
   "metadata": {},
   "source": [
    "What is the maximum `congestion_surcharge` in `rides_df_raw`?"
   ]
  },
  {
   "cell_type": "code",
   "execution_count": 6,
   "id": "2afa257b-8d5f-493b-990a-47752da1631f",
   "metadata": {},
   "outputs": [
    {
     "name": "stdout",
     "output_type": "stream",
     "text": [
      "shape: (1, 1)\n",
      "┌─────────────────┐\n",
      "│ fare_amount_min │\n",
      "│ ---             │\n",
      "│ f64             │\n",
      "╞═════════════════╡\n",
      "│ 900.0           │\n",
      "└─────────────────┘\n"
     ]
    }
   ],
   "source": [
    "result = (\n",
    "    rides_df_raw\n",
    "    #### YOUR CODE HERE\n",
    ")\n",
    "print(result)"
   ]
  },
  {
   "cell_type": "markdown",
   "id": "9fe6559d-0265-4988-ad4a-e53951b8394c",
   "metadata": {},
   "source": [
    "1. -2.5\n",
    "2. 900.0\n",
    "3. 2.5\n",
    "4. 3.4"
   ]
  },
  {
   "cell_type": "markdown",
   "id": "3cfe7f3e-0c22-4597-9080-df74ae95ec63",
   "metadata": {},
   "source": [
    "## 10.4 Question 4: Top Trip Distance After Sorting"
   ]
  },
  {
   "cell_type": "markdown",
   "id": "7d92dbbd-929f-4be9-88d1-b5df9b0b4498",
   "metadata": {},
   "source": [
    "Sort `rides_df_raw` in descending order by the following columns in this order: `congestion_surcharge`, `tip_amount`, `trip_distance`. What is the `trip_distance` of the top trip?"
   ]
  },
  {
   "cell_type": "code",
   "execution_count": 7,
   "id": "15d80cc9-1534-47b4-9fd0-a76c86309004",
   "metadata": {},
   "outputs": [
    {
     "name": "stdout",
     "output_type": "stream",
     "text": [
      "shape: (1, 1)\n",
      "┌───────────────┐\n",
      "│ trip_distance │\n",
      "│ ---           │\n",
      "│ f64           │\n",
      "╞═══════════════╡\n",
      "│ 28.9          │\n",
      "└───────────────┘\n"
     ]
    }
   ],
   "source": [
    "result = (\n",
    "    rides_df_raw\n",
    "    #### YOUR CODE HERE\n",
    ")\n",
    "print(result)"
   ]
  },
  {
   "cell_type": "markdown",
   "id": "c5b917dd-384a-4627-afd0-b80796ddbf03",
   "metadata": {},
   "source": [
    "1. 176836.3\n",
    "2. 0.0\n",
    "3. 166.1\n",
    "4. 28.9"
   ]
  },
  {
   "cell_type": "markdown",
   "id": "3077d085-0a6c-4e0d-97fc-824a1b6b2c49",
   "metadata": {},
   "source": [
    "## 10.5 Question 5: Trips Within Distance Range"
   ]
  },
  {
   "cell_type": "markdown",
   "id": "d4a7d87e-a339-4017-bf5b-d5becd5344d0",
   "metadata": {},
   "source": [
    "How many trips had a `trip_distance` greater than 1 kilometer (km) and less than 2 km?"
   ]
  },
  {
   "cell_type": "code",
   "execution_count": 8,
   "id": "2e529998-a469-4332-a753-bf0be4f64191",
   "metadata": {},
   "outputs": [
    {
     "name": "stdout",
     "output_type": "stream",
     "text": [
      "(838278, 1)\n"
     ]
    }
   ],
   "source": [
    "kilometers_per_mile = 1.61\n",
    "result = (\n",
    "    rides_df_raw\n",
    "    #### YOUR CODE HERE\n",
    ")\n",
    "print(result)"
   ]
  },
  {
   "cell_type": "markdown",
   "id": "3df4c745-292a-4c1f-bce5-93edc7dc7201",
   "metadata": {},
   "source": [
    "1. 838278\n",
    "2. 1112153\n",
    "3. 1\n",
    "4. 99283"
   ]
  },
  {
   "cell_type": "markdown",
   "id": "172ea5bb-3c43-4bf4-8249-94d8fe7e0cc9",
   "metadata": {},
   "source": [
    "## 10.6 Question 6: Comparison of Different Data Types"
   ]
  },
  {
   "cell_type": "markdown",
   "id": "faf43e15-d2b1-4382-a66f-390521ff3b99",
   "metadata": {},
   "source": [
    "Try to add a column code that checks whether `do_zone` is greater than zero. What happens and why?"
   ]
  },
  {
   "cell_type": "code",
   "execution_count": 9,
   "id": "423343ae-bc98-4010-805a-f97e4b4c4d08",
   "metadata": {},
   "outputs": [
    {
     "ename": "ComputeError",
     "evalue": "cannot compare string with numeric type (i32)",
     "output_type": "error",
     "traceback": []
    }
   ],
   "source": [
    "result = (\n",
    "    rides_df_raw\n",
    "    #### YOUR CODE HERE\n",
    ")\n",
    "print(result)"
   ]
  },
  {
   "cell_type": "markdown",
   "id": "6856bc1d-852a-47fc-b305-b376706b2e41",
   "metadata": {},
   "source": [
    "1. The code crashes because a string cannot be compared with an integer\n",
    "2. The code crashes because a Boolean column cannot be added to a DataFrame with `.with_columns()`\n",
    "3. The code runs successfully, adding a column that checks whether the `do_zone` is alphabetically greater than the string \"0\"\n",
    "4. The code runs successfully; however, since strings and integers can't be compared in Polars, the resultant column is null everywhere"
   ]
  },
  {
   "cell_type": "markdown",
   "id": "b14c602d-a0b4-4705-be48-4e102fb5ca9e",
   "metadata": {},
   "source": [
    "## 10.7 Question 7: Equivalent Renaming Expression"
   ]
  },
  {
   "cell_type": "markdown",
   "id": "69c2db9a-014c-4311-8d8c-a18c7b782c5b",
   "metadata": {},
   "source": [
    "See the renaming, which uses `.select` and `.rename()`. What expression using `.select` and name transformations from the `.name` namespace would accomplish the same function?"
   ]
  },
  {
   "cell_type": "code",
   "execution_count": 10,
   "id": "6d7cc56b-16d8-4335-b3ae-0988fceb9db2",
   "metadata": {},
   "outputs": [
    {
     "name": "stdout",
     "output_type": "stream",
     "text": [
      "shape: (5, 2)\n",
      "┌────────────────────────┬────────────────────────┐\n",
      "│ do_location_id_renamed ┆ pu_location_id_renamed │\n",
      "│ ---                    ┆ ---                    │\n",
      "│ i32                    ┆ i32                    │\n",
      "╞════════════════════════╪════════════════════════╡\n",
      "│ 239                    ┆ 142                    │\n",
      "│ 24                     ┆ 238                    │\n",
      "│ 75                     ┆ 263                    │\n",
      "│ 162                    ┆ 164                    │\n",
      "│ 7                      ┆ 263                    │\n",
      "└────────────────────────┴────────────────────────┘\n"
     ]
    }
   ],
   "source": [
    "columns_to_rename = [\"do_location_id\", \"pu_location_id\"]\n",
    "df_w_cols_renamed = (\n",
    "    rides_df_raw\n",
    "    .select(columns_to_rename)\n",
    "    .rename({\n",
    "        column_to_rename: f\"{column_to_rename}_renamed\"\n",
    "        for column_to_rename in columns_to_rename\n",
    "    })\n",
    "    .head()\n",
    ")\n",
    "print(df_w_cols_renamed)"
   ]
  },
  {
   "cell_type": "markdown",
   "id": "7f6970fe-6efd-46d0-a25c-3f655651c2ef",
   "metadata": {},
   "source": [
    "1. `.select(pl.col(pl.Int32).name.suffix(\"_renamed\"))`\n",
    "2. `.select(pl.col([\"do_location_id\", \"pu_location_id\"]).name.suffix(\"_renamed\"))`\n",
    "3. `.select(pl.col([\"do_location_id\", \"pu_location_id\"]).alias(\"_renamed\"))`\n",
    "4. `.select(pl.String).name.suffix(\"_renamed\"))`"
   ]
  },
  {
   "cell_type": "markdown",
   "id": "be689bdc-a7fd-46ac-acd5-9d78e7d95c12",
   "metadata": {},
   "source": [
    "## 10.8 Question 8: Adding Suffixed Columns for Int8 Type"
   ]
  },
  {
   "cell_type": "markdown",
   "id": "c284eee7-b925-42b1-af02-a93df959d425",
   "metadata": {},
   "source": [
    "Add a few new columns to the DataFrame that copy all `pl.Int8` columns and give them the suffix `_new`. What is the size of the resultant DataFrame?"
   ]
  },
  {
   "cell_type": "code",
   "execution_count": 13,
   "id": "83283f2d-a551-41a7-99f8-31446d1e691c",
   "metadata": {},
   "outputs": [
    {
     "name": "stdout",
     "output_type": "stream",
     "text": [
      "(3582628, 35)\n"
     ]
    }
   ],
   "source": [
    "result = (\n",
    "    rides_df_raw\n",
    "    #### YOUR CODE HERE\n",
    ")\n",
    "print(result)"
   ]
  },
  {
   "cell_type": "markdown",
   "id": "388e55a8-78c7-4700-a15f-ce1d3c6bbe1a",
   "metadata": {},
   "source": [
    "1. (3582628, 28)\n",
    "2. (0, 0)\n",
    "3. (3582628, 25)\n",
    "4. (3582628, 35)"
   ]
  },
  {
   "cell_type": "markdown",
   "id": "56758951-5a23-4814-a6ec-9529112141be",
   "metadata": {},
   "source": [
    "## 10.9 Question 9: Most Common Congestion Surcharge"
   ]
  },
  {
   "cell_type": "markdown",
   "id": "3eaa12a2-77fd-4a8e-838d-e05279a8c0fc",
   "metadata": {},
   "source": [
    "Use `.group_by()` to determine the most common value for `congestion_surcharge` in the dataset?"
   ]
  },
  {
   "cell_type": "code",
   "execution_count": 16,
   "id": "e4902781-af09-4a94-8f82-0b1c9160ac38",
   "metadata": {},
   "outputs": [
    {
     "name": "stdout",
     "output_type": "stream",
     "text": [
      "shape: (7, 2)\n",
      "┌──────────────────────┬─────────────────┐\n",
      "│ congestion_surcharge ┆ num_occurrences │\n",
      "│ ---                  ┆ ---             │\n",
      "│ f64                  ┆ u32             │\n",
      "╞══════════════════════╪═════════════════╡\n",
      "│ 2.5                  ┆ 2880218         │\n",
      "│ null                 ┆ 426190          │\n",
      "│ 0.0                  ┆ 239793          │\n",
      "│ -2.5                 ┆ 36421           │\n",
      "│ 1.0                  ┆ 3               │\n",
      "│ 0.75                 ┆ 2               │\n",
      "│ -0.75                ┆ 1               │\n",
      "└──────────────────────┴─────────────────┘\n"
     ]
    }
   ],
   "source": [
    "result = (\n",
    "    rides_df_raw\n",
    "    #### YOUR CODE HERE\n",
    ")\n",
    "print(result)"
   ]
  },
  {
   "cell_type": "markdown",
   "id": "de0b267d-0fd3-4716-a2f8-ca88db2a09e8",
   "metadata": {},
   "source": [
    "1. -0.75\n",
    "2. 202.18\n",
    "3. 134.51\n",
    "4. 2.5"
   ]
  },
  {
   "cell_type": "markdown",
   "id": "63022fee-5609-43a4-a094-7748ada82b08",
   "metadata": {},
   "source": [
    "## 10.10 Question 10: Zero-Tip Two-Passenger Rides Count"
   ]
  },
  {
   "cell_type": "markdown",
   "id": "12e9464f-189c-4eaa-91b5-ba3f55ce28e8",
   "metadata": {},
   "source": [
    "Create a `.pivot_table()` where the rows reflect whether the `tip_amount` was 0 or not and the columns are `passenger_count`. Then, for each combination of \"tip_amount is 0\" and `passenger_count`, compute the number of instances by using `aggregate_function` \"len\". How many rides had a `tip_amount` of 0 and a `passenger_count` of 2?"
   ]
  },
  {
   "cell_type": "code",
   "execution_count": 17,
   "id": "8c21f933-a009-4f3d-8aee-55816b1ed359",
   "metadata": {},
   "outputs": [
    {
     "name": "stdout",
     "output_type": "stream",
     "text": [
      "shape: (4_363, 12)\n",
      "┌────────────┬──────┬────────┬────────┬───┬──────┬──────┬──────┬────────┐\n",
      "│ tip_amount ┆ 0    ┆ 1      ┆ 2      ┆ … ┆ 7    ┆ 8    ┆ 9    ┆ null   │\n",
      "│ ---        ┆ ---  ┆ ---    ┆ ---    ┆   ┆ ---  ┆ ---  ┆ ---  ┆ ---    │\n",
      "│ f64        ┆ u32  ┆ u32    ┆ u32    ┆   ┆ u32  ┆ u32  ┆ u32  ┆ u32    │\n",
      "╞════════════╪══════╪════════╪════════╪═══╪══════╪══════╪══════╪════════╡\n",
      "│ 2.7        ┆ 384  ┆ 7180   ┆ 1358   ┆ … ┆ null ┆ null ┆ null ┆ 74     │\n",
      "│ 3.0        ┆ 1426 ┆ 65889  ┆ 12053  ┆ … ┆ null ┆ null ┆ null ┆ 893    │\n",
      "│ 0.0        ┆ 9740 ┆ 525349 ┆ 104748 ┆ … ┆ 4    ┆ null ┆ 1    ┆ 368549 │\n",
      "│ 1.29       ┆ 5    ┆ 640    ┆ 146    ┆ … ┆ null ┆ null ┆ null ┆ 43     │\n",
      "│ 5.13       ┆ null ┆ 504    ┆ 113    ┆ … ┆ null ┆ null ┆ null ┆ 31     │\n",
      "│ 2.04       ┆ 7    ┆ 1251   ┆ 258    ┆ … ┆ null ┆ null ┆ null ┆ 148    │\n",
      "│ 2.0        ┆ 2588 ┆ 127344 ┆ 20620  ┆ … ┆ null ┆ null ┆ null ┆ 2007   │\n",
      "│ 4.54       ┆ 12   ┆ 4747   ┆ 1102   ┆ … ┆ null ┆ null ┆ null ┆ 64     │\n",
      "│ …          ┆ …    ┆ …      ┆ …      ┆ … ┆ …    ┆ …    ┆ …    ┆ …      │\n",
      "│ 40.19      ┆ null ┆ null   ┆ null   ┆ … ┆ null ┆ null ┆ null ┆ 1      │\n",
      "│ 43.84      ┆ null ┆ null   ┆ null   ┆ … ┆ null ┆ null ┆ null ┆ 1      │\n",
      "│ 35.82      ┆ null ┆ null   ┆ null   ┆ … ┆ null ┆ null ┆ null ┆ 1      │\n",
      "│ 20.33      ┆ null ┆ null   ┆ null   ┆ … ┆ null ┆ null ┆ null ┆ 1      │\n",
      "│ 32.71      ┆ null ┆ null   ┆ null   ┆ … ┆ null ┆ null ┆ null ┆ 1      │\n",
      "│ 32.97      ┆ null ┆ null   ┆ null   ┆ … ┆ null ┆ null ┆ null ┆ 1      │\n",
      "│ 35.23      ┆ null ┆ null   ┆ null   ┆ … ┆ null ┆ null ┆ null ┆ 1      │\n",
      "│ 41.35      ┆ null ┆ null   ┆ null   ┆ … ┆ null ┆ null ┆ null ┆ 1      │\n",
      "└────────────┴──────┴────────┴────────┴───┴──────┴──────┴──────┴────────┘\n"
     ]
    }
   ],
   "source": [
    "result = (\n",
    "    rides_df_raw\n",
    "    #### YOUR CODE HERE\n",
    ")\n",
    "print(result)"
   ]
  },
  {
   "cell_type": "markdown",
   "id": "e6780a64-f252-47cd-b0fb-203b3f3b0f2f",
   "metadata": {},
   "source": [
    "1. 104748\n",
    "2. 349149\n",
    "3. 1.7435e6\n",
    "4. 1358"
   ]
  },
  {
   "cell_type": "markdown",
   "id": "042c6aff-dda5-4513-92e6-24f9c73bfb72",
   "metadata": {},
   "source": [
    "## 10.11 Question 11: Left-Join Result Shape"
   ]
  },
  {
   "cell_type": "markdown",
   "id": "d370665f-4129-431e-a3bf-cd75a5c31abb",
   "metadata": {},
   "source": [
    "Join the following two DataFrames using a left-join (`restaurant_df` into `name_df`, on the name of the restaurant). What is the shape of the resultant DataFrame?"
   ]
  },
  {
   "cell_type": "code",
   "execution_count": 18,
   "id": "c0f946a3-3e59-431b-875e-46d9fe8616b1",
   "metadata": {},
   "outputs": [
    {
     "name": "stdout",
     "output_type": "stream",
     "text": [
      "shape: (4, 3)\n",
      "┌──────┬─────────────────────┬─────────────────┐\n",
      "│ name ┆ favorite_restaurant ┆ restaurant_city │\n",
      "│ ---  ┆ ---                 ┆ ---             │\n",
      "│ str  ┆ str                 ┆ str             │\n",
      "╞══════╪═════════════════════╪═════════════════╡\n",
      "│ dan  ┆ Pablo's Pizza       ┆ Boston          │\n",
      "│ stan ┆ Taco Time!          ┆ New York        │\n",
      "│ ran  ┆ Taco Time!          ┆ New York        │\n",
      "│ cran ┆ Pablo's Pizza       ┆ Boston          │\n",
      "└──────┴─────────────────────┴─────────────────┘\n"
     ]
    }
   ],
   "source": [
    "name_df = pl.DataFrame({\n",
    "    \"name\": [\"dan\", \"stan\", \"ran\", \"cran\"],\n",
    "    \"favorite_restaurant\": [\"Pablo's Pizza\", \"Taco Time!\", \"Taco Time!\", \"Pablo's Pizza\"]\n",
    "})\n",
    "restaurant_df = pl.DataFrame({\n",
    "    \"restaurant_name\": [\"Pablo's Pizza\", \"Taco Time!\", \"Toledo's Burritos\",],\n",
    "    \"restaurant_city\": [\"Boston\", \"New York\", \"Los Angeles\",]\n",
    "})\n",
    "result = (\n",
    "    #### YOUR CODE HERE\n",
    ")\n",
    "print(result)"
   ]
  },
  {
   "cell_type": "markdown",
   "id": "116873f7-88a8-40ec-9e77-40b161ae1a54",
   "metadata": {},
   "source": [
    "1. (5, 3)\n",
    "2. The code doesn't run, throwing a `ColumnNotFoundError`\n",
    "3. (4, 3)\n",
    "4. (0, 2)"
   ]
  },
  {
   "cell_type": "markdown",
   "id": "3504a126-5517-4a11-abbb-f5c4ff8af60c",
   "metadata": {},
   "source": [
    "## 10.12 Question 12: Anti-Join Result Shape"
   ]
  },
  {
   "cell_type": "markdown",
   "id": "493b04f0-917c-499d-82fc-38f3d8cd85b6",
   "metadata": {},
   "source": [
    "Join the two DataFrames using an anti-join (`restaurant_df` into `name_df`, on the name of the restaurant). What is the shape of the resultant DataFrame?"
   ]
  },
  {
   "cell_type": "code",
   "execution_count": 19,
   "id": "661f13cd-db43-47fe-b528-828282ada825",
   "metadata": {},
   "outputs": [
    {
     "name": "stdout",
     "output_type": "stream",
     "text": [
      "shape: (0, 2)\n",
      "┌──────┬─────────────────────┐\n",
      "│ name ┆ favorite_restaurant │\n",
      "│ ---  ┆ ---                 │\n",
      "│ str  ┆ str                 │\n",
      "╞══════╪═════════════════════╡\n",
      "└──────┴─────────────────────┘\n"
     ]
    }
   ],
   "source": [
    "name_df = pl.DataFrame({\n",
    "    \"name\": [\"dan\", \"stan\", \"ran\", \"cran\"],\n",
    "    \"favorite_restaurant\": [\"Pablo's Pizza\", \"Taco Time!\", \"Taco Time!\", \"Pablo's Pizza\"]\n",
    "})\n",
    "restaurant_df = pl.DataFrame({\n",
    "    \"restaurant_name\": [\"Pablo's Pizza\", \"Taco Time!\", \"Toledo's Burritos\",],\n",
    "    \"restaurant_city\": [\"Boston\", \"New York\", \"Los Angeles\",]\n",
    "})\n",
    "result = (\n",
    "    #### YOUR CODE HERE\n",
    ")\n",
    "print(result)"
   ]
  },
  {
   "cell_type": "markdown",
   "id": "87143a5b-a59a-4813-b0f9-efddbd96f5dd",
   "metadata": {},
   "source": [
    "1. (1, 2)\n",
    "2. The code doesn't run, throwing a `ColumnNotFoundError`\n",
    "3. (4, 3)\n",
    "4. (0, 2)"
   ]
  },
  {
   "cell_type": "markdown",
   "id": "d8babe2e-be44-43a2-b3b6-6e53ac374583",
   "metadata": {},
   "source": [
    "## 10.13 Question 13: Null Count After Diagonal Concatenation"
   ]
  },
  {
   "cell_type": "markdown",
   "id": "e8b41682-823e-4c9b-9834-c187b1cff248",
   "metadata": {},
   "source": [
    "Vertically concatenate the DataFrames (with setting `\"how=diagonal\"`). How many null values are there in the resultant DataFrame?"
   ]
  },
  {
   "cell_type": "code",
   "execution_count": 20,
   "id": "8e17361f-97a7-4522-9f07-c9cdcede53be",
   "metadata": {},
   "outputs": [
    {
     "name": "stdout",
     "output_type": "stream",
     "text": [
      "shape: (1, 1)\n",
      "┌─────┐\n",
      "│ A   │\n",
      "│ --- │\n",
      "│ u32 │\n",
      "╞═════╡\n",
      "│ 20  │\n",
      "└─────┘\n"
     ]
    }
   ],
   "source": [
    "df1 = pl.DataFrame({\n",
    "    \"A\": [1, 2, None, 4],\n",
    "    \"B\": [5, None, 7, 8]\n",
    "})\n",
    "df2 = pl.DataFrame({\n",
    "    \"A\": [9, 10, None],\n",
    "    \"B\": [None, 13, 14],\n",
    "    \"C\": [15, 16, 17]\n",
    "})\n",
    "df3 = pl.DataFrame({\n",
    "    \"A\": [18, None, 20],\n",
    "    \"B\": [21, 22, 23],\n",
    "    \"D\": [24, 25, None]\n",
    "})\n",
    "#### YOUR CODE HERE"
   ]
  },
  {
   "cell_type": "markdown",
   "id": "7e8202f3-7a9c-4e5d-b7a1-d65bc08383d9",
   "metadata": {},
   "source": [
    "1. 20\n",
    "2. 6\n",
    "3. The code doesn't run due to a `ShapeError`\n",
    "4. 0"
   ]
  },
  {
   "cell_type": "markdown",
   "id": "264a1a44-9369-43b6-8b01-6cf27d802fe5",
   "metadata": {},
   "source": [
    "## 10.14 Question 14: Fraction of Early March Rides"
   ]
  },
  {
   "cell_type": "markdown",
   "id": "94fd797d-eb94-454d-81be-04935b405090",
   "metadata": {},
   "source": [
    "What fraction of rides in the DataFrame started before 2024-03-15 (i.e., had a `tpep_pickup_datetime` before 2024-03-15)?"
   ]
  },
  {
   "cell_type": "code",
   "execution_count": 21,
   "id": "4f7dab26-6b63-4095-a1c9-1f5ee9443b0d",
   "metadata": {},
   "outputs": [
    {
     "name": "stdout",
     "output_type": "stream",
     "text": [
      "shape: (1, 1)\n",
      "┌──────────────────────┐\n",
      "│ tpep_pickup_datetime │\n",
      "│ ---                  │\n",
      "│ f64                  │\n",
      "╞══════════════════════╡\n",
      "│ 0.455173             │\n",
      "└──────────────────────┘\n"
     ]
    }
   ],
   "source": [
    "result = (\n",
    "    rides_df_raw\n",
    "    #### YOUR CODE HERE\n",
    ")\n",
    "print(result)"
   ]
  },
  {
   "cell_type": "markdown",
   "id": "e74939e2-8d19-44c2-b13a-240940057f47",
   "metadata": {},
   "source": [
    "1. 0.455174\n",
    "2. 0.455173\n",
    "3. 1.0\n",
    "4. 1630716"
   ]
  },
  {
   "cell_type": "markdown",
   "id": "5f111af0-ee73-4700-90e9-e7d1dcca4ad0",
   "metadata": {},
   "source": [
    "## 10.15 Question 15: List Column Aggregation Behavior"
   ]
  },
  {
   "cell_type": "markdown",
   "id": "cb59a710-478d-4201-b3bf-f8db66a48804",
   "metadata": {},
   "source": [
    "Group the following DataFrame by `class`, and `.sum()` the `salient_appendages` column (which is a list type) to create a list of all `salient_appendages` for that animal class. What happens?"
   ]
  },
  {
   "cell_type": "code",
   "execution_count": 22,
   "id": "a2a15bef-e323-4d6a-8cf1-b6b14a2ddc90",
   "metadata": {},
   "outputs": [
    {
     "name": "stdout",
     "output_type": "stream",
     "text": [
      "shape: (2, 2)\n",
      "┌────────────────┬────────────────────┐\n",
      "│ class          ┆ salient_appendages │\n",
      "│ ---            ┆ ---                │\n",
      "│ str            ┆ list[str]          │\n",
      "╞════════════════╪════════════════════╡\n",
      "│ mammal         ┆ null               │\n",
      "│ chondrichthyes ┆ null               │\n",
      "└────────────────┴────────────────────┘\n"
     ]
    }
   ],
   "source": [
    "animal_appendages_df = pl.DataFrame({\n",
    "    \"animal\": [\"human\", \"elephant\", \"shark\", \"stingray\"],\n",
    "    \"class\": [\"mammal\", \"mammal\", \"chondrichthyes\", \"chondrichthyes\"],\n",
    "    \"salient_appendages\": [\n",
    "        [\"arm\", \"leg\", \"head\"],\n",
    "        [\"arm\", \"leg\", \"head\", \"trunk\"],\n",
    "        [\"fin\", \"tail\", \"jaw\"],\n",
    "        [\"fin\", \"tail\", \"stinger\"],\n",
    "    ]\n",
    "})\n",
    "result = (\n",
    "    #### YOUR CODE HERE\n",
    ")\n",
    "print(result)"
   ]
  },
  {
   "cell_type": "markdown",
   "id": "9f87ed11-ef36-4c12-8766-6e20c5910260",
   "metadata": {},
   "source": [
    "1. The code runs smoothly, but the resultant aggregated column is filled with nulls\n",
    "2. The code runs smoothly, and the resultant column is a combined list of all `salient_appendages` for that animal class\n",
    "3. The code crashes with a datatype error, saying that \"list columns cannot be added together in a group_by\"\n",
    "4. The code runs smoothly, and the resultant column is a list of lists of all values for `salient_appendages` for that animal class"
   ]
  },
  {
   "cell_type": "markdown",
   "id": "11bff3c4-f75e-4ce5-829e-70e7d0c9b9ea",
   "metadata": {},
   "source": [
    "## 10.16 Question 16: Weekend vs Weekday Tip Comparison"
   ]
  },
  {
   "cell_type": "markdown",
   "id": "79a88f4a-34ef-48bd-a7c7-fa39aeb389af",
   "metadata": {},
   "source": [
    "True or False: weekend taxi trips (trips that have a `tpep_pickup_datetime` on Saturday or Sunday) have on average higher tip amounts than non-weekend taxi trips."
   ]
  },
  {
   "cell_type": "code",
   "execution_count": 23,
   "id": "a583e12c-1f95-4d80-8ec3-fb0b005ddf1a",
   "metadata": {},
   "outputs": [
    {
     "name": "stdout",
     "output_type": "stream",
     "text": [
      "shape: (2, 2)\n",
      "┌───────────────────┬────────────┐\n",
      "│ is_weekend_pickup ┆ tip_amount │\n",
      "│ ---               ┆ ---        │\n",
      "│ bool              ┆ f64        │\n",
      "╞═══════════════════╪════════════╡\n",
      "│ true              ┆ 2.966726   │\n",
      "│ false             ┆ 3.294616   │\n",
      "└───────────────────┴────────────┘\n"
     ]
    }
   ],
   "source": [
    "result = (\n",
    "    rides_df_raw\n",
    "    #### YOUR CODE HERE\n",
    ")\n",
    "print(result)"
   ]
  },
  {
   "cell_type": "markdown",
   "id": "da5176f6-3709-4330-99f1-accd1b649dde",
   "metadata": {},
   "source": [
    "1. False\n",
    "2. True"
   ]
  },
  {
   "cell_type": "markdown",
   "id": "55509675-c102-44bf-8f54-59ee40eb4181",
   "metadata": {},
   "source": [
    "## 10.17 Question 17: NumPy to Polars DataFrame Conversion"
   ]
  },
  {
   "cell_type": "markdown",
   "id": "3d0414e6-e96c-4678-a231-d78cf450496e",
   "metadata": {},
   "source": [
    "Convert the following NumPy array to a Polars DataFrame. What are the datatypes of the resultant DataFrame?"
   ]
  },
  {
   "cell_type": "code",
   "execution_count": 24,
   "id": "699c0aa7-5053-457d-b5de-2fde779b8c70",
   "metadata": {},
   "outputs": [
    {
     "data": {
      "text/html": [
       "<div><style>\n",
       ".dataframe > thead > tr,\n",
       ".dataframe > tbody > tr {\n",
       "  text-align: right;\n",
       "  white-space: pre-wrap;\n",
       "}\n",
       "</style>\n",
       "<small>shape: (0, 2)</small><table border=\"1\" class=\"dataframe\"><thead><tr><th>column_0</th><th>column_1</th></tr><tr><td>f64</td><td>f64</td></tr></thead><tbody></tbody></table></div>"
      ],
      "text/plain": [
       "shape: (0, 2)\n",
       "┌──────────┬──────────┐\n",
       "│ column_0 ┆ column_1 │\n",
       "│ ---      ┆ ---      │\n",
       "│ f64      ┆ f64      │\n",
       "╞══════════╪══════════╡\n",
       "└──────────┴──────────┘"
      ]
     },
     "execution_count": 24,
     "metadata": {},
     "output_type": "execute_result"
    }
   ],
   "source": [
    "import numpy as np\n",
    "np_array = np.random.rand(4, 2)\n",
    "#### YOUR CODE HERE"
   ]
  },
  {
   "cell_type": "markdown",
   "id": "f2aaef93-048f-4940-a64d-77fc7daacb6c",
   "metadata": {},
   "source": [
    "1. `f64`, `f64`\n",
    "2. `f32`, `f32`\n",
    "3. `f64`, `f64`, `f64`, `f64`\n",
    "4. The code doesn't run due to a datatype conversion error"
   ]
  },
  {
   "cell_type": "markdown",
   "id": "1832ad77-3de1-4b47-9885-e60e59c06e87",
   "metadata": {},
   "source": [
    "## 10.18 Question 18: Polars to Pandas to Polars Series Conversion"
   ]
  },
  {
   "cell_type": "markdown",
   "id": "a6514195-c4d7-4e3e-a970-271e00fb5292",
   "metadata": {},
   "source": [
    "Create a Polars series, convert it to Pandas, and then convert it back to Polars. True or False: the result upon returning to Polars is now a single-column DataFrame."
   ]
  },
  {
   "cell_type": "code",
   "execution_count": 25,
   "id": "859355f6-7eed-4c88-be37-97fe0cc935b7",
   "metadata": {},
   "outputs": [
    {
     "data": {
      "text/html": [
       "<div><style>\n",
       ".dataframe > thead > tr,\n",
       ".dataframe > tbody > tr {\n",
       "  text-align: right;\n",
       "  white-space: pre-wrap;\n",
       "}\n",
       "</style>\n",
       "<small>shape: (10,)</small><table border=\"1\" class=\"dataframe\"><thead><tr><th>polars_series</th></tr><tr><td>i64</td></tr></thead><tbody><tr><td>0</td></tr><tr><td>1</td></tr><tr><td>2</td></tr><tr><td>3</td></tr><tr><td>4</td></tr><tr><td>5</td></tr><tr><td>6</td></tr><tr><td>7</td></tr><tr><td>8</td></tr><tr><td>9</td></tr></tbody></table></div>"
      ],
      "text/plain": [
       "shape: (10,)\n",
       "Series: 'polars_series' [i64]\n",
       "[\n",
       "\t0\n",
       "\t1\n",
       "\t2\n",
       "\t3\n",
       "\t4\n",
       "\t5\n",
       "\t6\n",
       "\t7\n",
       "\t8\n",
       "\t9\n",
       "]"
      ]
     },
     "execution_count": 25,
     "metadata": {},
     "output_type": "execute_result"
    }
   ],
   "source": [
    "polars_series = pl.Series(name=\"polars_series\", values=list(range(10)))\n",
    "#### YOUR CODE HERE"
   ]
  },
  {
   "cell_type": "markdown",
   "id": "bec8dc3e-8c8c-4f8b-97e6-3531f45840fa",
   "metadata": {},
   "source": [
    "1. True\n",
    "2. False"
   ]
  },
  {
   "cell_type": "markdown",
   "id": "7f994737-61c6-4f40-ae6f-430e21bf972f",
   "metadata": {},
   "source": [
    "## 10.19 Question 19: Feature Most Correlated with Tip Amount"
   ]
  },
  {
   "cell_type": "markdown",
   "id": "85c23ef4-a3db-4792-90e3-becfe1bdf123",
   "metadata": {},
   "source": [
    "Using `rides_df_raw`, which feature is most highly correlated (either positively or negatively) with `tip_amount` (excluding `tip_amount` itself)? Also, please filter out `null` values as done in the module!"
   ]
  },
  {
   "cell_type": "code",
   "execution_count": 26,
   "id": "e78c4812-726c-478b-b1ef-094139136c23",
   "metadata": {},
   "outputs": [
    {
     "data": {
      "text/html": [
       "<div><style>\n",
       ".dataframe > thead > tr,\n",
       ".dataframe > tbody > tr {\n",
       "  text-align: right;\n",
       "  white-space: pre-wrap;\n",
       "}\n",
       "</style>\n",
       "<small>shape: (2, 2)</small><table border=\"1\" class=\"dataframe\"><thead><tr><th></th><th>tip_amount</th></tr><tr><td>str</td><td>f64</td></tr></thead><tbody><tr><td>&quot;passenger_count&quot;</td><td>NaN</td></tr><tr><td>&quot;ratecode_id&quot;</td><td>NaN</td></tr></tbody></table></div>"
      ],
      "text/plain": [
       "shape: (2, 2)\n",
       "┌─────────────────┬────────────┐\n",
       "│                 ┆ tip_amount │\n",
       "│ ---             ┆ ---        │\n",
       "│ str             ┆ f64        │\n",
       "╞═════════════════╪════════════╡\n",
       "│ passenger_count ┆ NaN        │\n",
       "│ ratecode_id     ┆ NaN        │\n",
       "└─────────────────┴────────────┘"
      ]
     },
     "execution_count": 26,
     "metadata": {},
     "output_type": "execute_result"
    }
   ],
   "source": [
    "#### YOUR CODE HERE"
   ]
  },
  {
   "cell_type": "markdown",
   "id": "cecffec3-56c3-4225-b15d-fb25346c2342",
   "metadata": {},
   "source": [
    "1. `tip_amount`\n",
    "2. `total_amount`\n",
    "3. `congestion_surcharge`\n",
    "4. `passenger_count`"
   ]
  },
  {
   "cell_type": "markdown",
   "id": "fcf390c2-87f4-44d1-a87a-16bc0cff0c25",
   "metadata": {},
   "source": [
    "## 10.20 Question 20: Hourly Average Total Amount Analysis"
   ]
  },
  {
   "cell_type": "markdown",
   "id": "a1daf6a6-5d33-48a0-9cb8-ad0ce3b38950",
   "metadata": {},
   "source": [
    "With `rides_df_raw`, make a plot of 'hour of day of taxi ride' vs 'average total_amount'. Which of the following statements is True (hint: there are multiple options)?"
   ]
  },
  {
   "cell_type": "code",
   "execution_count": 4,
   "id": "3897989a-bb14-4142-ab3c-5f057f0bb13e",
   "metadata": {},
   "outputs": [
    {
     "data": {
      "text/html": [
       "\n",
       "<style>\n",
       "  #altair-viz-befaa1c048d54236be3283003226a1a0.vega-embed {\n",
       "    width: 100%;\n",
       "    display: flex;\n",
       "  }\n",
       "\n",
       "  #altair-viz-befaa1c048d54236be3283003226a1a0.vega-embed details,\n",
       "  #altair-viz-befaa1c048d54236be3283003226a1a0.vega-embed details summary {\n",
       "    position: relative;\n",
       "  }\n",
       "</style>\n",
       "<div id=\"altair-viz-befaa1c048d54236be3283003226a1a0\"></div>\n",
       "<script type=\"text/javascript\">\n",
       "  var VEGA_DEBUG = (typeof VEGA_DEBUG == \"undefined\") ? {} : VEGA_DEBUG;\n",
       "  (function(spec, embedOpt){\n",
       "    let outputDiv = document.currentScript.previousElementSibling;\n",
       "    if (outputDiv.id !== \"altair-viz-befaa1c048d54236be3283003226a1a0\") {\n",
       "      outputDiv = document.getElementById(\"altair-viz-befaa1c048d54236be3283003226a1a0\");\n",
       "    }\n",
       "    const paths = {\n",
       "      \"vega\": \"https://cdn.jsdelivr.net/npm/vega@5?noext\",\n",
       "      \"vega-lib\": \"https://cdn.jsdelivr.net/npm/vega-lib?noext\",\n",
       "      \"vega-lite\": \"https://cdn.jsdelivr.net/npm/vega-lite@5.20.1?noext\",\n",
       "      \"vega-embed\": \"https://cdn.jsdelivr.net/npm/vega-embed@6?noext\",\n",
       "    };\n",
       "\n",
       "    function maybeLoadScript(lib, version) {\n",
       "      var key = `${lib.replace(\"-\", \"\")}_version`;\n",
       "      return (VEGA_DEBUG[key] == version) ?\n",
       "        Promise.resolve(paths[lib]) :\n",
       "        new Promise(function(resolve, reject) {\n",
       "          var s = document.createElement('script');\n",
       "          document.getElementsByTagName(\"head\")[0].appendChild(s);\n",
       "          s.async = true;\n",
       "          s.onload = () => {\n",
       "            VEGA_DEBUG[key] = version;\n",
       "            return resolve(paths[lib]);\n",
       "          };\n",
       "          s.onerror = () => reject(`Error loading script: ${paths[lib]}`);\n",
       "          s.src = paths[lib];\n",
       "        });\n",
       "    }\n",
       "\n",
       "    function showError(err) {\n",
       "      outputDiv.innerHTML = `<div class=\"error\" style=\"color:red;\">${err}</div>`;\n",
       "      throw err;\n",
       "    }\n",
       "\n",
       "    function displayChart(vegaEmbed) {\n",
       "      vegaEmbed(outputDiv, spec, embedOpt)\n",
       "        .catch(err => showError(`Javascript Error: ${err.message}<br>This usually means there's a typo in your chart specification. See the javascript console for the full traceback.`));\n",
       "    }\n",
       "\n",
       "    if(typeof define === \"function\" && define.amd) {\n",
       "      requirejs.config({paths});\n",
       "      require([\"vega-embed\"], displayChart, err => showError(`Error loading script: ${err.message}`));\n",
       "    } else {\n",
       "      maybeLoadScript(\"vega\", \"5\")\n",
       "        .then(() => maybeLoadScript(\"vega-lite\", \"5.20.1\"))\n",
       "        .then(() => maybeLoadScript(\"vega-embed\", \"6\"))\n",
       "        .catch(showError)\n",
       "        .then(() => displayChart(vegaEmbed));\n",
       "    }\n",
       "  })({\"config\": {\"view\": {\"continuousWidth\": 300, \"continuousHeight\": 300}}, \"data\": {\"name\": \"data-e61727e2e635b9458f86b0b01c62c013\"}, \"mark\": {\"type\": \"line\"}, \"encoding\": {\"x\": {\"field\": \"tpep_pickup_hour\", \"type\": \"quantitative\"}, \"y\": {\"field\": \"average_total_amount\", \"type\": \"quantitative\"}}, \"params\": [{\"name\": \"param_1\", \"select\": {\"type\": \"interval\", \"encodings\": [\"x\", \"y\"]}, \"bind\": \"scales\"}], \"$schema\": \"https://vega.github.io/schema/vega-lite/v5.20.1.json\", \"datasets\": {\"data-e61727e2e635b9458f86b0b01c62c013\": [{\"tpep_pickup_hour\": 3, \"average_total_amount\": 24.318270379560154}, {\"tpep_pickup_hour\": 6, \"average_total_amount\": 30.60414729924566}, {\"tpep_pickup_hour\": 9, \"average_total_amount\": 25.78426864231599}, {\"tpep_pickup_hour\": 18, \"average_total_amount\": 26.882790779400526}, {\"tpep_pickup_hour\": 0, \"average_total_amount\": 27.268029498415082}, {\"tpep_pickup_hour\": 15, \"average_total_amount\": 28.661067598010636}, {\"tpep_pickup_hour\": 21, \"average_total_amount\": 26.015457538246718}, {\"tpep_pickup_hour\": 12, \"average_total_amount\": 26.388060886189557}, {\"tpep_pickup_hour\": 19, \"average_total_amount\": 26.681189991246004}, {\"tpep_pickup_hour\": 4, \"average_total_amount\": 29.032333526584868}, {\"tpep_pickup_hour\": 13, \"average_total_amount\": 27.140467165763013}, {\"tpep_pickup_hour\": 10, \"average_total_amount\": 26.102965456521353}, {\"tpep_pickup_hour\": 16, \"average_total_amount\": 29.975406820276586}, {\"tpep_pickup_hour\": 7, \"average_total_amount\": 26.619156089515425}, {\"tpep_pickup_hour\": 1, \"average_total_amount\": 24.621474829208072}, {\"tpep_pickup_hour\": 22, \"average_total_amount\": 26.947616657221854}, {\"tpep_pickup_hour\": 23, \"average_total_amount\": 28.566955722605844}, {\"tpep_pickup_hour\": 17, \"average_total_amount\": 28.299014035394134}, {\"tpep_pickup_hour\": 20, \"average_total_amount\": 25.864373175315002}, {\"tpep_pickup_hour\": 8, \"average_total_amount\": 25.297219812028647}, {\"tpep_pickup_hour\": 2, \"average_total_amount\": 23.32475528811872}, {\"tpep_pickup_hour\": 11, \"average_total_amount\": 25.985248219750755}, {\"tpep_pickup_hour\": 5, \"average_total_amount\": 34.02273595505469}, {\"tpep_pickup_hour\": 14, \"average_total_amount\": 28.457525878456817}]}}, {\"mode\": \"vega-lite\"});\n",
       "</script>"
      ],
      "text/plain": [
       "alt.Chart(...)"
      ]
     },
     "execution_count": 4,
     "metadata": {},
     "output_type": "execute_result"
    }
   ],
   "source": [
    "#### YOUR CODE HERE"
   ]
  },
  {
   "cell_type": "markdown",
   "id": "2a7a3e74-5579-40c1-806a-58749a24853f",
   "metadata": {},
   "source": [
    "1. There appears to be a peak in average total amount around 2:00.\n",
    "2. There appears to be a peak in average total amount around 5:00.\n",
    "3. There appears to be a peak in average total amount around 16:00.\n",
    "4. There appears to be a peak in average total amount around 23:00."
   ]
  },
  {
   "cell_type": "markdown",
   "id": "71f981f7",
   "metadata": {},
   "source": []
  }
 ],
 "metadata": {
  "kernelspec": {
   "display_name": "Python 3 (ipykernel)",
   "language": "python",
   "name": "python3"
  },
  "language_info": {
   "codemirror_mode": {
    "name": "ipython",
    "version": 3
   },
   "file_extension": ".py",
   "mimetype": "text/x-python",
   "name": "python",
   "nbconvert_exporter": "python",
   "pygments_lexer": "ipython3",
   "version": "3.12.3"
  }
 },
 "nbformat": 4,
 "nbformat_minor": 5
}
