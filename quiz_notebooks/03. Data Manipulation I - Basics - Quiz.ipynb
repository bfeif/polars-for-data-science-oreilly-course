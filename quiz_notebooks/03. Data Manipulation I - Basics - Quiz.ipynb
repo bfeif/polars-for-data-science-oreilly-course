{
 "cells": [
  {
   "cell_type": "markdown",
   "id": "0",
   "metadata": {},
   "source": [
    "# 3. Data Manipulation I: Basics - Quiz"
   ]
  },
  {
   "cell_type": "markdown",
   "id": "1",
   "metadata": {},
   "source": [
    "## 3.0. Import `polars` and Load Data"
   ]
  },
  {
   "cell_type": "code",
   "execution_count": null,
   "id": "2",
   "metadata": {},
   "outputs": [],
   "source": [
    "import polars as pl"
   ]
  },
  {
   "cell_type": "code",
   "execution_count": null,
   "id": "3",
   "metadata": {},
   "outputs": [],
   "source": [
    "df = pl.read_csv(\n",
    "    \"../data/yellow_tripdata_2024-03.csv\",\n",
    "    schema_overrides={\"tpep_pickup_datetime\": pl.Datetime, \"tpep_dropoff_datetime\": pl.Datetime}\n",
    ")"
   ]
  },
  {
   "cell_type": "markdown",
   "id": "4",
   "metadata": {},
   "source": [
    "## 3.1 Question 1: Toll Payment Column Datatype"
   ]
  },
  {
   "cell_type": "markdown",
   "id": "5",
   "metadata": {},
   "source": [
    "Using `.select()`, fetch a column from `df` that represents whether or not a toll was paid as part of the trip. What is the datatype of that new column? (Hint: You can check whether a toll was paid by seeing if `tolls_amount` is greater than 0.)"
   ]
  },
  {
   "cell_type": "code",
   "execution_count": null,
   "id": "6",
   "metadata": {},
   "outputs": [],
   "source": [
    "result = (\n",
    "    df\n",
    "    .select(\n",
    "        ### YOUR CODE HERE\n",
    "    )\n",
    ")\n",
    "print(result)"
   ]
  },
  {
   "cell_type": "markdown",
   "id": "7",
   "metadata": {},
   "source": [
    "1. `int64`\n",
    "2. `float64`\n",
    "3. `str`\n",
    "4. `bool`"
   ]
  },
  {
   "cell_type": "markdown",
   "id": "8",
   "metadata": {},
   "source": [
    "## 3.2 Question 2: Longest Trip with Zero Tolls"
   ]
  },
  {
   "cell_type": "markdown",
   "id": "9",
   "metadata": {},
   "source": [
    "What was the longest trip that had zero tolls paid? (Hint: Use `.filter()` to get only the trips with `tolls_amount` equal to 0 and use `.select()` with `.max()` to find the longest trip.)"
   ]
  },
  {
   "cell_type": "code",
   "execution_count": null,
   "id": "10",
   "metadata": {},
   "outputs": [],
   "source": [
    "result = (\n",
    "    df\n",
    "    .filter(\n",
    "        #### YOUR CODE HERE\n",
    "    )\n",
    "    .select(\n",
    "        #### YOUR CODE HERE\n",
    "    )\n",
    ")\n",
    "print(result)"
   ]
  },
  {
   "cell_type": "markdown",
   "id": "11",
   "metadata": {},
   "source": [
    "1. 176836.3\n",
    "2. 0\n",
    "3. 176744.79\n",
    "4. 176329.23"
   ]
  },
  {
   "cell_type": "markdown",
   "id": "12",
   "metadata": {},
   "source": [
    "## 3.3 Question 3: Mean Tip for High Fare Trips"
   ]
  },
  {
   "cell_type": "markdown",
   "id": "13",
   "metadata": {},
   "source": [
    "What is the mean tip amount for trips where the fare amount was greater than $20?"
   ]
  },
  {
   "cell_type": "code",
   "execution_count": null,
   "id": "14",
   "metadata": {},
   "outputs": [],
   "source": [
    "result = (\n",
    "    df\n",
    "    .filter(\n",
    "        #### YOUR CODE HERE\n",
    "    )\n",
    "    .select(\n",
    "        #### YOUR CODE HERE\n",
    "    )\n",
    ")\n",
    "print(result)"
   ]
  },
  {
   "cell_type": "markdown",
   "id": "15",
   "metadata": {},
   "source": [
    "1. 39.32003\n",
    "2. 598.58\n",
    "3. 5.870243\n",
    "4. 5.872741"
   ]
  },
  {
   "cell_type": "markdown",
   "id": "16",
   "metadata": {},
   "source": [
    "## 3.4 Question 4: Max Trip Distance for 1-2 Passengers"
   ]
  },
  {
   "cell_type": "markdown",
   "id": "17",
   "metadata": {},
   "source": [
    "Find the maximum distance for trips with a passenger count of 1 or 2."
   ]
  },
  {
   "cell_type": "code",
   "execution_count": null,
   "id": "18",
   "metadata": {},
   "outputs": [],
   "source": [
    "result = (\n",
    "    df\n",
    "    .filter(\n",
    "        #### YOUR CODE HERE\n",
    "    )\n",
    "    .select(\n",
    "        #### YOUR CODE HERE\n",
    "    )\n",
    ")\n",
    "print(result)"
   ]
  },
  {
   "cell_type": "markdown",
   "id": "19",
   "metadata": {},
   "source": [
    "1. 159.74\n",
    "2. 66907.9\n",
    "3. 3.530788\n",
    "4. 1021.99"
   ]
  },
  {
   "cell_type": "markdown",
   "id": "20",
   "metadata": {},
   "source": [
    "## 3.5 Question 5: Top 5 Trips by Total Amount"
   ]
  },
  {
   "cell_type": "markdown",
   "id": "21",
   "metadata": {},
   "source": [
    "Sort the DataFrame by `total_amount` in descending order. Then select and display only the top five rows and the columns `trip_distance` and `total_amount`. What are the two values of `trip_distance` associated with the two trips with the highest `total_amount`?"
   ]
  },
  {
   "cell_type": "code",
   "execution_count": null,
   "id": "22",
   "metadata": {},
   "outputs": [],
   "source": [
    "result = (\n",
    "    df\n",
    "    .sort(\n",
    "        #### YOUR CODE HERE\n",
    "    )\n",
    "    .select([\n",
    "        #### YOUR CODE HERE\n",
    "    ])\n",
    "    .head()  # Displays the top 5 rows\n",
    ")\n",
    "print(result)"
   ]
  },
  {
   "cell_type": "markdown",
   "id": "23",
   "metadata": {},
   "source": [
    "1. 0.0, 159.74\n",
    "2. 3.8, 181.5\n",
    "3. 1021.99, 951.26\n",
    "4. 5.1, 8.3"
   ]
  },
  {
   "cell_type": "markdown",
   "id": "24",
   "metadata": {},
   "source": [
    "## 3.8 Question 8: Latest Pickup for 5-Mile Trips"
   ]
  },
  {
   "cell_type": "markdown",
   "id": "25",
   "metadata": {},
   "source": [
    "Of all the trips with a `trip_distance` of exactly 5, what is the latest `tpep_pickup_datetime`?"
   ]
  },
  {
   "cell_type": "code",
   "execution_count": null,
   "id": "26",
   "metadata": {},
   "outputs": [],
   "source": [
    "result = (\n",
    "    df\n",
    "    #### YOUR CODE HERE\n",
    ")\n",
    "print(result)"
   ]
  },
  {
   "cell_type": "markdown",
   "id": "27",
   "metadata": {},
   "source": [
    "1. 2024-03-31 23:46:21\n",
    "2. 2024-03-31 23:57:07\n",
    "3. 2024-03-01 00:05:00\n",
    "4. 2024-04-01 00:34:55"
   ]
  },
  {
   "cell_type": "markdown",
   "id": "28",
   "metadata": {},
   "source": [
    "## 3.9 Question 9: Lowest Tip Percentage"
   ]
  },
  {
   "cell_type": "markdown",
   "id": "29",
   "metadata": {},
   "source": [
    "On those trips with a `fare_amount` and a `tip_amount` greater than 0, what is the lowest tip percentage (expressed as a fraction) that somebody paid? (Hint: Divide `tip_amount` by `fare_amount`.)"
   ]
  },
  {
   "cell_type": "code",
   "execution_count": null,
   "id": "30",
   "metadata": {},
   "outputs": [],
   "source": [
    "result = (\n",
    "    df\n",
    "    #### YOUR CODE HERE\n",
    ")\n",
    "print(result)"
   ]
  },
  {
   "cell_type": "markdown",
   "id": "31",
   "metadata": {},
   "source": [
    "1. 0.01\n",
    "2. 0.276066\n",
    "3. -40.0\n",
    "4. 0.00003"
   ]
  },
  {
   "cell_type": "markdown",
   "id": "32",
   "metadata": {},
   "source": [
    "## 3.10 Question 10: Trips with Tips Exceeding Airport Fee"
   ]
  },
  {
   "cell_type": "markdown",
   "id": "33",
   "metadata": {},
   "source": [
    "How many trips have a `tip_amount` greater than the `Airport_fee`?"
   ]
  },
  {
   "cell_type": "code",
   "execution_count": null,
   "id": "34",
   "metadata": {},
   "outputs": [],
   "source": [
    "result = (\n",
    "    df\n",
    "    #### YOUR CODE HERE\n",
    ")\n",
    "print(result)"
   ]
  },
  {
   "cell_type": "markdown",
   "id": "35",
   "metadata": {},
   "source": [
    "1. 3582628\n",
    "2. 2\n",
    "3. 0\n",
    "4. 2461463"
   ]
  }
 ],
 "metadata": {
  "kernelspec": {
   "display_name": "Python 3 (ipykernel)",
   "language": "python",
   "name": "python3"
  },
  "language_info": {
   "codemirror_mode": {
    "name": "ipython",
    "version": 3
   },
   "file_extension": ".py",
   "mimetype": "text/x-python",
   "name": "python",
   "nbconvert_exporter": "python",
   "pygments_lexer": "ipython3",
   "version": "3.12.3"
  }
 },
 "nbformat": 4,
 "nbformat_minor": 5
}
