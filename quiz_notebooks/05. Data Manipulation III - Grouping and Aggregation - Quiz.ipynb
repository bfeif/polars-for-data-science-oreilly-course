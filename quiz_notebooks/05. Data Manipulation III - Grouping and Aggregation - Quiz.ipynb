{
 "cells": [
  {
   "cell_type": "markdown",
   "id": "0",
   "metadata": {},
   "source": [
    "# 5. Data Manipulation III - Grouping and Aggregation - Quiz.ipynb"
   ]
  },
  {
   "cell_type": "markdown",
   "id": "1",
   "metadata": {},
   "source": [
    "## 5.0. Import `polars` and Load Data"
   ]
  },
  {
   "cell_type": "code",
   "execution_count": null,
   "id": "2",
   "metadata": {},
   "outputs": [],
   "source": [
    "import polars as pl"
   ]
  },
  {
   "cell_type": "code",
   "execution_count": null,
   "id": "3",
   "metadata": {},
   "outputs": [],
   "source": [
    "column_rename_mapping = {\n",
    "    \"VendorID\": \"vendor_id\",\n",
    "    \"RatecodeID\": \"ratecode_id\",\n",
    "    \"PULocationID\": \"pu_location_id\",\n",
    "    \"DOLocationID\": \"do_location_id\",\n",
    "    \"Airport_fee\": \"airport_fee\",\n",
    "}\n",
    "df = (\n",
    "    pl.read_parquet(\"../data/yellow_tripdata_2024-03.parquet\")\n",
    "    .rename(column_rename_mapping)\n",
    ")"
   ]
  },
  {
   "cell_type": "markdown",
   "id": "4",
   "metadata": {},
   "source": [
    "## 5.1 Question 1: Maximum Trip Distance for Specific Location"
   ]
  },
  {
   "cell_type": "markdown",
   "id": "5",
   "metadata": {},
   "source": [
    "What is the maximum trip distance for trips with `pu_location_id = 1`?"
   ]
  },
  {
   "cell_type": "code",
   "execution_count": null,
   "id": "6",
   "metadata": {},
   "outputs": [],
   "source": [
    "result = (\n",
    "    df\n",
    "    .filter(\n",
    "        #### YOUR CODE HERE\n",
    "    )\n",
    "    .group_by(\n",
    "        #### YOUR CODE HERE\n",
    "    )\n",
    "    .agg(\n",
    "        #### YOUR CODE HERE\n",
    "    )\n",
    ")\n",
    "print(result)"
   ]
  },
  {
   "cell_type": "markdown",
   "id": "7",
   "metadata": {},
   "source": [
    "1. 35.75\n",
    "2. 29.7\n",
    "3. 176744.79\n",
    "4. 0.0"
   ]
  },
  {
   "cell_type": "markdown",
   "id": "8",
   "metadata": {},
   "source": [
    "## 5.2 Question 2: Top Vendor by Average Fare and Trip Distance"
   ]
  },
  {
   "cell_type": "markdown",
   "id": "9",
   "metadata": {},
   "source": [
    "Group the data by `vendor_id` and calculate the average `fare_amount` and average `trip_distance` for each vendor. Then sort in descending order first by `mean_fare_amount` and then by `mean_trip_distance`. What is the top `vendor_id`?"
   ]
  },
  {
   "cell_type": "code",
   "execution_count": null,
   "id": "10",
   "metadata": {},
   "outputs": [],
   "source": [
    "result = (\n",
    "    #### YOUR CODE HERE\n",
    ")\n",
    "print(result.head())"
   ]
  },
  {
   "cell_type": "markdown",
   "id": "11",
   "metadata": {},
   "source": [
    "1. 207\n",
    "2. 205\n",
    "3. 265\n",
    "4. 6"
   ]
  },
  {
   "cell_type": "markdown",
   "id": "12",
   "metadata": {},
   "source": [
    "## 5.3 Question 3: Date with Most Rides"
   ]
  },
  {
   "cell_type": "markdown",
   "id": "13",
   "metadata": {},
   "source": [
    "Which date for `tpep_pickup_datetime` had the most rides?"
   ]
  },
  {
   "cell_type": "code",
   "execution_count": null,
   "id": "14",
   "metadata": {},
   "outputs": [],
   "source": [
    "result = (\n",
    "    #### YOUR CODE HERE\n",
    ")\n",
    "print(result)"
   ]
  },
  {
   "cell_type": "markdown",
   "id": "15",
   "metadata": {},
   "source": [
    "1. 2002-12-31\n",
    "2. 2024-03-14 22:04:00\n",
    "3. 2024-03-09\n",
    "4. 2024-04-01"
   ]
  },
  {
   "cell_type": "markdown",
   "id": "16",
   "metadata": {},
   "source": [
    "## 5.4 Question 4: Average Fare by Vendor and Payment Type"
   ]
  },
  {
   "cell_type": "markdown",
   "id": "17",
   "metadata": {},
   "source": [
    "Create a pivot table that shows the average fare amount for each combination of `VendorID` and `payment_type`. What is the average fare amount associated with `vendor_id` 2 and `payment_type` 2?"
   ]
  },
  {
   "cell_type": "code",
   "execution_count": null,
   "id": "18",
   "metadata": {},
   "outputs": [],
   "source": [
    "result = (\n",
    "    #### YOUR CODE HERE\n",
    ")\n",
    "print(result)"
   ]
  },
  {
   "cell_type": "markdown",
   "id": "19",
   "metadata": {},
   "source": [
    "1. 850.0\n",
    "2. 18.390497\n",
    "3. 3.411724\n",
    "4. 18.582571"
   ]
  },
  {
   "cell_type": "markdown",
   "id": "20",
   "metadata": {},
   "source": [
    "## 5.5 Question 5: Average Trip Distance for Airport Fee Rides"
   ]
  },
  {
   "cell_type": "markdown",
   "id": "21",
   "metadata": {},
   "source": [
    "Create a pivot table that shows the average trip distance for every `vendor_id` by whether or not the ride has an airport fee. What is the average trip distance for rides with `vendor_id = 1` that have an airport fee?"
   ]
  },
  {
   "cell_type": "code",
   "execution_count": null,
   "id": "22",
   "metadata": {},
   "outputs": [],
   "source": [
    "result = (\n",
    "    #### YOUR CODE HERE\n",
    ")\n",
    "print(result)"
   ]
  },
  {
   "cell_type": "markdown",
   "id": "23",
   "metadata": {},
   "source": [
    "1. 115.3\n",
    "2. 13.309613\n",
    "3. 12.570663\n",
    "4. 2.409085"
   ]
  },
  {
   "cell_type": "markdown",
   "id": "24",
   "metadata": {},
   "source": [
    "## 5.6 Question 6: Average Trip Distance for Airport Fee Rides (Alternative Method)"
   ]
  },
  {
   "cell_type": "markdown",
   "id": "25",
   "metadata": {},
   "source": [
    "What is the average trip distance for rides with `vendor_id = 1` that have an airport fee? Use `.filter()` to include only data where `vendor_id = 1` and `airport_fee > 0`, and then `.select()` to measure the average `trip_distance`."
   ]
  },
  {
   "cell_type": "code",
   "execution_count": null,
   "id": "26",
   "metadata": {},
   "outputs": [],
   "source": [
    "result = (\n",
    "    #### YOUR CODE HERE\n",
    ")\n",
    "print(result)"
   ]
  },
  {
   "cell_type": "markdown",
   "id": "27",
   "metadata": {},
   "source": [
    "1. 115.3\n",
    "2. 13.309613\n",
    "3. 12.570663\n",
    "4. 2.409085"
   ]
  },
  {
   "cell_type": "markdown",
   "id": "28",
   "metadata": {},
   "source": [
    "## 5.7 Question 7: Sum of 10th Largest Trip Distances by Vendor"
   ]
  },
  {
   "cell_type": "markdown",
   "id": "29",
   "metadata": {},
   "source": [
    "Using `rank().over()`, what is the 10th-largest `trip_distance` for each `vendor_id`, summed over all `vendor_id`s?"
   ]
  },
  {
   "cell_type": "code",
   "execution_count": null,
   "id": "30",
   "metadata": {},
   "outputs": [],
   "source": [
    "result = (\n",
    "    #### YOUR CODE HERE\n",
    ")\n",
    "print(result)"
   ]
  },
  {
   "cell_type": "markdown",
   "id": "31",
   "metadata": {},
   "source": [
    "1. 113916.29\n",
    "2. 115599.84\n",
    "3. 0.76\n",
    "4. 1178.31"
   ]
  },
  {
   "cell_type": "markdown",
   "id": "32",
   "metadata": {},
   "source": [
    "## 5.8 Question 8: Total Amount for Top 3 Pickup Locations"
   ]
  },
  {
   "cell_type": "markdown",
   "id": "33",
   "metadata": {},
   "source": [
    "What is the sum of the `total_amount`s for all rides taken with one of the three `pu_location_id`s with the highest maximum `trip_distance`?"
   ]
  },
  {
   "cell_type": "code",
   "execution_count": null,
   "id": "34",
   "metadata": {},
   "outputs": [],
   "source": [
    "result = (\n",
    "    #### YOUR CODE HERE\n",
    ")\n",
    "print(result)"
   ]
  },
  {
   "cell_type": "markdown",
   "id": "35",
   "metadata": {},
   "source": [
    "1. 6.0735e6\n",
    "2. 891.48\n",
    "3. 4.6460e6\n",
    "4. 2.3340e7"
   ]
  },
  {
   "cell_type": "markdown",
   "id": "36",
   "metadata": {},
   "source": [
    "## 5.9 Question 9: Performance Comparison: Filtering vs Grouping (In-Memory)"
   ]
  },
  {
   "cell_type": "markdown",
   "id": "37",
   "metadata": {},
   "source": [
    "Sometimes we want to both filter and group data; for example, in this question we want to both group by `pu_location_id` and view the results for just one `pu_location_id`. In these cases, we can filter first or group by first and get the same result. So which is faster, and why--grouping then filtering, or filtering and grouping? Perform the following timing tests to get the answer, and choose the best explanation. (Note: we are in in-memory mode here.)"
   ]
  },
  {
   "cell_type": "code",
   "execution_count": null,
   "id": "38",
   "metadata": {},
   "outputs": [],
   "source": [
    "%%timeit -n 3\n",
    "result = (\n",
    "    df\n",
    "    .filter(\n",
    "        pl.col(\"pu_location_id\").eq(1)\n",
    "    )\n",
    "    .group_by(\n",
    "        \"pu_location_id\"\n",
    "    )\n",
    "    .agg(\n",
    "        pl.col(\"trip_distance\").max()\n",
    "    )\n",
    ")"
   ]
  },
  {
   "cell_type": "code",
   "execution_count": null,
   "id": "39",
   "metadata": {},
   "outputs": [],
   "source": [
    "%%timeit -n 3\n",
    "result = (\n",
    "    df\n",
    "    .group_by(\n",
    "        \"pu_location_id\"\n",
    "    )\n",
    "    .agg(\n",
    "        pl.col(\"trip_distance\").max()\n",
    "    )\n",
    "    .filter(\n",
    "        pl.col(\"pu_location_id\").eq(1)\n",
    "    )\n",
    ")"
   ]
  },
  {
   "cell_type": "markdown",
   "id": "40",
   "metadata": {},
   "source": [
    "1. They are the same, because the query optimization engine doesn't care about the order of operations.\n",
    "2. Filtering before the group-by is faster, because you reduce the amount of data handled by the group by operation.\n",
    "3. Filtering after the group-by is faster, because the computer doesn't have to worry about the expensive filter operation until the end.\n",
    "4. Filtering after the group-by is faster, since the filter occurs on grouped data, thus it has less total rows to filter out."
   ]
  },
  {
   "cell_type": "markdown",
   "id": "41",
   "metadata": {},
   "source": [
    "## 5.10 Question 10: Performance Comparison: Filtering vs Grouping (Lazy Mode)"
   ]
  },
  {
   "cell_type": "markdown",
   "id": "42",
   "metadata": {},
   "source": [
    "Sometimes we want to both filter and group data; for example, in this question we want to both group by `pu_location_id` and view the results for just one `pu_location_id`. In these cases, we can filter first or group by first and get the same result. So which is faster, and why--grouping then filtering, or filtering and grouping? Perform the following timing tests to get the answer, and choose the best explanation. (Note: we are in lazy mode here.)"
   ]
  },
  {
   "cell_type": "code",
   "execution_count": null,
   "id": "43",
   "metadata": {},
   "outputs": [],
   "source": [
    "column_rename_mapping = {\n",
    "    \"VendorID\": \"vendor_id\",\n",
    "    \"RatecodeID\": \"ratecode_id\",\n",
    "    \"PULocationID\": \"pu_location_id\",\n",
    "    \"DOLocationID\": \"do_location_id\",\n",
    "    \"Airport_fee\": \"airport_fee\",\n",
    "}\n",
    "lf = (\n",
    "    pl.scan_parquet(\"../data/yellow_tripdata_2024-03.parquet\")\n",
    "    .rename(column_rename_mapping)\n",
    ")"
   ]
  },
  {
   "cell_type": "code",
   "execution_count": null,
   "id": "44",
   "metadata": {},
   "outputs": [],
   "source": [
    "%%timeit -n 3\n",
    "result = (\n",
    "    lf\n",
    "    .filter(\n",
    "        pl.col(\"pu_location_id\").eq(1)\n",
    "    )\n",
    "    .group_by(\n",
    "        \"pu_location_id\"\n",
    "    )\n",
    "    .agg(\n",
    "        pl.col(\"trip_distance\").max()\n",
    "    )\n",
    "    .collect()\n",
    ")"
   ]
  },
  {
   "cell_type": "code",
   "execution_count": null,
   "id": "45",
   "metadata": {},
   "outputs": [],
   "source": [
    "%%timeit -n 3\n",
    "result = (\n",
    "    lf\n",
    "    .group_by(\n",
    "        \"pu_location_id\"\n",
    "    )\n",
    "    .agg(\n",
    "        pl.col(\"trip_distance\").max()\n",
    "    )\n",
    "    .filter(\n",
    "        pl.col(\"pu_location_id\").eq(1)\n",
    "    )\n",
    "    .collect()\n",
    ")"
   ]
  },
  {
   "cell_type": "markdown",
   "id": "46",
   "metadata": {},
   "source": [
    "1. They are the same, because the query optimization engine doesn't care about the order of operations.\n",
    "2. Filtering before the group-by is faster, because you reduce the amount of data handled by the group by operation.\n",
    "3. Filtering after the group-by is faster, because the computer doesn't have to worry about the expensive filter operation until the end.\n",
    "4. Filtering after the group-by is faster, since the filter occurs on grouped data, thus it has less total rows to filter out."
   ]
  }
 ],
 "metadata": {
  "kernelspec": {
   "display_name": "Python 3 (ipykernel)",
   "language": "python",
   "name": "python3"
  },
  "language_info": {
   "codemirror_mode": {
    "name": "ipython",
    "version": 3
   },
   "file_extension": ".py",
   "mimetype": "text/x-python",
   "name": "python",
   "nbconvert_exporter": "python",
   "pygments_lexer": "ipython3",
   "version": "3.12.3"
  }
 },
 "nbformat": 4,
 "nbformat_minor": 5
}
