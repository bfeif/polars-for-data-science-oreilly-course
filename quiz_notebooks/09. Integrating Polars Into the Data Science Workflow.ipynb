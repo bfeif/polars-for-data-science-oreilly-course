{
 "cells": [
  {
   "cell_type": "markdown",
   "id": "1653908d",
   "metadata": {},
   "source": [
    "# 9. Integrating Polars Into the Data Science Workflow - Quiz"
   ]
  },
  {
   "cell_type": "markdown",
   "id": "97a37bab",
   "metadata": {},
   "source": [
    "## 9.0. Import `polars` and Load Data"
   ]
  },
  {
   "cell_type": "code",
   "execution_count": 1,
   "id": "9f2da0ab",
   "metadata": {},
   "outputs": [
    {
     "data": {
      "text/plain": [
       "polars.config.Config"
      ]
     },
     "execution_count": 1,
     "metadata": {},
     "output_type": "execute_result"
    }
   ],
   "source": [
    "import matplotlib.pyplot as plt\n",
    "import polars as pl\n",
    "from sklearn.metrics import mean_absolute_error\n",
    "\n",
    "pl.Config.set_tbl_rows(16)"
   ]
  },
  {
   "cell_type": "code",
   "execution_count": 2,
   "id": "37f2cb81",
   "metadata": {},
   "outputs": [],
   "source": [
    "zone_column_rename_mapping = {\n",
    "    \"LocationID\": \"location_id\",\n",
    "    \"Borough\": \"borough\",\n",
    "    \"Zone\": \"zone\",\n",
    "}\n",
    "zones_df = (\n",
    "    pl.read_parquet(\"../data/taxi_zone_lookup.parquet\")\n",
    "    .rename(zone_column_rename_mapping)\n",
    ")"
   ]
  },
  {
   "cell_type": "code",
   "execution_count": 3,
   "id": "adb7a494-c830-47a0-94a5-fc4e303a92f5",
   "metadata": {},
   "outputs": [],
   "source": [
    "yellow_rides_column_rename_mapping = {\n",
    "    \"VendorID\": \"vendor_id\",\n",
    "    \"RatecodeID\": \"ratecode_id\",\n",
    "    \"PULocationID\": \"pu_location_id\",\n",
    "    \"DOLocationID\": \"do_location_id\",\n",
    "    \"Airport_fee\": \"airport_fee\",\n",
    "}\n",
    "\n",
    "rides_df_raw = (\n",
    "    pl.read_parquet(\"../data/yellow_tripdata_2024-03.parquet\")\n",
    "    .rename(yellow_rides_column_rename_mapping)\n",
    "    .join(\n",
    "        zones_df.select(pl.all().name.prefix(\"pu_\")),\n",
    "        on=\"pu_location_id\",\n",
    "    )\n",
    "    .join(\n",
    "        zones_df.select(pl.all().name.prefix(\"do_\")),\n",
    "        on=\"do_location_id\",\n",
    "    )\n",
    ")"
   ]
  },
  {
   "cell_type": "markdown",
   "id": "74ea04d2-31f8-45c4-b498-0c4771b09efe",
   "metadata": {},
   "source": [
    "## 9.1 Question 1: Feature Least Correlated with Passenger Count"
   ]
  },
  {
   "cell_type": "markdown",
   "id": "de56260d-a11a-4792-90d6-8c0ba7b040b6",
   "metadata": {},
   "source": [
    "Using `rides_df_raw`, which feature is least correlated with `passenger_count` (either negatively or positively)? (Hint: You might need the polars function for absolute value, `.abs()`; also, remember to filter out `null` values as done in the module!)"
   ]
  },
  {
   "cell_type": "code",
   "execution_count": 4,
   "id": "aa3111d8-3a00-403d-a126-dce516fd3432",
   "metadata": {},
   "outputs": [
    {
     "data": {
      "text/html": [
       "<div><style>\n",
       ".dataframe > thead > tr,\n",
       ".dataframe > tbody > tr {\n",
       "  text-align: right;\n",
       "  white-space: pre-wrap;\n",
       "}\n",
       "</style>\n",
       "<small>shape: (2, 2)</small><table border=\"1\" class=\"dataframe\"><thead><tr><th></th><th>passenger_count</th></tr><tr><td>str</td><td>f64</td></tr></thead><tbody><tr><td>&quot;trip_distance&quot;</td><td>0.000956</td></tr><tr><td>&quot;improvement_surcharge&quot;</td><td>-0.003378</td></tr></tbody></table></div>"
      ],
      "text/plain": [
       "shape: (2, 2)\n",
       "┌───────────────────────┬─────────────────┐\n",
       "│                       ┆ passenger_count │\n",
       "│ ---                   ┆ ---             │\n",
       "│ str                   ┆ f64             │\n",
       "╞═══════════════════════╪═════════════════╡\n",
       "│ trip_distance         ┆ 0.000956        │\n",
       "│ improvement_surcharge ┆ -0.003378       │\n",
       "└───────────────────────┴─────────────────┘"
      ]
     },
     "execution_count": 4,
     "metadata": {},
     "output_type": "execute_result"
    }
   ],
   "source": [
    "#### YOUR CODE HERE"
   ]
  },
  {
   "cell_type": "markdown",
   "id": "ad328c95-dac2-4d7a-8380-798d4498dde0",
   "metadata": {},
   "source": [
    "1. `passenger_count`\n",
    "2. `extra`\n",
    "3. `trip_distance`\n",
    "4. `vendor_id`"
   ]
  },
  {
   "cell_type": "markdown",
   "id": "4b8d5c0f-f8c7-46f6-b400-3e42262042e0",
   "metadata": {},
   "source": [
    "## 9.2 Question 2: Total Amount vs Trip Distance Plot Analysis"
   ]
  },
  {
   "cell_type": "markdown",
   "id": "fe6e0f55-a4dd-4c00-b1bd-866dbb78bce3",
   "metadata": {},
   "source": [
    "Plot `total_amount` as a function of `trip_distance`. Which statements about the plot are true?"
   ]
  },
  {
   "cell_type": "code",
   "execution_count": 5,
   "id": "d7acfaa5-6ce4-403a-a17e-6331fa756f11",
   "metadata": {},
   "outputs": [
    {
     "ename": "TypeError",
     "evalue": "'DataFramePlot' object is not callable",
     "output_type": "error",
     "traceback": [
      "\u001b[0;31m---------------------------------------------------------------------------\u001b[0m",
      "\u001b[0;31mTypeError\u001b[0m                                 Traceback (most recent call last)",
      "Cell \u001b[0;32mIn[5], line 2\u001b[0m\n\u001b[1;32m      1\u001b[0m \u001b[38;5;66;03m#### YOUR CODE HERE\u001b[39;00m\n\u001b[0;32m----> 2\u001b[0m \u001b[43mrides_df_raw\u001b[49m\u001b[38;5;241;43m.\u001b[39;49m\u001b[43msample\u001b[49m\u001b[43m(\u001b[49m\u001b[38;5;241;43m10000\u001b[39;49m\u001b[43m)\u001b[49m\u001b[38;5;241;43m.\u001b[39;49m\u001b[43mplot\u001b[49m\u001b[43m(\u001b[49m\u001b[43mx\u001b[49m\u001b[38;5;241;43m=\u001b[39;49m\u001b[38;5;124;43m\"\u001b[39;49m\u001b[38;5;124;43mtrip_distance\u001b[39;49m\u001b[38;5;124;43m\"\u001b[39;49m\u001b[43m,\u001b[49m\u001b[43m \u001b[49m\u001b[43my\u001b[49m\u001b[38;5;241;43m=\u001b[39;49m\u001b[38;5;124;43m\"\u001b[39;49m\u001b[38;5;124;43mtotal_amount\u001b[39;49m\u001b[38;5;124;43m\"\u001b[39;49m\u001b[43m,\u001b[49m\u001b[43m \u001b[49m\u001b[43mkind\u001b[49m\u001b[38;5;241;43m=\u001b[39;49m\u001b[38;5;124;43m\"\u001b[39;49m\u001b[38;5;124;43mscatter\u001b[39;49m\u001b[38;5;124;43m\"\u001b[39;49m\u001b[43m)\u001b[49m\n",
      "\u001b[0;31mTypeError\u001b[0m: 'DataFramePlot' object is not callable"
     ]
    }
   ],
   "source": [
    "#### YOUR CODE HERE"
   ]
  },
  {
   "cell_type": "markdown",
   "id": "b0bc051f-191e-4f18-85fa-064831113f6a",
   "metadata": {},
   "source": [
    "1. There is a second sub-majority of the data which adheres to a correlation line which has a slope of approximately $20/mile - $22/mile\n",
    "2. The majority of the data adheres to a correlation line which has a slope of approximately $5/mile - $7/mile\n",
    "3. Some rides appear to have a negative trip distance\n",
    "4. A non-negligible minority of the data appears to have a trip distance of exactly 0"
   ]
  },
  {
   "cell_type": "markdown",
   "id": "5f23735d-5dd6-4d65-b932-282a5f8d53e2",
   "metadata": {},
   "source": [
    "## 9.3 Question 3: Fare Amount Distribution Analysis"
   ]
  },
  {
   "cell_type": "markdown",
   "id": "21cc126a-f97d-409d-a3ad-9fb4a40b93c4",
   "metadata": {},
   "source": [
    "Plot an ECDF of `fare_amount`. Is the resultant distribution unimodal or multimodal (i.e. is there one peak to the distribution or multiple)? (Hint: exclude any noisy spikes!)"
   ]
  },
  {
   "cell_type": "code",
   "execution_count": null,
   "id": "f0f31c09-16e5-49c1-80c9-f521ad53c651",
   "metadata": {},
   "outputs": [],
   "source": [
    "#### YOUR CODE HERE"
   ]
  },
  {
   "cell_type": "markdown",
   "id": "d65bbf8f-26bc-457d-b44e-a9f2c3fcd7da",
   "metadata": {},
   "source": [
    "1. Unimodal\n",
    "2. Multimodal"
   ]
  },
  {
   "cell_type": "markdown",
   "id": "f5d7a9fa-7b0a-484a-825c-03f1f20cc933",
   "metadata": {},
   "source": [
    "## 9.4 Question 4: Mean Absolute Error Calculation"
   ]
  },
  {
   "cell_type": "markdown",
   "id": "47ab3853-15f8-41fb-a829-a1b819a73c57",
   "metadata": {},
   "source": [
    "Given the following toy DataFrame of `y_predicted` and `y_truth`, measure the `mean_absolute_error`. True or False: the result is greater than .5. (Hint: use the `sklearn` implementation of `mean_absolute_error`.)"
   ]
  },
  {
   "cell_type": "code",
   "execution_count": null,
   "id": "895a787d-855e-47fb-9c46-247b8ad4bb30",
   "metadata": {},
   "outputs": [],
   "source": [
    "toy_result_df = pl.DataFrame({\n",
    "    \"y_predicted\": [0, 1, 0, 0, 1, 0, 1, 0, 1, 1, 0, 1, 0, 1, 1, 0, 1, 0, 1, 0, 0, 0, 1, 0, 1, 0, 1, 1, 1, 0, 1, 1, 0, 0, 1, 0, 1, ],\n",
    "    \"y_truth\": [1, 1, 0, 1, 0, 1, 0, 1, 0, 1, 1, 0, 1, 0, 1, 0, 1, 0, 1, 0, 1, 1, 1, 1, 0, 1, 0, 1, 0, 1, 0, 1, 1, 0, 1, 0, 1, ]\n",
    "})\n",
    "#### YOUR CODE HERE"
   ]
  },
  {
   "cell_type": "markdown",
   "id": "963fc3f5-143c-4ec3-81f8-f19c2b1bd0b7",
   "metadata": {},
   "source": [
    "1. True\n",
    "2. False"
   ]
  },
  {
   "cell_type": "markdown",
   "id": "b71af248-2399-4ace-8775-2ba970b5902a",
   "metadata": {},
   "source": [
    "## 9.5 Question 5: Sampling DataFrame with Fraction"
   ]
  },
  {
   "cell_type": "markdown",
   "id": "158d56b3-0b1f-4a9d-b081-c0dfe1c319e0",
   "metadata": {},
   "source": [
    "In the module, we reviewed the function `.sample()`, and used it to reduce our data to a fixed number of rows; to this end, we passed in simply the number of rows that we wanted in the result with e.g. `.sample(10000)`. However, `.sample()` also provides the option to pass in a fraction of rows, with `.sample(fraction=X)`, where `X` must be between 0 and 1. Use this new way of using the function to reduce the data to 2% of its original size. What is the shape of the result?"
   ]
  },
  {
   "cell_type": "code",
   "execution_count": null,
   "id": "5c580370-48f7-45b4-bfc3-eecf395dbcfd",
   "metadata": {},
   "outputs": [],
   "source": [
    "result = (\n",
    "    rides_df_raw\n",
    "    #### YOUR CODE HERE\n",
    ")\n",
    "print(result)"
   ]
  },
  {
   "cell_type": "markdown",
   "id": "9b40bf55-ab2a-42e4-8b84-31673f11c9a2",
   "metadata": {},
   "source": [
    "1. 3582628\n",
    "2. 2\n",
    "3. 0\n",
    "4. 71652"
   ]
  }
 ],
 "metadata": {
  "kernelspec": {
   "display_name": "Python 3 (ipykernel)",
   "language": "python",
   "name": "python3"
  },
  "language_info": {
   "codemirror_mode": {
    "name": "ipython",
    "version": 3
   },
   "file_extension": ".py",
   "mimetype": "text/x-python",
   "name": "python",
   "nbconvert_exporter": "python",
   "pygments_lexer": "ipython3",
   "version": "3.12.3"
  }
 },
 "nbformat": 4,
 "nbformat_minor": 5
}
