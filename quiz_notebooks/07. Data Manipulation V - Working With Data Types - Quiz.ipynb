{
 "cells": [
  {
   "cell_type": "markdown",
   "id": "1653908d",
   "metadata": {},
   "source": [
    "# 7. Data Manipulation V - Working With Data Types - Quiz"
   ]
  },
  {
   "cell_type": "markdown",
   "id": "97a37bab",
   "metadata": {},
   "source": [
    "## 7.0. Import `polars` and Load Data"
   ]
  },
  {
   "cell_type": "code",
   "execution_count": 1,
   "id": "9f2da0ab",
   "metadata": {},
   "outputs": [],
   "source": [
    "import polars as pl"
   ]
  },
  {
   "cell_type": "code",
   "execution_count": 2,
   "id": "37f2cb81",
   "metadata": {},
   "outputs": [],
   "source": [
    "zone_column_rename_mapping = {\n",
    "    \"LocationID\": \"location_id\",\n",
    "    \"Borough\": \"borough\",\n",
    "    \"Zone\": \"zone\",\n",
    "}\n",
    "zones_df = (\n",
    "    pl.read_parquet(\"../data/taxi_zone_lookup.parquet\")\n",
    "    .rename(zone_column_rename_mapping)\n",
    ")"
   ]
  },
  {
   "cell_type": "code",
   "execution_count": 3,
   "id": "adb7a494-c830-47a0-94a5-fc4e303a92f5",
   "metadata": {},
   "outputs": [],
   "source": [
    "yellow_rides_column_rename_mapping = {\n",
    "    \"VendorID\": \"vendor_id\",\n",
    "    \"RatecodeID\": \"ratecode_id\",\n",
    "    \"PULocationID\": \"pu_location_id\",\n",
    "    \"DOLocationID\": \"do_location_id\",\n",
    "    \"Airport_fee\": \"airport_fee\",\n",
    "}\n",
    "\n",
    "rides_df = (\n",
    "    pl.read_parquet(\"../data/yellow_tripdata_2024-03.parquet\")\n",
    "    .rename(yellow_rides_column_rename_mapping)\n",
    "    .join(\n",
    "        zones_df.select(pl.all().name.prefix(\"pu_\")),\n",
    "        on=\"pu_location_id\",\n",
    "    )\n",
    "    .join(\n",
    "        zones_df.select(pl.all().name.prefix(\"do_\")),\n",
    "        on=\"do_location_id\",\n",
    "    )\n",
    ")"
   ]
  },
  {
   "cell_type": "markdown",
   "id": "74ea04d2-31f8-45c4-b498-0c4771b09efe",
   "metadata": {},
   "source": [
    "## 7.1 Question 1: Highest Average Fare by Day and Hour"
   ]
  },
  {
   "cell_type": "markdown",
   "id": "d9cf6567-2272-4968-ab6b-11e44ada89b3",
   "metadata": {},
   "source": [
    "Extract the day of the week (as a string) and the hour from the `tpep_pickup_datetime` column. Then, calculate the average fare amount for each day-hour combination. Finally, sort the results by average fare amount. Which day-hour combination has the highest average fare amount?"
   ]
  },
  {
   "cell_type": "code",
   "execution_count": 4,
   "id": "4dc3aa8f-b099-4216-8381-65745b64e97e",
   "metadata": {},
   "outputs": [
    {
     "name": "stdout",
     "output_type": "stream",
     "text": [
      "shape: (168, 3)\n",
      "┌─────────────┬──────┬───────────┐\n",
      "│ day_of_week ┆ hour ┆ avg_fare  │\n",
      "│ ---         ┆ ---  ┆ ---       │\n",
      "│ i8          ┆ i8   ┆ f64       │\n",
      "╞═════════════╪══════╪═══════════╡\n",
      "│ 3           ┆ 4    ┆ 28.732735 │\n",
      "│ 2           ┆ 4    ┆ 28.361275 │\n",
      "│ 1           ┆ 4    ┆ 28.345536 │\n",
      "│ 1           ┆ 1    ┆ 28.123612 │\n",
      "│ 7           ┆ 23   ┆ 27.736774 │\n",
      "│ …           ┆ …    ┆ …         │\n",
      "│ 6           ┆ 10   ┆ 15.954722 │\n",
      "│ 6           ┆ 1    ┆ 15.582336 │\n",
      "│ 6           ┆ 3    ┆ 15.483906 │\n",
      "│ 7           ┆ 2    ┆ 15.34928  │\n",
      "│ 6           ┆ 2    ┆ 14.980229 │\n",
      "└─────────────┴──────┴───────────┘\n"
     ]
    }
   ],
   "source": [
    "result = (\n",
    "    rides_df\n",
    "    #### YOUR CODE HERE\n",
    ")\n",
    "print(result)"
   ]
  },
  {
   "cell_type": "markdown",
   "id": "e0290583-c669-439c-ac50-c078b672031d",
   "metadata": {},
   "source": [
    "1. day=6, hour=2\n",
    "2. day=3, hour=4\n",
    "3. day=7, hour=23\n",
    "4. day=1, hour=0"
   ]
  },
  {
   "cell_type": "markdown",
   "id": "567cdca5-7ec2-466f-b616-f52c58e6c9ed",
   "metadata": {},
   "source": [
    "## 7.2 Question 2: Dropoff Zone with Longest Trip Duration"
   ]
  },
  {
   "cell_type": "markdown",
   "id": "9869640a-19e2-453c-b49a-37df74fdbbb2",
   "metadata": {},
   "source": [
    "Which `do_zone` has the highest trip duration (where \"trip duration\" is measured as the `.total_seconds()` between `tpep_pickup_datetime` and `tpep_dropoff_datetime`)?"
   ]
  },
  {
   "cell_type": "code",
   "execution_count": 5,
   "id": "e04bf6f9-51e1-4ae8-a2c5-0d9876a6ca70",
   "metadata": {},
   "outputs": [
    {
     "name": "stdout",
     "output_type": "stream",
     "text": [
      "shape: (1, 2)\n",
      "┌─────────────────────────────────┬───────────────┐\n",
      "│ do_zone                         ┆ trip_duration │\n",
      "│ ---                             ┆ ---           │\n",
      "│ str                             ┆ i64           │\n",
      "╞═════════════════════════════════╪═══════════════╡\n",
      "│ Saint Michaels Cemetery/Woodsi… ┆ 545553        │\n",
      "└─────────────────────────────────┴───────────────┘\n"
     ]
    }
   ],
   "source": [
    "result = (\n",
    "    rides_df\n",
    "    #### YOUR CODE HERE\n",
    ")\n",
    "print(result)"
   ]
  },
  {
   "cell_type": "markdown",
   "id": "b9c7e0e8-310c-4bd7-b9ce-37c468a151b2",
   "metadata": {},
   "source": [
    "1. Saint Michaels Cemetery/Woodside\n",
    "2. Midtown Center\n",
    "3. 207\n",
    "4. Woodside"
   ]
  },
  {
   "cell_type": "markdown",
   "id": "23353481-61ff-4dea-9436-33059a930c4f",
   "metadata": {},
   "source": [
    "## 7.3 Question 3: Pickup Location with Most Diverse Dropoff Zones"
   ]
  },
  {
   "cell_type": "markdown",
   "id": "b4fb20c9-38a7-448c-a522-0a1274ff82a8",
   "metadata": {},
   "source": [
    "With a group-by in `polars`, instead of finding some aggregate summary statistic for each group, you can also collect all the elements for each group into a list by simply passing in the column you'd like to aggregate to a list as a name (see below). With this, for each `pu_location_id`, make a column that aggregates all the `do_zones` associated with that `pu_location_id`; what is the `pu_location_id` with the longest list of associated `do_zone`s (hint: use the `.list` namespace)?"
   ]
  },
  {
   "cell_type": "code",
   "execution_count": 6,
   "id": "2cece8b2-6efd-4092-bd1b-232b2ff9e929",
   "metadata": {},
   "outputs": [
    {
     "name": "stdout",
     "output_type": "stream",
     "text": [
      "shape: (259, 2)\n",
      "┌────────────────┬─────────────────────────────────┐\n",
      "│ pu_location_id ┆ do_zone                         │\n",
      "│ ---            ┆ ---                             │\n",
      "│ i32            ┆ list[str]                       │\n",
      "╞════════════════╪═════════════════════════════════╡\n",
      "│ 161            ┆ [\"Lenox Hill West\", \"Greenwich… │\n",
      "│ 132            ┆ [\"South Jamaica\", \"Clinton Hil… │\n",
      "│ 237            ┆ [\"Lenox Hill West\", \"Union Sq\"… │\n",
      "│ 236            ┆ [\"Upper East Side South\", \"Blo… │\n",
      "│ 162            ┆ [\"Flatiron\", \"Midtown Center\",… │\n",
      "│ …              ┆ …                               │\n",
      "│ 199            ┆ [\"Midtown Center\", \"Times Sq/T… │\n",
      "│ 84             ┆ [\"Sheepshead Bay\"]              │\n",
      "│ 156            ┆ [\"Coney Island\"]                │\n",
      "│ 109            ┆ [\"Great Kills\"]                 │\n",
      "│ 5              ┆ [\"Arden Heights\"]               │\n",
      "└────────────────┴─────────────────────────────────┘\n"
     ]
    }
   ],
   "source": [
    "result = (\n",
    "    rides_df\n",
    "    .group_by(\"pu_location_id\")\n",
    "    .agg(pl.col(\"do_zone\"))\n",
    "    #### YOUR CODE HERE\n",
    ")\n",
    "print(result)"
   ]
  },
  {
   "cell_type": "markdown",
   "id": "98c4885a-5557-47f9-a253-129ec155a0d2",
   "metadata": {},
   "source": [
    "1. 161\n",
    "2. 5\n",
    "3. Midtown Center\n",
    "4. Arden Heights"
   ]
  },
  {
   "cell_type": "markdown",
   "id": "54baa7ba-6824-4bf6-b1e1-aa92bf006b5c",
   "metadata": {},
   "source": [
    "## 7.4 Question 4: Most Common Second Word in Zone Names"
   ]
  },
  {
   "cell_type": "markdown",
   "id": "f630019a-9cf1-4a3f-9b1e-3272124cde99",
   "metadata": {},
   "source": [
    "Using just `zones_df`, split `zone` into a list on `\" \"` as seen during the module, and take the 2nd element of every list using `.list.get()`. Then, using `group_by`, answer the question--what is the most commonly occurring second word in `zones_df` (excluding `null`)?"
   ]
  },
  {
   "cell_type": "code",
   "execution_count": 9,
   "id": "b700b131-89f8-4b70-a199-5370f95973a7",
   "metadata": {},
   "outputs": [
    {
     "name": "stdout",
     "output_type": "stream",
     "text": [
      "shape: (11, 2)\n",
      "┌───────────────┬────────────────┐\n",
      "│ zone_splitted ┆ num_occurences │\n",
      "│ ---           ┆ ---            │\n",
      "│ str           ┆ u32            │\n",
      "╞═══════════════╪════════════════╡\n",
      "│ null          ┆ 250            │\n",
      "│ North         ┆ 3              │\n",
      "│ Island        ┆ 3              │\n",
      "│ South         ┆ 2              │\n",
      "│ West          ┆ 1              │\n",
      "│ …             ┆ …              │\n",
      "│ Plaza         ┆ 1              │\n",
      "│ Village       ┆ 1              │\n",
      "│ Avenue        ┆ 1              │\n",
      "│ Beach         ┆ 1              │\n",
      "│ Point         ┆ 1              │\n",
      "└───────────────┴────────────────┘\n"
     ]
    }
   ],
   "source": [
    "result = (\n",
    "    zones_df\n",
    "    .with_columns(pl.col(\"zone\").str.split(\" \").alias(\"zone_splitted\"))\n",
    "    #### YOUR CODE HERE\n",
    ")\n",
    "print(result)"
   ]
  },
  {
   "cell_type": "markdown",
   "id": "55621bae-60cc-433f-89df-1b51fefebe1e",
   "metadata": {},
   "source": [
    "1. Park\n",
    "2. `null`\n",
    "3. East\n",
    "4. North"
   ]
  },
  {
   "cell_type": "markdown",
   "id": "f2920821-640e-4b3a-814f-f2214e2ef2db",
   "metadata": {},
   "source": [
    "## 7.7 Question 7: Zones Containing 'North'"
   ]
  },
  {
   "cell_type": "markdown",
   "id": "7d079632-4f93-43b8-84b4-bac19a09e76c",
   "metadata": {},
   "source": [
    "How many zones in `zones_df` contain the word \"North\"?"
   ]
  },
  {
   "cell_type": "code",
   "execution_count": 33,
   "id": "d87bd262-ebad-4b38-9619-ca10c0b9b106",
   "metadata": {},
   "outputs": [
    {
     "name": "stdout",
     "output_type": "stream",
     "text": [
      "shape: (1, 1)\n",
      "┌──────┐\n",
      "│ zone │\n",
      "│ ---  │\n",
      "│ u32  │\n",
      "╞══════╡\n",
      "│ 15   │\n",
      "└──────┘\n"
     ]
    }
   ],
   "source": [
    "result = (\n",
    "    zones_df\n",
    "    #### YOUR CODE HERE\n",
    ")\n",
    "print(result)"
   ]
  },
  {
   "cell_type": "markdown",
   "id": "10a2aa93-3798-4fc5-9206-b444a291afdd",
   "metadata": {},
   "source": [
    "1. 15\n",
    "2. 0\n",
    "3. 265\n",
    "4. 19"
   ]
  },
  {
   "cell_type": "markdown",
   "id": "fcc2aba1-cc70-4125-855d-f4d771a45064",
   "metadata": {},
   "source": [
    "## 7.8 Question 8: Most Common First Word in Zone Names (Reversed)"
   ]
  },
  {
   "cell_type": "markdown",
   "id": "bef44f27-453f-41e0-825a-e2f1ec1b7753",
   "metadata": {},
   "source": [
    "For `zones_df`, what is the most common `0th` word in the `zone` column, spelled in reverse? (Hint: split the `zone` column by `\" \"` into a list of strings; then, take the `0th` element of each list in that column, and apply `.str.reverse()` to it.)"
   ]
  },
  {
   "cell_type": "code",
   "execution_count": 37,
   "id": "316b6b82-05eb-45b0-87eb-4a605cce86ff",
   "metadata": {},
   "outputs": [
    {
     "name": "stdout",
     "output_type": "stream",
     "text": [
      "shape: (195, 2)\n",
      "┌─────────────┬─────────────────┐\n",
      "│ zone        ┆ num_occurrences │\n",
      "│ ---         ┆ ---             │\n",
      "│ str         ┆ u32             │\n",
      "╞═════════════╪═════════════════╡\n",
      "│ tsaE        ┆ 13              │\n",
      "│ tseW        ┆ 5               │\n",
      "│ nwotdiM     ┆ 4               │\n",
      "│ htuoS       ┆ 4               │\n",
      "│ reppU       ┆ 4               │\n",
      "│ …           ┆ …               │\n",
      "│ noskcaJ     ┆ 1               │\n",
      "│ dlroW       ┆ 1               │\n",
      "│ sdnaltalF   ┆ 1               │\n",
      "│ hgielretseW ┆ 1               │\n",
      "│ sserpyC     ┆ 1               │\n",
      "└─────────────┴─────────────────┘\n"
     ]
    }
   ],
   "source": [
    "result = (\n",
    "    zones_df\n",
    "    #### YOUR CODE HERE\n",
    ")\n",
    "print(result)"
   ]
  },
  {
   "cell_type": "markdown",
   "id": "913f6c6e-da9c-402d-a957-7eead3536dc6",
   "metadata": {},
   "source": [
    "1. East\n",
    "2. tseW\n",
    "3. kraP\n",
    "4. tsaE"
   ]
  }
 ],
 "metadata": {
  "kernelspec": {
   "display_name": "Python 3 (ipykernel)",
   "language": "python",
   "name": "python3"
  },
  "language_info": {
   "codemirror_mode": {
    "name": "ipython",
    "version": 3
   },
   "file_extension": ".py",
   "mimetype": "text/x-python",
   "name": "python",
   "nbconvert_exporter": "python",
   "pygments_lexer": "ipython3",
   "version": "3.12.3"
  }
 },
 "nbformat": 4,
 "nbformat_minor": 5
}
