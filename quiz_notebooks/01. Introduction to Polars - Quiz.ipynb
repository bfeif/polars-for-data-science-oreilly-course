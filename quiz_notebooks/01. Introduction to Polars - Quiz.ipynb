{
 "cells": [
  {
   "cell_type": "markdown",
   "id": "0",
   "metadata": {},
   "source": [
    "# 1. Introduction to Polars - Quiz"
   ]
  },
  {
   "cell_type": "markdown",
   "id": "1",
   "metadata": {},
   "source": [
    "## 1.1. Question 1: Polars Implementation Language"
   ]
  },
  {
   "cell_type": "markdown",
   "id": "2",
   "metadata": {},
   "source": [
    "What language is Polars implemented in?"
   ]
  },
  {
   "cell_type": "markdown",
   "id": "3",
   "metadata": {},
   "source": [
    "1. Rust\n",
    "2. C\n",
    "3. Python\n",
    "4. R\n"
   ]
  },
  {
   "cell_type": "markdown",
   "id": "4",
   "metadata": {},
   "source": [
    "## 1.2. Question 2: Common Polars Use-case"
   ]
  },
  {
   "cell_type": "markdown",
   "id": "5",
   "metadata": {},
   "source": [
    "Which is the most common use case for Polars?"
   ]
  },
  {
   "cell_type": "markdown",
   "id": "6",
   "metadata": {},
   "source": [
    "1. Single node computing\n",
    "2. Distributed computing"
   ]
  },
  {
   "cell_type": "markdown",
   "id": "7",
   "metadata": {},
   "source": [
    "## 1.3. Question 3: Polars Multi-core Configuration"
   ]
  },
  {
   "cell_type": "markdown",
   "id": "8",
   "metadata": {},
   "source": [
    "What must you do to configure Polars such that its query optimization engine uses all cores available on the host machine?"
   ]
  },
  {
   "cell_type": "markdown",
   "id": "9",
   "metadata": {},
   "source": [
    "1. Specify a backend engine for distributing queries.\n",
    "2. Enter some information about the OS's specifics into a configuration file, which Polars will then use to distribute resources.\n",
    "3. Nothing—Polars uses all available cores right out of the box.\n",
    "4. Specify the number of cores on the local machine when importing Polars."
   ]
  },
  {
   "cell_type": "markdown",
   "id": "10",
   "metadata": {},
   "source": [
    "## 1.4. Question 4: Polars Underlying Memory Model"
   ]
  },
  {
   "cell_type": "markdown",
   "id": "11",
   "metadata": {},
   "source": [
    "What does Polars use as its underlying memory model?"
   ]
  },
  {
   "cell_type": "markdown",
   "id": "12",
   "metadata": {},
   "source": [
    "1. Apache Arrow\n",
    "2. Rust\n",
    "3. Python\n",
    "4. Online analytical processing (OLAP)"
   ]
  },
  {
   "cell_type": "markdown",
   "id": "13",
   "metadata": {},
   "source": [
    "## 1.5. Question 5: Apache Arrow Memory Model Optimization"
   ]
  },
  {
   "cell_type": "markdown",
   "id": "14",
   "metadata": {},
   "source": [
    "How is the Apache Arrow memory model optimized for column-oriented online analytical processing (OLAP) use cases?"
   ]
  },
  {
   "cell_type": "markdown",
   "id": "15",
   "metadata": {},
   "source": [
    "1. Data from the same column is placed close together in memory.\n",
    "2. Data from the same row is placed close together in memory.\n",
    "3. The data's storage location is close to the data's processing location.\n",
    "4. Data gets sorted before processing."
   ]
  }
 ],
 "metadata": {
  "kernelspec": {
   "display_name": "Python 3 (ipykernel)",
   "language": "python",
   "name": "python3"
  },
  "language_info": {
   "codemirror_mode": {
    "name": "ipython",
    "version": 3
   },
   "file_extension": ".py",
   "mimetype": "text/x-python",
   "name": "python",
   "nbconvert_exporter": "python",
   "pygments_lexer": "ipython3",
   "version": "3.12.6"
  }
 },
 "nbformat": 4,
 "nbformat_minor": 5
}
