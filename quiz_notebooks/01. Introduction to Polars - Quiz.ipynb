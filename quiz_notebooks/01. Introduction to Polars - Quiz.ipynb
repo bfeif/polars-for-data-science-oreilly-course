{
 "cells": [
  {
   "cell_type": "markdown",
   "id": "1653908d",
   "metadata": {},
   "source": [
    "# 1. Introduction to Polars - Quiz"
   ]
  },
  {
   "cell_type": "markdown",
   "id": "dff3475d",
   "metadata": {},
   "source": [
    "## 1.1. Question 1: Polars Implementation Language"
   ]
  },
  {
   "cell_type": "markdown",
   "id": "7c8396d2",
   "metadata": {},
   "source": [
    "What language is Polars implemented in?"
   ]
  },
  {
   "cell_type": "markdown",
   "id": "0d3a4fe9-d2c5-4094-8427-fe226b59257b",
   "metadata": {},
   "source": [
    "1. Rust\n",
    "2. C\n",
    "3. Python\n",
    "4. R\n"
   ]
  },
  {
   "cell_type": "markdown",
   "id": "e9701ec5-4c01-4621-b23d-237eb65bc0e9",
   "metadata": {},
   "source": [
    "## 1.2. Question 2: Common Polars Use-case"
   ]
  },
  {
   "cell_type": "markdown",
   "id": "f2bc1536-0d97-41ae-8f90-f09c2d858e01",
   "metadata": {},
   "source": [
    "Which is the most common use case for Polars?"
   ]
  },
  {
   "cell_type": "markdown",
   "id": "35a4c508-03cd-4a2d-a83e-48bf8b755d2c",
   "metadata": {},
   "source": [
    "1. Single node computing\n",
    "2. Distributed computing"
   ]
  },
  {
   "cell_type": "markdown",
   "id": "092c81d2-1f4c-4d61-bce2-5702cc1fa583",
   "metadata": {},
   "source": [
    "## 1.3. Question 3: Polars Multi-core Configuration"
   ]
  },
  {
   "cell_type": "markdown",
   "id": "8af9c4fa-312c-434b-97d2-622167afdc23",
   "metadata": {},
   "source": [
    "What must you do to configure Polars such that its query optimization engine uses all cores available on the host machine?"
   ]
  },
  {
   "cell_type": "markdown",
   "id": "834be37b-74a4-4de0-836f-78fb44662dfc",
   "metadata": {},
   "source": [
    "1. Specify a backend engine for distributing queries.\n",
    "2. Enter some information about the OS's specifics into a configuration file, which Polars will then use to distribute resources.\n",
    "3. Nothing—Polars uses all available cores right out of the box.\n",
    "4. Specify the number of cores on the local machine when importing Polars."
   ]
  },
  {
   "cell_type": "markdown",
   "id": "2b6729df-a718-4a7f-8e47-74aaa4996c39",
   "metadata": {},
   "source": [
    "## 1.4. Question 4: Polars Underlying Memory Model"
   ]
  },
  {
   "cell_type": "markdown",
   "id": "021ac3a8-acd0-4c5e-b706-a4dd986c528c",
   "metadata": {},
   "source": [
    "What does Polars use as its underlying memory model?"
   ]
  },
  {
   "cell_type": "markdown",
   "id": "89d34726-4296-42f9-92e1-98b9b4d193df",
   "metadata": {},
   "source": [
    "1. Apache Arrow\n",
    "2. Rust\n",
    "3. Python\n",
    "4. Online analytical processing (OLAP)"
   ]
  },
  {
   "cell_type": "markdown",
   "id": "c482d643-bb02-4d7a-9eda-8af3f4258b5c",
   "metadata": {},
   "source": [
    "## 1.5. Question 5: Apache Arrow Memory Model Optimization"
   ]
  },
  {
   "cell_type": "markdown",
   "id": "b1e19c17-90d8-4cde-be66-5a8674953c87",
   "metadata": {},
   "source": [
    "How is the Apache Arrow memory model optimized for column-oriented online analytical processing (OLAP) use cases?"
   ]
  },
  {
   "cell_type": "markdown",
   "id": "33d1ab49-1ce4-4611-a1d2-39a136369781",
   "metadata": {},
   "source": [
    "1. Data from the same column is placed close together in memory.\n",
    "2. Data from the same row is placed close together in memory.\n",
    "3. The data's storage location is close to the data's processing location.\n",
    "4. Data gets sorted before processing."
   ]
  }
 ],
 "metadata": {
  "kernelspec": {
   "display_name": "Python 3 (ipykernel)",
   "language": "python",
   "name": "python3"
  },
  "language_info": {
   "codemirror_mode": {
    "name": "ipython",
    "version": 3
   },
   "file_extension": ".py",
   "mimetype": "text/x-python",
   "name": "python",
   "nbconvert_exporter": "python",
   "pygments_lexer": "ipython3",
   "version": "3.12.6"
  }
 },
 "nbformat": 4,
 "nbformat_minor": 5
}
